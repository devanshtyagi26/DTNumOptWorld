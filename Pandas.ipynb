{
  "cells": [
    {
      "cell_type": "code",
      "execution_count": 1,
      "metadata": {
        "editable": true,
        "slideshow": {
          "slide_type": ""
        },
        "tags": [],
        "trusted": true
      },
      "outputs": [],
      "source": [
        "import pandas as pd;\n",
        "import numpy as np;"
      ]
    },
    {
      "cell_type": "code",
      "execution_count": 4,
      "metadata": {
        "trusted": true
      },
      "outputs": [],
      "source": [
        "dict1 = {\n",
        "    \"Name\": [\"Devansh\", \"Ravi\", \"David\", \"Vasu\"],\n",
        "    \"Marks\": [98,65,76,84],\n",
        "    \"Class\": [12,11,9,7]\n",
        "}"
      ]
    },
    {
      "cell_type": "code",
      "execution_count": 7,
      "metadata": {
        "trusted": true
      },
      "outputs": [
        {
          "data": {
            "text/html": [
              "<div>\n",
              "<style scoped>\n",
              "    .dataframe tbody tr th:only-of-type {\n",
              "        vertical-align: middle;\n",
              "    }\n",
              "\n",
              "    .dataframe tbody tr th {\n",
              "        vertical-align: top;\n",
              "    }\n",
              "\n",
              "    .dataframe thead th {\n",
              "        text-align: right;\n",
              "    }\n",
              "</style>\n",
              "<table border=\"1\" class=\"dataframe\">\n",
              "  <thead>\n",
              "    <tr style=\"text-align: right;\">\n",
              "      <th></th>\n",
              "      <th>Name</th>\n",
              "      <th>Marks</th>\n",
              "      <th>Class</th>\n",
              "    </tr>\n",
              "  </thead>\n",
              "  <tbody>\n",
              "    <tr>\n",
              "      <th>0</th>\n",
              "      <td>Devansh</td>\n",
              "      <td>98</td>\n",
              "      <td>12</td>\n",
              "    </tr>\n",
              "    <tr>\n",
              "      <th>1</th>\n",
              "      <td>Ravi</td>\n",
              "      <td>65</td>\n",
              "      <td>11</td>\n",
              "    </tr>\n",
              "    <tr>\n",
              "      <th>2</th>\n",
              "      <td>David</td>\n",
              "      <td>76</td>\n",
              "      <td>9</td>\n",
              "    </tr>\n",
              "    <tr>\n",
              "      <th>3</th>\n",
              "      <td>Vasu</td>\n",
              "      <td>84</td>\n",
              "      <td>7</td>\n",
              "    </tr>\n",
              "  </tbody>\n",
              "</table>\n",
              "</div>"
            ],
            "text/plain": [
              "      Name  Marks  Class\n",
              "0  Devansh     98     12\n",
              "1     Ravi     65     11\n",
              "2    David     76      9\n",
              "3     Vasu     84      7"
            ]
          },
          "execution_count": 7,
          "metadata": {},
          "output_type": "execute_result"
        }
      ],
      "source": [
        "df = pd.DataFrame(dict1)\n",
        "df"
      ]
    },
    {
      "cell_type": "code",
      "execution_count": 1,
      "metadata": {
        "trusted": true
      },
      "outputs": [
        {
          "ename": "NameError",
          "evalue": "name 'df' is not defined",
          "output_type": "error",
          "traceback": [
            "\u001b[1;31m---------------------------------------------------------------------------\u001b[0m",
            "\u001b[1;31mNameError\u001b[0m                                 Traceback (most recent call last)",
            "Cell \u001b[1;32mIn[1], line 1\u001b[0m\n\u001b[1;32m----> 1\u001b[0m \u001b[43mdf\u001b[49m\u001b[38;5;241m.\u001b[39mto_csv(\u001b[38;5;124m\"\u001b[39m\u001b[38;5;124mdict.csv\u001b[39m\u001b[38;5;124m\"\u001b[39m)\n",
            "\u001b[1;31mNameError\u001b[0m: name 'df' is not defined"
          ]
        }
      ],
      "source": [
        "df.to_csv(\"dict.csv\")"
      ]
    },
    {
      "cell_type": "code",
      "execution_count": 9,
      "metadata": {
        "editable": true,
        "slideshow": {
          "slide_type": ""
        },
        "tags": [],
        "trusted": true
      },
      "outputs": [],
      "source": [
        "df.to_csv(\"dict_no_index.csv\", index = False)"
      ]
    },
    {
      "cell_type": "code",
      "execution_count": 10,
      "metadata": {
        "editable": true,
        "slideshow": {
          "slide_type": ""
        },
        "tags": [],
        "trusted": true
      },
      "outputs": [
        {
          "data": {
            "text/html": [
              "<div>\n",
              "<style scoped>\n",
              "    .dataframe tbody tr th:only-of-type {\n",
              "        vertical-align: middle;\n",
              "    }\n",
              "\n",
              "    .dataframe tbody tr th {\n",
              "        vertical-align: top;\n",
              "    }\n",
              "\n",
              "    .dataframe thead th {\n",
              "        text-align: right;\n",
              "    }\n",
              "</style>\n",
              "<table border=\"1\" class=\"dataframe\">\n",
              "  <thead>\n",
              "    <tr style=\"text-align: right;\">\n",
              "      <th></th>\n",
              "      <th>Name</th>\n",
              "      <th>Marks</th>\n",
              "      <th>Class</th>\n",
              "    </tr>\n",
              "  </thead>\n",
              "  <tbody>\n",
              "    <tr>\n",
              "      <th>0</th>\n",
              "      <td>Devansh</td>\n",
              "      <td>98</td>\n",
              "      <td>12</td>\n",
              "    </tr>\n",
              "    <tr>\n",
              "      <th>1</th>\n",
              "      <td>Ravi</td>\n",
              "      <td>65</td>\n",
              "      <td>11</td>\n",
              "    </tr>\n",
              "  </tbody>\n",
              "</table>\n",
              "</div>"
            ],
            "text/plain": [
              "      Name  Marks  Class\n",
              "0  Devansh     98     12\n",
              "1     Ravi     65     11"
            ]
          },
          "execution_count": 10,
          "metadata": {},
          "output_type": "execute_result"
        }
      ],
      "source": [
        "df.head(2)"
      ]
    },
    {
      "cell_type": "code",
      "execution_count": 11,
      "metadata": {
        "trusted": true
      },
      "outputs": [
        {
          "data": {
            "text/html": [
              "<div>\n",
              "<style scoped>\n",
              "    .dataframe tbody tr th:only-of-type {\n",
              "        vertical-align: middle;\n",
              "    }\n",
              "\n",
              "    .dataframe tbody tr th {\n",
              "        vertical-align: top;\n",
              "    }\n",
              "\n",
              "    .dataframe thead th {\n",
              "        text-align: right;\n",
              "    }\n",
              "</style>\n",
              "<table border=\"1\" class=\"dataframe\">\n",
              "  <thead>\n",
              "    <tr style=\"text-align: right;\">\n",
              "      <th></th>\n",
              "      <th>Name</th>\n",
              "      <th>Marks</th>\n",
              "      <th>Class</th>\n",
              "    </tr>\n",
              "  </thead>\n",
              "  <tbody>\n",
              "    <tr>\n",
              "      <th>2</th>\n",
              "      <td>David</td>\n",
              "      <td>76</td>\n",
              "      <td>9</td>\n",
              "    </tr>\n",
              "    <tr>\n",
              "      <th>3</th>\n",
              "      <td>Vasu</td>\n",
              "      <td>84</td>\n",
              "      <td>7</td>\n",
              "    </tr>\n",
              "  </tbody>\n",
              "</table>\n",
              "</div>"
            ],
            "text/plain": [
              "    Name  Marks  Class\n",
              "2  David     76      9\n",
              "3   Vasu     84      7"
            ]
          },
          "execution_count": 11,
          "metadata": {},
          "output_type": "execute_result"
        }
      ],
      "source": [
        "df.tail(2)"
      ]
    },
    {
      "cell_type": "code",
      "execution_count": 12,
      "metadata": {
        "trusted": true
      },
      "outputs": [
        {
          "data": {
            "text/html": [
              "<div>\n",
              "<style scoped>\n",
              "    .dataframe tbody tr th:only-of-type {\n",
              "        vertical-align: middle;\n",
              "    }\n",
              "\n",
              "    .dataframe tbody tr th {\n",
              "        vertical-align: top;\n",
              "    }\n",
              "\n",
              "    .dataframe thead th {\n",
              "        text-align: right;\n",
              "    }\n",
              "</style>\n",
              "<table border=\"1\" class=\"dataframe\">\n",
              "  <thead>\n",
              "    <tr style=\"text-align: right;\">\n",
              "      <th></th>\n",
              "      <th>Marks</th>\n",
              "      <th>Class</th>\n",
              "    </tr>\n",
              "  </thead>\n",
              "  <tbody>\n",
              "    <tr>\n",
              "      <th>count</th>\n",
              "      <td>4.000000</td>\n",
              "      <td>4.000000</td>\n",
              "    </tr>\n",
              "    <tr>\n",
              "      <th>mean</th>\n",
              "      <td>80.750000</td>\n",
              "      <td>9.750000</td>\n",
              "    </tr>\n",
              "    <tr>\n",
              "      <th>std</th>\n",
              "      <td>13.889444</td>\n",
              "      <td>2.217356</td>\n",
              "    </tr>\n",
              "    <tr>\n",
              "      <th>min</th>\n",
              "      <td>65.000000</td>\n",
              "      <td>7.000000</td>\n",
              "    </tr>\n",
              "    <tr>\n",
              "      <th>25%</th>\n",
              "      <td>73.250000</td>\n",
              "      <td>8.500000</td>\n",
              "    </tr>\n",
              "    <tr>\n",
              "      <th>50%</th>\n",
              "      <td>80.000000</td>\n",
              "      <td>10.000000</td>\n",
              "    </tr>\n",
              "    <tr>\n",
              "      <th>75%</th>\n",
              "      <td>87.500000</td>\n",
              "      <td>11.250000</td>\n",
              "    </tr>\n",
              "    <tr>\n",
              "      <th>max</th>\n",
              "      <td>98.000000</td>\n",
              "      <td>12.000000</td>\n",
              "    </tr>\n",
              "  </tbody>\n",
              "</table>\n",
              "</div>"
            ],
            "text/plain": [
              "           Marks      Class\n",
              "count   4.000000   4.000000\n",
              "mean   80.750000   9.750000\n",
              "std    13.889444   2.217356\n",
              "min    65.000000   7.000000\n",
              "25%    73.250000   8.500000\n",
              "50%    80.000000  10.000000\n",
              "75%    87.500000  11.250000\n",
              "max    98.000000  12.000000"
            ]
          },
          "execution_count": 12,
          "metadata": {},
          "output_type": "execute_result"
        }
      ],
      "source": [
        "df.describe()"
      ]
    },
    {
      "cell_type": "code",
      "execution_count": 13,
      "metadata": {
        "editable": true,
        "slideshow": {
          "slide_type": ""
        },
        "tags": [],
        "trusted": true
      },
      "outputs": [],
      "source": [
        "df = pd.read_csv(\"Book1.csv\")"
      ]
    },
    {
      "cell_type": "code",
      "execution_count": null,
      "metadata": {
        "trusted": true
      },
      "outputs": [
        {
          "data": {
            "text/html": [
              "<div>\n",
              "<style scoped>\n",
              "    .dataframe tbody tr th:only-of-type {\n",
              "        vertical-align: middle;\n",
              "    }\n",
              "\n",
              "    .dataframe tbody tr th {\n",
              "        vertical-align: top;\n",
              "    }\n",
              "\n",
              "    .dataframe thead th {\n",
              "        text-align: right;\n",
              "    }\n",
              "</style>\n",
              "<table border=\"1\" class=\"dataframe\">\n",
              "  <thead>\n",
              "    <tr style=\"text-align: right;\">\n",
              "      <th></th>\n",
              "      <th>Train</th>\n",
              "      <th>Number</th>\n",
              "      <th>Seat</th>\n",
              "    </tr>\n",
              "  </thead>\n",
              "  <tbody>\n",
              "    <tr>\n",
              "      <th>0</th>\n",
              "      <td>ABC</td>\n",
              "      <td>1004</td>\n",
              "      <td>HY3</td>\n",
              "    </tr>\n",
              "    <tr>\n",
              "      <th>1</th>\n",
              "      <td>DEF</td>\n",
              "      <td>2014</td>\n",
              "      <td>KO2</td>\n",
              "    </tr>\n",
              "    <tr>\n",
              "      <th>2</th>\n",
              "      <td>GHI</td>\n",
              "      <td>8723</td>\n",
              "      <td>NJ3</td>\n",
              "    </tr>\n",
              "    <tr>\n",
              "      <th>3</th>\n",
              "      <td>JKL</td>\n",
              "      <td>5437</td>\n",
              "      <td>BH2</td>\n",
              "    </tr>\n",
              "  </tbody>\n",
              "</table>\n",
              "</div>"
            ],
            "text/plain": [
              "  Train  Number  Seat\n",
              "0   ABC     1004  HY3\n",
              "1   DEF     2014  KO2\n",
              "2   GHI     8723  NJ3\n",
              "3   JKL     5437  BH2"
            ]
          },
          "execution_count": 14,
          "metadata": {},
          "output_type": "execute_result"
        }
      ],
      "source": [
        "df"
      ]
    },
    {
      "cell_type": "code",
      "execution_count": 17,
      "metadata": {
        "trusted": true
      },
      "outputs": [
        {
          "data": {
            "text/plain": [
              "'KO2'"
            ]
          },
          "execution_count": 17,
          "metadata": {},
          "output_type": "execute_result"
        }
      ],
      "source": [
        "df[\"Seat\"][1]"
      ]
    },
    {
      "cell_type": "code",
      "execution_count": 22,
      "metadata": {
        "trusted": true
      },
      "outputs": [
        {
          "name": "stderr",
          "output_type": "stream",
          "text": [
            "<ipython-input-22-b5c160a08a30>:1: SettingWithCopyWarning: \n",
            "A value is trying to be set on a copy of a slice from a DataFrame\n",
            "\n",
            "See the caveats in the documentation: https://pandas.pydata.org/pandas-docs/stable/user_guide/indexing.html#returning-a-view-versus-a-copy\n",
            "  df[\"Seat\"][2] = \"WN5\"\n"
          ]
        }
      ],
      "source": [
        "df[\"Seat\"][2] = \"WN5\""
      ]
    },
    {
      "cell_type": "code",
      "execution_count": 23,
      "metadata": {
        "trusted": true
      },
      "outputs": [
        {
          "data": {
            "text/html": [
              "<div>\n",
              "<style scoped>\n",
              "    .dataframe tbody tr th:only-of-type {\n",
              "        vertical-align: middle;\n",
              "    }\n",
              "\n",
              "    .dataframe tbody tr th {\n",
              "        vertical-align: top;\n",
              "    }\n",
              "\n",
              "    .dataframe thead th {\n",
              "        text-align: right;\n",
              "    }\n",
              "</style>\n",
              "<table border=\"1\" class=\"dataframe\">\n",
              "  <thead>\n",
              "    <tr style=\"text-align: right;\">\n",
              "      <th></th>\n",
              "      <th>Train</th>\n",
              "      <th>Number</th>\n",
              "      <th>Seat</th>\n",
              "    </tr>\n",
              "  </thead>\n",
              "  <tbody>\n",
              "    <tr>\n",
              "      <th>0</th>\n",
              "      <td>ABC</td>\n",
              "      <td>1004</td>\n",
              "      <td>HY3</td>\n",
              "    </tr>\n",
              "    <tr>\n",
              "      <th>1</th>\n",
              "      <td>DEF</td>\n",
              "      <td>2014</td>\n",
              "      <td>KO2</td>\n",
              "    </tr>\n",
              "    <tr>\n",
              "      <th>2</th>\n",
              "      <td>GHI</td>\n",
              "      <td>8723</td>\n",
              "      <td>WN5</td>\n",
              "    </tr>\n",
              "    <tr>\n",
              "      <th>3</th>\n",
              "      <td>JKL</td>\n",
              "      <td>5437</td>\n",
              "      <td>BH2</td>\n",
              "    </tr>\n",
              "  </tbody>\n",
              "</table>\n",
              "</div>"
            ],
            "text/plain": [
              "  Train  Number  Seat\n",
              "0   ABC     1004  HY3\n",
              "1   DEF     2014  KO2\n",
              "2   GHI     8723  WN5\n",
              "3   JKL     5437  BH2"
            ]
          },
          "execution_count": 23,
          "metadata": {},
          "output_type": "execute_result"
        }
      ],
      "source": [
        "df"
      ]
    },
    {
      "cell_type": "code",
      "execution_count": 24,
      "metadata": {
        "trusted": true
      },
      "outputs": [],
      "source": [
        "df.index = [\"First\", \"Second\", \"Third\", \"Fourth\"]"
      ]
    },
    {
      "cell_type": "code",
      "execution_count": 25,
      "metadata": {
        "trusted": true
      },
      "outputs": [
        {
          "data": {
            "text/html": [
              "<div>\n",
              "<style scoped>\n",
              "    .dataframe tbody tr th:only-of-type {\n",
              "        vertical-align: middle;\n",
              "    }\n",
              "\n",
              "    .dataframe tbody tr th {\n",
              "        vertical-align: top;\n",
              "    }\n",
              "\n",
              "    .dataframe thead th {\n",
              "        text-align: right;\n",
              "    }\n",
              "</style>\n",
              "<table border=\"1\" class=\"dataframe\">\n",
              "  <thead>\n",
              "    <tr style=\"text-align: right;\">\n",
              "      <th></th>\n",
              "      <th>Train</th>\n",
              "      <th>Number</th>\n",
              "      <th>Seat</th>\n",
              "    </tr>\n",
              "  </thead>\n",
              "  <tbody>\n",
              "    <tr>\n",
              "      <th>First</th>\n",
              "      <td>ABC</td>\n",
              "      <td>1004</td>\n",
              "      <td>HY3</td>\n",
              "    </tr>\n",
              "    <tr>\n",
              "      <th>Second</th>\n",
              "      <td>DEF</td>\n",
              "      <td>2014</td>\n",
              "      <td>KO2</td>\n",
              "    </tr>\n",
              "    <tr>\n",
              "      <th>Third</th>\n",
              "      <td>GHI</td>\n",
              "      <td>8723</td>\n",
              "      <td>WN5</td>\n",
              "    </tr>\n",
              "    <tr>\n",
              "      <th>Fourth</th>\n",
              "      <td>JKL</td>\n",
              "      <td>5437</td>\n",
              "      <td>BH2</td>\n",
              "    </tr>\n",
              "  </tbody>\n",
              "</table>\n",
              "</div>"
            ],
            "text/plain": [
              "       Train  Number  Seat\n",
              "First    ABC     1004  HY3\n",
              "Second   DEF     2014  KO2\n",
              "Third    GHI     8723  WN5\n",
              "Fourth   JKL     5437  BH2"
            ]
          },
          "execution_count": 25,
          "metadata": {},
          "output_type": "execute_result"
        }
      ],
      "source": [
        "df"
      ]
    },
    {
      "cell_type": "code",
      "execution_count": 27,
      "metadata": {
        "trusted": true
      },
      "outputs": [],
      "source": [
        "#Pandas is an open source data analysis library written in Python.\n",
        "#It leverages the power and speed of numpy (written in C) to make data analysis and processing easy for data scientists.\n",
        "#It provides rich and highly robust data operations."
      ]
    },
    {
      "cell_type": "code",
      "execution_count": 28,
      "metadata": {
        "trusted": true
      },
      "outputs": [],
      "source": [
        "#Pandas have two types of data structures:\n",
        "#SERIES: One dimensional array (Stores single column data) (Holds single data type)\n",
        "#DATAFRAMES: Two dimensional data (Stores the table) (Holds variety of data types)"
      ]
    },
    {
      "cell_type": "code",
      "execution_count": 32,
      "metadata": {
        "trusted": true
      },
      "outputs": [],
      "source": [
        "series = pd.Series(np.random.rand(10))"
      ]
    },
    {
      "cell_type": "code",
      "execution_count": 35,
      "metadata": {
        "trusted": true
      },
      "outputs": [
        {
          "data": {
            "text/plain": [
              "0    0.373318\n",
              "1    0.837086\n",
              "2    0.667507\n",
              "3    0.864311\n",
              "4    0.505920\n",
              "5    0.548313\n",
              "6    0.892484\n",
              "7    0.513916\n",
              "8    0.011433\n",
              "9    0.878099\n",
              "dtype: float64"
            ]
          },
          "execution_count": 35,
          "metadata": {},
          "output_type": "execute_result"
        }
      ],
      "source": [
        "series"
      ]
    },
    {
      "cell_type": "code",
      "execution_count": 36,
      "metadata": {
        "trusted": true
      },
      "outputs": [
        {
          "data": {
            "text/plain": [
              "pandas.core.series.Series"
            ]
          },
          "execution_count": 36,
          "metadata": {},
          "output_type": "execute_result"
        }
      ],
      "source": [
        "type(series)"
      ]
    },
    {
      "cell_type": "code",
      "execution_count": 71,
      "metadata": {
        "trusted": true
      },
      "outputs": [],
      "source": [
        "newdf = pd.DataFrame(np.random.rand(656,5))"
      ]
    },
    {
      "cell_type": "code",
      "execution_count": 72,
      "metadata": {
        "trusted": true
      },
      "outputs": [
        {
          "data": {
            "text/html": [
              "<div>\n",
              "<style scoped>\n",
              "    .dataframe tbody tr th:only-of-type {\n",
              "        vertical-align: middle;\n",
              "    }\n",
              "\n",
              "    .dataframe tbody tr th {\n",
              "        vertical-align: top;\n",
              "    }\n",
              "\n",
              "    .dataframe thead th {\n",
              "        text-align: right;\n",
              "    }\n",
              "</style>\n",
              "<table border=\"1\" class=\"dataframe\">\n",
              "  <thead>\n",
              "    <tr style=\"text-align: right;\">\n",
              "      <th></th>\n",
              "      <th>0</th>\n",
              "      <th>1</th>\n",
              "      <th>2</th>\n",
              "      <th>3</th>\n",
              "      <th>4</th>\n",
              "    </tr>\n",
              "  </thead>\n",
              "  <tbody>\n",
              "    <tr>\n",
              "      <th>0</th>\n",
              "      <td>0.572389</td>\n",
              "      <td>0.094181</td>\n",
              "      <td>0.428379</td>\n",
              "      <td>0.407079</td>\n",
              "      <td>0.604743</td>\n",
              "    </tr>\n",
              "    <tr>\n",
              "      <th>1</th>\n",
              "      <td>0.777449</td>\n",
              "      <td>0.813203</td>\n",
              "      <td>0.363148</td>\n",
              "      <td>0.542015</td>\n",
              "      <td>0.043320</td>\n",
              "    </tr>\n",
              "    <tr>\n",
              "      <th>2</th>\n",
              "      <td>0.606300</td>\n",
              "      <td>0.386972</td>\n",
              "      <td>0.914306</td>\n",
              "      <td>0.907784</td>\n",
              "      <td>0.620629</td>\n",
              "    </tr>\n",
              "    <tr>\n",
              "      <th>3</th>\n",
              "      <td>0.533323</td>\n",
              "      <td>0.300016</td>\n",
              "      <td>0.216505</td>\n",
              "      <td>0.962230</td>\n",
              "      <td>0.866204</td>\n",
              "    </tr>\n",
              "    <tr>\n",
              "      <th>4</th>\n",
              "      <td>0.557107</td>\n",
              "      <td>0.096059</td>\n",
              "      <td>0.877642</td>\n",
              "      <td>0.830525</td>\n",
              "      <td>0.984698</td>\n",
              "    </tr>\n",
              "    <tr>\n",
              "      <th>...</th>\n",
              "      <td>...</td>\n",
              "      <td>...</td>\n",
              "      <td>...</td>\n",
              "      <td>...</td>\n",
              "      <td>...</td>\n",
              "    </tr>\n",
              "    <tr>\n",
              "      <th>651</th>\n",
              "      <td>0.200125</td>\n",
              "      <td>0.839864</td>\n",
              "      <td>0.887887</td>\n",
              "      <td>0.552293</td>\n",
              "      <td>0.303394</td>\n",
              "    </tr>\n",
              "    <tr>\n",
              "      <th>652</th>\n",
              "      <td>0.628054</td>\n",
              "      <td>0.734664</td>\n",
              "      <td>0.484412</td>\n",
              "      <td>0.365472</td>\n",
              "      <td>0.055773</td>\n",
              "    </tr>\n",
              "    <tr>\n",
              "      <th>653</th>\n",
              "      <td>0.791533</td>\n",
              "      <td>0.598417</td>\n",
              "      <td>0.932812</td>\n",
              "      <td>0.477413</td>\n",
              "      <td>0.986886</td>\n",
              "    </tr>\n",
              "    <tr>\n",
              "      <th>654</th>\n",
              "      <td>0.570368</td>\n",
              "      <td>0.576088</td>\n",
              "      <td>0.169085</td>\n",
              "      <td>0.956737</td>\n",
              "      <td>0.556501</td>\n",
              "    </tr>\n",
              "    <tr>\n",
              "      <th>655</th>\n",
              "      <td>0.715831</td>\n",
              "      <td>0.250149</td>\n",
              "      <td>0.831169</td>\n",
              "      <td>0.561204</td>\n",
              "      <td>0.225498</td>\n",
              "    </tr>\n",
              "  </tbody>\n",
              "</table>\n",
              "<p>656 rows × 5 columns</p>\n",
              "</div>"
            ],
            "text/plain": [
              "            0         1         2         3         4\n",
              "0    0.572389  0.094181  0.428379  0.407079  0.604743\n",
              "1    0.777449  0.813203  0.363148  0.542015  0.043320\n",
              "2    0.606300  0.386972  0.914306  0.907784  0.620629\n",
              "3    0.533323  0.300016  0.216505  0.962230  0.866204\n",
              "4    0.557107  0.096059  0.877642  0.830525  0.984698\n",
              "..        ...       ...       ...       ...       ...\n",
              "651  0.200125  0.839864  0.887887  0.552293  0.303394\n",
              "652  0.628054  0.734664  0.484412  0.365472  0.055773\n",
              "653  0.791533  0.598417  0.932812  0.477413  0.986886\n",
              "654  0.570368  0.576088  0.169085  0.956737  0.556501\n",
              "655  0.715831  0.250149  0.831169  0.561204  0.225498\n",
              "\n",
              "[656 rows x 5 columns]"
            ]
          },
          "execution_count": 72,
          "metadata": {},
          "output_type": "execute_result"
        }
      ],
      "source": [
        "newdf"
      ]
    },
    {
      "cell_type": "code",
      "execution_count": 73,
      "metadata": {
        "trusted": true
      },
      "outputs": [
        {
          "data": {
            "text/plain": [
              "pandas.core.frame.DataFrame"
            ]
          },
          "execution_count": 73,
          "metadata": {},
          "output_type": "execute_result"
        }
      ],
      "source": [
        "type(newdf)"
      ]
    },
    {
      "cell_type": "code",
      "execution_count": 74,
      "metadata": {
        "trusted": true
      },
      "outputs": [
        {
          "data": {
            "text/plain": [
              "0    float64\n",
              "1    float64\n",
              "2    float64\n",
              "3    float64\n",
              "4    float64\n",
              "dtype: object"
            ]
          },
          "execution_count": 74,
          "metadata": {},
          "output_type": "execute_result"
        }
      ],
      "source": [
        "newdf.dtypes"
      ]
    },
    {
      "cell_type": "code",
      "execution_count": 75,
      "metadata": {
        "trusted": true
      },
      "outputs": [
        {
          "data": {
            "text/html": [
              "<div>\n",
              "<style scoped>\n",
              "    .dataframe tbody tr th:only-of-type {\n",
              "        vertical-align: middle;\n",
              "    }\n",
              "\n",
              "    .dataframe tbody tr th {\n",
              "        vertical-align: top;\n",
              "    }\n",
              "\n",
              "    .dataframe thead th {\n",
              "        text-align: right;\n",
              "    }\n",
              "</style>\n",
              "<table border=\"1\" class=\"dataframe\">\n",
              "  <thead>\n",
              "    <tr style=\"text-align: right;\">\n",
              "      <th></th>\n",
              "      <th>0</th>\n",
              "      <th>1</th>\n",
              "      <th>2</th>\n",
              "      <th>3</th>\n",
              "      <th>4</th>\n",
              "    </tr>\n",
              "  </thead>\n",
              "  <tbody>\n",
              "    <tr>\n",
              "      <th>0</th>\n",
              "      <td>0.572389</td>\n",
              "      <td>0.094181</td>\n",
              "      <td>0.428379</td>\n",
              "      <td>0.407079</td>\n",
              "      <td>0.604743</td>\n",
              "    </tr>\n",
              "    <tr>\n",
              "      <th>1</th>\n",
              "      <td>Dev</td>\n",
              "      <td>0.813203</td>\n",
              "      <td>0.363148</td>\n",
              "      <td>0.542015</td>\n",
              "      <td>0.043320</td>\n",
              "    </tr>\n",
              "    <tr>\n",
              "      <th>2</th>\n",
              "      <td>0.6063</td>\n",
              "      <td>0.386972</td>\n",
              "      <td>0.914306</td>\n",
              "      <td>0.907784</td>\n",
              "      <td>0.620629</td>\n",
              "    </tr>\n",
              "    <tr>\n",
              "      <th>3</th>\n",
              "      <td>0.533323</td>\n",
              "      <td>0.300016</td>\n",
              "      <td>0.216505</td>\n",
              "      <td>0.962230</td>\n",
              "      <td>0.866204</td>\n",
              "    </tr>\n",
              "    <tr>\n",
              "      <th>4</th>\n",
              "      <td>0.557107</td>\n",
              "      <td>0.096059</td>\n",
              "      <td>0.877642</td>\n",
              "      <td>0.830525</td>\n",
              "      <td>0.984698</td>\n",
              "    </tr>\n",
              "  </tbody>\n",
              "</table>\n",
              "</div>"
            ],
            "text/plain": [
              "          0         1         2         3         4\n",
              "0  0.572389  0.094181  0.428379  0.407079  0.604743\n",
              "1       Dev  0.813203  0.363148  0.542015  0.043320\n",
              "2    0.6063  0.386972  0.914306  0.907784  0.620629\n",
              "3  0.533323  0.300016  0.216505  0.962230  0.866204\n",
              "4  0.557107  0.096059  0.877642  0.830525  0.984698"
            ]
          },
          "execution_count": 75,
          "metadata": {},
          "output_type": "execute_result"
        }
      ],
      "source": [
        "newdf[0][1] = \"Dev\"\n",
        "newdf.head(5)"
      ]
    },
    {
      "cell_type": "code",
      "execution_count": 76,
      "metadata": {
        "trusted": true
      },
      "outputs": [
        {
          "data": {
            "text/plain": [
              "RangeIndex(start=0, stop=656, step=1)"
            ]
          },
          "execution_count": 76,
          "metadata": {},
          "output_type": "execute_result"
        }
      ],
      "source": [
        "newdf.index"
      ]
    },
    {
      "cell_type": "code",
      "execution_count": 77,
      "metadata": {
        "trusted": true
      },
      "outputs": [
        {
          "data": {
            "text/plain": [
              "RangeIndex(start=0, stop=5, step=1)"
            ]
          },
          "execution_count": 77,
          "metadata": {},
          "output_type": "execute_result"
        }
      ],
      "source": [
        "newdf.columns"
      ]
    },
    {
      "cell_type": "code",
      "execution_count": 78,
      "metadata": {
        "trusted": true
      },
      "outputs": [
        {
          "data": {
            "text/html": [
              "<div>\n",
              "<style scoped>\n",
              "    .dataframe tbody tr th:only-of-type {\n",
              "        vertical-align: middle;\n",
              "    }\n",
              "\n",
              "    .dataframe tbody tr th {\n",
              "        vertical-align: top;\n",
              "    }\n",
              "\n",
              "    .dataframe thead th {\n",
              "        text-align: right;\n",
              "    }\n",
              "</style>\n",
              "<table border=\"1\" class=\"dataframe\">\n",
              "  <thead>\n",
              "    <tr style=\"text-align: right;\">\n",
              "      <th></th>\n",
              "      <th>0</th>\n",
              "      <th>1</th>\n",
              "      <th>2</th>\n",
              "      <th>3</th>\n",
              "      <th>4</th>\n",
              "      <th>5</th>\n",
              "      <th>6</th>\n",
              "      <th>7</th>\n",
              "      <th>8</th>\n",
              "      <th>9</th>\n",
              "      <th>...</th>\n",
              "      <th>646</th>\n",
              "      <th>647</th>\n",
              "      <th>648</th>\n",
              "      <th>649</th>\n",
              "      <th>650</th>\n",
              "      <th>651</th>\n",
              "      <th>652</th>\n",
              "      <th>653</th>\n",
              "      <th>654</th>\n",
              "      <th>655</th>\n",
              "    </tr>\n",
              "  </thead>\n",
              "  <tbody>\n",
              "    <tr>\n",
              "      <th>0</th>\n",
              "      <td>0.572389</td>\n",
              "      <td>Dev</td>\n",
              "      <td>0.6063</td>\n",
              "      <td>0.533323</td>\n",
              "      <td>0.557107</td>\n",
              "      <td>0.15249</td>\n",
              "      <td>0.320887</td>\n",
              "      <td>0.439311</td>\n",
              "      <td>0.637883</td>\n",
              "      <td>0.675777</td>\n",
              "      <td>...</td>\n",
              "      <td>0.40966</td>\n",
              "      <td>0.37614</td>\n",
              "      <td>0.962113</td>\n",
              "      <td>0.547565</td>\n",
              "      <td>0.924561</td>\n",
              "      <td>0.200125</td>\n",
              "      <td>0.628054</td>\n",
              "      <td>0.791533</td>\n",
              "      <td>0.570368</td>\n",
              "      <td>0.715831</td>\n",
              "    </tr>\n",
              "    <tr>\n",
              "      <th>1</th>\n",
              "      <td>0.094181</td>\n",
              "      <td>0.813203</td>\n",
              "      <td>0.386972</td>\n",
              "      <td>0.300016</td>\n",
              "      <td>0.096059</td>\n",
              "      <td>0.859041</td>\n",
              "      <td>0.353062</td>\n",
              "      <td>0.726839</td>\n",
              "      <td>0.27056</td>\n",
              "      <td>0.731227</td>\n",
              "      <td>...</td>\n",
              "      <td>0.433657</td>\n",
              "      <td>0.974796</td>\n",
              "      <td>0.675502</td>\n",
              "      <td>0.197809</td>\n",
              "      <td>0.959615</td>\n",
              "      <td>0.839864</td>\n",
              "      <td>0.734664</td>\n",
              "      <td>0.598417</td>\n",
              "      <td>0.576088</td>\n",
              "      <td>0.250149</td>\n",
              "    </tr>\n",
              "    <tr>\n",
              "      <th>2</th>\n",
              "      <td>0.428379</td>\n",
              "      <td>0.363148</td>\n",
              "      <td>0.914306</td>\n",
              "      <td>0.216505</td>\n",
              "      <td>0.877642</td>\n",
              "      <td>0.470481</td>\n",
              "      <td>0.599178</td>\n",
              "      <td>0.868879</td>\n",
              "      <td>0.967742</td>\n",
              "      <td>0.333457</td>\n",
              "      <td>...</td>\n",
              "      <td>0.193535</td>\n",
              "      <td>0.873042</td>\n",
              "      <td>0.719171</td>\n",
              "      <td>0.441947</td>\n",
              "      <td>0.65997</td>\n",
              "      <td>0.887887</td>\n",
              "      <td>0.484412</td>\n",
              "      <td>0.932812</td>\n",
              "      <td>0.169085</td>\n",
              "      <td>0.831169</td>\n",
              "    </tr>\n",
              "    <tr>\n",
              "      <th>3</th>\n",
              "      <td>0.407079</td>\n",
              "      <td>0.542015</td>\n",
              "      <td>0.907784</td>\n",
              "      <td>0.96223</td>\n",
              "      <td>0.830525</td>\n",
              "      <td>0.61623</td>\n",
              "      <td>0.478493</td>\n",
              "      <td>0.299552</td>\n",
              "      <td>0.698619</td>\n",
              "      <td>0.38419</td>\n",
              "      <td>...</td>\n",
              "      <td>0.137874</td>\n",
              "      <td>0.656879</td>\n",
              "      <td>0.082518</td>\n",
              "      <td>0.634247</td>\n",
              "      <td>0.628053</td>\n",
              "      <td>0.552293</td>\n",
              "      <td>0.365472</td>\n",
              "      <td>0.477413</td>\n",
              "      <td>0.956737</td>\n",
              "      <td>0.561204</td>\n",
              "    </tr>\n",
              "    <tr>\n",
              "      <th>4</th>\n",
              "      <td>0.604743</td>\n",
              "      <td>0.04332</td>\n",
              "      <td>0.620629</td>\n",
              "      <td>0.866204</td>\n",
              "      <td>0.984698</td>\n",
              "      <td>0.210537</td>\n",
              "      <td>0.431957</td>\n",
              "      <td>0.344958</td>\n",
              "      <td>0.727552</td>\n",
              "      <td>0.994044</td>\n",
              "      <td>...</td>\n",
              "      <td>0.309101</td>\n",
              "      <td>0.140386</td>\n",
              "      <td>0.974849</td>\n",
              "      <td>0.141836</td>\n",
              "      <td>0.444692</td>\n",
              "      <td>0.303394</td>\n",
              "      <td>0.055773</td>\n",
              "      <td>0.986886</td>\n",
              "      <td>0.556501</td>\n",
              "      <td>0.225498</td>\n",
              "    </tr>\n",
              "  </tbody>\n",
              "</table>\n",
              "<p>5 rows × 656 columns</p>\n",
              "</div>"
            ],
            "text/plain": [
              "        0         1         2         3         4         5         6    \\\n",
              "0  0.572389       Dev    0.6063  0.533323  0.557107   0.15249  0.320887   \n",
              "1  0.094181  0.813203  0.386972  0.300016  0.096059  0.859041  0.353062   \n",
              "2  0.428379  0.363148  0.914306  0.216505  0.877642  0.470481  0.599178   \n",
              "3  0.407079  0.542015  0.907784   0.96223  0.830525   0.61623  0.478493   \n",
              "4  0.604743   0.04332  0.620629  0.866204  0.984698  0.210537  0.431957   \n",
              "\n",
              "        7         8         9    ...       646       647       648       649  \\\n",
              "0  0.439311  0.637883  0.675777  ...   0.40966   0.37614  0.962113  0.547565   \n",
              "1  0.726839   0.27056  0.731227  ...  0.433657  0.974796  0.675502  0.197809   \n",
              "2  0.868879  0.967742  0.333457  ...  0.193535  0.873042  0.719171  0.441947   \n",
              "3  0.299552  0.698619   0.38419  ...  0.137874  0.656879  0.082518  0.634247   \n",
              "4  0.344958  0.727552  0.994044  ...  0.309101  0.140386  0.974849  0.141836   \n",
              "\n",
              "        650       651       652       653       654       655  \n",
              "0  0.924561  0.200125  0.628054  0.791533  0.570368  0.715831  \n",
              "1  0.959615  0.839864  0.734664  0.598417  0.576088  0.250149  \n",
              "2   0.65997  0.887887  0.484412  0.932812  0.169085  0.831169  \n",
              "3  0.628053  0.552293  0.365472  0.477413  0.956737  0.561204  \n",
              "4  0.444692  0.303394  0.055773  0.986886  0.556501  0.225498  \n",
              "\n",
              "[5 rows x 656 columns]"
            ]
          },
          "execution_count": 78,
          "metadata": {},
          "output_type": "execute_result"
        }
      ],
      "source": [
        "newdf.T #Transpose"
      ]
    },
    {
      "cell_type": "code",
      "execution_count": 79,
      "metadata": {
        "trusted": true
      },
      "outputs": [
        {
          "data": {
            "text/plain": [
              "array([[0.5723890052269834, 0.09418136073661243, 0.42837940902354954,\n",
              "        0.4070794584799463, 0.604743054795642],\n",
              "       ['Dev', 0.8132025292079357, 0.3631481137431626,\n",
              "        0.5420149812185187, 0.04332001444750988],\n",
              "       [0.6062996637034196, 0.38697201281164284, 0.9143064269155262,\n",
              "        0.9077840395669026, 0.6206291665928263],\n",
              "       ...,\n",
              "       [0.7915330536526203, 0.5984170073396862, 0.9328122520878024,\n",
              "        0.4774132252865567, 0.9868861831344372],\n",
              "       [0.570368224688835, 0.5760882974231747, 0.16908473366150234,\n",
              "        0.956737196758488, 0.5565006661266177],\n",
              "       [0.7158312687455806, 0.25014860084214874, 0.8311685092902263,\n",
              "        0.5612041946712083, 0.22549803277434743]], dtype=object)"
            ]
          },
          "execution_count": 79,
          "metadata": {},
          "output_type": "execute_result"
        }
      ],
      "source": [
        "newdf.to_numpy()"
      ]
    },
    {
      "cell_type": "code",
      "execution_count": 80,
      "metadata": {
        "trusted": true
      },
      "outputs": [
        {
          "data": {
            "text/html": [
              "<div>\n",
              "<style scoped>\n",
              "    .dataframe tbody tr th:only-of-type {\n",
              "        vertical-align: middle;\n",
              "    }\n",
              "\n",
              "    .dataframe tbody tr th {\n",
              "        vertical-align: top;\n",
              "    }\n",
              "\n",
              "    .dataframe thead th {\n",
              "        text-align: right;\n",
              "    }\n",
              "</style>\n",
              "<table border=\"1\" class=\"dataframe\">\n",
              "  <thead>\n",
              "    <tr style=\"text-align: right;\">\n",
              "      <th></th>\n",
              "      <th>0</th>\n",
              "      <th>1</th>\n",
              "      <th>2</th>\n",
              "      <th>3</th>\n",
              "      <th>4</th>\n",
              "    </tr>\n",
              "  </thead>\n",
              "  <tbody>\n",
              "    <tr>\n",
              "      <th>655</th>\n",
              "      <td>0.715831</td>\n",
              "      <td>0.250149</td>\n",
              "      <td>0.831169</td>\n",
              "      <td>0.561204</td>\n",
              "      <td>0.225498</td>\n",
              "    </tr>\n",
              "    <tr>\n",
              "      <th>654</th>\n",
              "      <td>0.570368</td>\n",
              "      <td>0.576088</td>\n",
              "      <td>0.169085</td>\n",
              "      <td>0.956737</td>\n",
              "      <td>0.556501</td>\n",
              "    </tr>\n",
              "    <tr>\n",
              "      <th>653</th>\n",
              "      <td>0.791533</td>\n",
              "      <td>0.598417</td>\n",
              "      <td>0.932812</td>\n",
              "      <td>0.477413</td>\n",
              "      <td>0.986886</td>\n",
              "    </tr>\n",
              "    <tr>\n",
              "      <th>652</th>\n",
              "      <td>0.628054</td>\n",
              "      <td>0.734664</td>\n",
              "      <td>0.484412</td>\n",
              "      <td>0.365472</td>\n",
              "      <td>0.055773</td>\n",
              "    </tr>\n",
              "    <tr>\n",
              "      <th>651</th>\n",
              "      <td>0.200125</td>\n",
              "      <td>0.839864</td>\n",
              "      <td>0.887887</td>\n",
              "      <td>0.552293</td>\n",
              "      <td>0.303394</td>\n",
              "    </tr>\n",
              "    <tr>\n",
              "      <th>...</th>\n",
              "      <td>...</td>\n",
              "      <td>...</td>\n",
              "      <td>...</td>\n",
              "      <td>...</td>\n",
              "      <td>...</td>\n",
              "    </tr>\n",
              "    <tr>\n",
              "      <th>4</th>\n",
              "      <td>0.557107</td>\n",
              "      <td>0.096059</td>\n",
              "      <td>0.877642</td>\n",
              "      <td>0.830525</td>\n",
              "      <td>0.984698</td>\n",
              "    </tr>\n",
              "    <tr>\n",
              "      <th>3</th>\n",
              "      <td>0.533323</td>\n",
              "      <td>0.300016</td>\n",
              "      <td>0.216505</td>\n",
              "      <td>0.962230</td>\n",
              "      <td>0.866204</td>\n",
              "    </tr>\n",
              "    <tr>\n",
              "      <th>2</th>\n",
              "      <td>0.6063</td>\n",
              "      <td>0.386972</td>\n",
              "      <td>0.914306</td>\n",
              "      <td>0.907784</td>\n",
              "      <td>0.620629</td>\n",
              "    </tr>\n",
              "    <tr>\n",
              "      <th>1</th>\n",
              "      <td>Dev</td>\n",
              "      <td>0.813203</td>\n",
              "      <td>0.363148</td>\n",
              "      <td>0.542015</td>\n",
              "      <td>0.043320</td>\n",
              "    </tr>\n",
              "    <tr>\n",
              "      <th>0</th>\n",
              "      <td>0.572389</td>\n",
              "      <td>0.094181</td>\n",
              "      <td>0.428379</td>\n",
              "      <td>0.407079</td>\n",
              "      <td>0.604743</td>\n",
              "    </tr>\n",
              "  </tbody>\n",
              "</table>\n",
              "<p>656 rows × 5 columns</p>\n",
              "</div>"
            ],
            "text/plain": [
              "            0         1         2         3         4\n",
              "655  0.715831  0.250149  0.831169  0.561204  0.225498\n",
              "654  0.570368  0.576088  0.169085  0.956737  0.556501\n",
              "653  0.791533  0.598417  0.932812  0.477413  0.986886\n",
              "652  0.628054  0.734664  0.484412  0.365472  0.055773\n",
              "651  0.200125  0.839864  0.887887  0.552293  0.303394\n",
              "..        ...       ...       ...       ...       ...\n",
              "4    0.557107  0.096059  0.877642  0.830525  0.984698\n",
              "3    0.533323  0.300016  0.216505  0.962230  0.866204\n",
              "2      0.6063  0.386972  0.914306  0.907784  0.620629\n",
              "1         Dev  0.813203  0.363148  0.542015  0.043320\n",
              "0    0.572389  0.094181  0.428379  0.407079  0.604743\n",
              "\n",
              "[656 rows x 5 columns]"
            ]
          },
          "execution_count": 80,
          "metadata": {},
          "output_type": "execute_result"
        }
      ],
      "source": [
        "newdf.sort_index(axis = 0, ascending = False)"
      ]
    },
    {
      "cell_type": "code",
      "execution_count": 81,
      "metadata": {
        "trusted": true
      },
      "outputs": [
        {
          "data": {
            "text/html": [
              "<div>\n",
              "<style scoped>\n",
              "    .dataframe tbody tr th:only-of-type {\n",
              "        vertical-align: middle;\n",
              "    }\n",
              "\n",
              "    .dataframe tbody tr th {\n",
              "        vertical-align: top;\n",
              "    }\n",
              "\n",
              "    .dataframe thead th {\n",
              "        text-align: right;\n",
              "    }\n",
              "</style>\n",
              "<table border=\"1\" class=\"dataframe\">\n",
              "  <thead>\n",
              "    <tr style=\"text-align: right;\">\n",
              "      <th></th>\n",
              "      <th>4</th>\n",
              "      <th>3</th>\n",
              "      <th>2</th>\n",
              "      <th>1</th>\n",
              "      <th>0</th>\n",
              "    </tr>\n",
              "  </thead>\n",
              "  <tbody>\n",
              "    <tr>\n",
              "      <th>0</th>\n",
              "      <td>0.604743</td>\n",
              "      <td>0.407079</td>\n",
              "      <td>0.428379</td>\n",
              "      <td>0.094181</td>\n",
              "      <td>0.572389</td>\n",
              "    </tr>\n",
              "    <tr>\n",
              "      <th>1</th>\n",
              "      <td>0.043320</td>\n",
              "      <td>0.542015</td>\n",
              "      <td>0.363148</td>\n",
              "      <td>0.813203</td>\n",
              "      <td>Dev</td>\n",
              "    </tr>\n",
              "    <tr>\n",
              "      <th>2</th>\n",
              "      <td>0.620629</td>\n",
              "      <td>0.907784</td>\n",
              "      <td>0.914306</td>\n",
              "      <td>0.386972</td>\n",
              "      <td>0.6063</td>\n",
              "    </tr>\n",
              "    <tr>\n",
              "      <th>3</th>\n",
              "      <td>0.866204</td>\n",
              "      <td>0.962230</td>\n",
              "      <td>0.216505</td>\n",
              "      <td>0.300016</td>\n",
              "      <td>0.533323</td>\n",
              "    </tr>\n",
              "    <tr>\n",
              "      <th>4</th>\n",
              "      <td>0.984698</td>\n",
              "      <td>0.830525</td>\n",
              "      <td>0.877642</td>\n",
              "      <td>0.096059</td>\n",
              "      <td>0.557107</td>\n",
              "    </tr>\n",
              "    <tr>\n",
              "      <th>...</th>\n",
              "      <td>...</td>\n",
              "      <td>...</td>\n",
              "      <td>...</td>\n",
              "      <td>...</td>\n",
              "      <td>...</td>\n",
              "    </tr>\n",
              "    <tr>\n",
              "      <th>651</th>\n",
              "      <td>0.303394</td>\n",
              "      <td>0.552293</td>\n",
              "      <td>0.887887</td>\n",
              "      <td>0.839864</td>\n",
              "      <td>0.200125</td>\n",
              "    </tr>\n",
              "    <tr>\n",
              "      <th>652</th>\n",
              "      <td>0.055773</td>\n",
              "      <td>0.365472</td>\n",
              "      <td>0.484412</td>\n",
              "      <td>0.734664</td>\n",
              "      <td>0.628054</td>\n",
              "    </tr>\n",
              "    <tr>\n",
              "      <th>653</th>\n",
              "      <td>0.986886</td>\n",
              "      <td>0.477413</td>\n",
              "      <td>0.932812</td>\n",
              "      <td>0.598417</td>\n",
              "      <td>0.791533</td>\n",
              "    </tr>\n",
              "    <tr>\n",
              "      <th>654</th>\n",
              "      <td>0.556501</td>\n",
              "      <td>0.956737</td>\n",
              "      <td>0.169085</td>\n",
              "      <td>0.576088</td>\n",
              "      <td>0.570368</td>\n",
              "    </tr>\n",
              "    <tr>\n",
              "      <th>655</th>\n",
              "      <td>0.225498</td>\n",
              "      <td>0.561204</td>\n",
              "      <td>0.831169</td>\n",
              "      <td>0.250149</td>\n",
              "      <td>0.715831</td>\n",
              "    </tr>\n",
              "  </tbody>\n",
              "</table>\n",
              "<p>656 rows × 5 columns</p>\n",
              "</div>"
            ],
            "text/plain": [
              "            4         3         2         1         0\n",
              "0    0.604743  0.407079  0.428379  0.094181  0.572389\n",
              "1    0.043320  0.542015  0.363148  0.813203       Dev\n",
              "2    0.620629  0.907784  0.914306  0.386972    0.6063\n",
              "3    0.866204  0.962230  0.216505  0.300016  0.533323\n",
              "4    0.984698  0.830525  0.877642  0.096059  0.557107\n",
              "..        ...       ...       ...       ...       ...\n",
              "651  0.303394  0.552293  0.887887  0.839864  0.200125\n",
              "652  0.055773  0.365472  0.484412  0.734664  0.628054\n",
              "653  0.986886  0.477413  0.932812  0.598417  0.791533\n",
              "654  0.556501  0.956737  0.169085  0.576088  0.570368\n",
              "655  0.225498  0.561204  0.831169  0.250149  0.715831\n",
              "\n",
              "[656 rows x 5 columns]"
            ]
          },
          "execution_count": 81,
          "metadata": {},
          "output_type": "execute_result"
        }
      ],
      "source": [
        "newdf.sort_index(axis = 1, ascending = False)"
      ]
    },
    {
      "cell_type": "code",
      "execution_count": 82,
      "metadata": {
        "trusted": true
      },
      "outputs": [],
      "source": [
        "newdf.loc[0,0] = \"XYZ\""
      ]
    },
    {
      "cell_type": "code",
      "execution_count": 83,
      "metadata": {
        "trusted": true
      },
      "outputs": [
        {
          "data": {
            "text/html": [
              "<div>\n",
              "<style scoped>\n",
              "    .dataframe tbody tr th:only-of-type {\n",
              "        vertical-align: middle;\n",
              "    }\n",
              "\n",
              "    .dataframe tbody tr th {\n",
              "        vertical-align: top;\n",
              "    }\n",
              "\n",
              "    .dataframe thead th {\n",
              "        text-align: right;\n",
              "    }\n",
              "</style>\n",
              "<table border=\"1\" class=\"dataframe\">\n",
              "  <thead>\n",
              "    <tr style=\"text-align: right;\">\n",
              "      <th></th>\n",
              "      <th>0</th>\n",
              "      <th>1</th>\n",
              "      <th>2</th>\n",
              "      <th>3</th>\n",
              "      <th>4</th>\n",
              "    </tr>\n",
              "  </thead>\n",
              "  <tbody>\n",
              "    <tr>\n",
              "      <th>0</th>\n",
              "      <td>XYZ</td>\n",
              "      <td>0.094181</td>\n",
              "      <td>0.428379</td>\n",
              "      <td>0.407079</td>\n",
              "      <td>0.604743</td>\n",
              "    </tr>\n",
              "    <tr>\n",
              "      <th>1</th>\n",
              "      <td>Dev</td>\n",
              "      <td>0.813203</td>\n",
              "      <td>0.363148</td>\n",
              "      <td>0.542015</td>\n",
              "      <td>0.043320</td>\n",
              "    </tr>\n",
              "    <tr>\n",
              "      <th>2</th>\n",
              "      <td>0.6063</td>\n",
              "      <td>0.386972</td>\n",
              "      <td>0.914306</td>\n",
              "      <td>0.907784</td>\n",
              "      <td>0.620629</td>\n",
              "    </tr>\n",
              "    <tr>\n",
              "      <th>3</th>\n",
              "      <td>0.533323</td>\n",
              "      <td>0.300016</td>\n",
              "      <td>0.216505</td>\n",
              "      <td>0.962230</td>\n",
              "      <td>0.866204</td>\n",
              "    </tr>\n",
              "    <tr>\n",
              "      <th>4</th>\n",
              "      <td>0.557107</td>\n",
              "      <td>0.096059</td>\n",
              "      <td>0.877642</td>\n",
              "      <td>0.830525</td>\n",
              "      <td>0.984698</td>\n",
              "    </tr>\n",
              "  </tbody>\n",
              "</table>\n",
              "</div>"
            ],
            "text/plain": [
              "          0         1         2         3         4\n",
              "0       XYZ  0.094181  0.428379  0.407079  0.604743\n",
              "1       Dev  0.813203  0.363148  0.542015  0.043320\n",
              "2    0.6063  0.386972  0.914306  0.907784  0.620629\n",
              "3  0.533323  0.300016  0.216505  0.962230  0.866204\n",
              "4  0.557107  0.096059  0.877642  0.830525  0.984698"
            ]
          },
          "execution_count": 83,
          "metadata": {},
          "output_type": "execute_result"
        }
      ],
      "source": [
        "newdf.head()"
      ]
    },
    {
      "cell_type": "code",
      "execution_count": 84,
      "metadata": {
        "trusted": true
      },
      "outputs": [],
      "source": [
        "newdf.columns = list(\"ABCDE\")"
      ]
    },
    {
      "cell_type": "code",
      "execution_count": 85,
      "metadata": {
        "trusted": true
      },
      "outputs": [
        {
          "data": {
            "text/html": [
              "<div>\n",
              "<style scoped>\n",
              "    .dataframe tbody tr th:only-of-type {\n",
              "        vertical-align: middle;\n",
              "    }\n",
              "\n",
              "    .dataframe tbody tr th {\n",
              "        vertical-align: top;\n",
              "    }\n",
              "\n",
              "    .dataframe thead th {\n",
              "        text-align: right;\n",
              "    }\n",
              "</style>\n",
              "<table border=\"1\" class=\"dataframe\">\n",
              "  <thead>\n",
              "    <tr style=\"text-align: right;\">\n",
              "      <th></th>\n",
              "      <th>A</th>\n",
              "      <th>B</th>\n",
              "      <th>C</th>\n",
              "      <th>D</th>\n",
              "      <th>E</th>\n",
              "    </tr>\n",
              "  </thead>\n",
              "  <tbody>\n",
              "    <tr>\n",
              "      <th>0</th>\n",
              "      <td>XYZ</td>\n",
              "      <td>0.094181</td>\n",
              "      <td>0.428379</td>\n",
              "      <td>0.407079</td>\n",
              "      <td>0.604743</td>\n",
              "    </tr>\n",
              "    <tr>\n",
              "      <th>1</th>\n",
              "      <td>Dev</td>\n",
              "      <td>0.813203</td>\n",
              "      <td>0.363148</td>\n",
              "      <td>0.542015</td>\n",
              "      <td>0.043320</td>\n",
              "    </tr>\n",
              "    <tr>\n",
              "      <th>2</th>\n",
              "      <td>0.6063</td>\n",
              "      <td>0.386972</td>\n",
              "      <td>0.914306</td>\n",
              "      <td>0.907784</td>\n",
              "      <td>0.620629</td>\n",
              "    </tr>\n",
              "    <tr>\n",
              "      <th>3</th>\n",
              "      <td>0.533323</td>\n",
              "      <td>0.300016</td>\n",
              "      <td>0.216505</td>\n",
              "      <td>0.962230</td>\n",
              "      <td>0.866204</td>\n",
              "    </tr>\n",
              "    <tr>\n",
              "      <th>4</th>\n",
              "      <td>0.557107</td>\n",
              "      <td>0.096059</td>\n",
              "      <td>0.877642</td>\n",
              "      <td>0.830525</td>\n",
              "      <td>0.984698</td>\n",
              "    </tr>\n",
              "  </tbody>\n",
              "</table>\n",
              "</div>"
            ],
            "text/plain": [
              "          A         B         C         D         E\n",
              "0       XYZ  0.094181  0.428379  0.407079  0.604743\n",
              "1       Dev  0.813203  0.363148  0.542015  0.043320\n",
              "2    0.6063  0.386972  0.914306  0.907784  0.620629\n",
              "3  0.533323  0.300016  0.216505  0.962230  0.866204\n",
              "4  0.557107  0.096059  0.877642  0.830525  0.984698"
            ]
          },
          "execution_count": 85,
          "metadata": {},
          "output_type": "execute_result"
        }
      ],
      "source": [
        "newdf.head()"
      ]
    },
    {
      "cell_type": "code",
      "execution_count": 87,
      "metadata": {
        "trusted": true
      },
      "outputs": [
        {
          "data": {
            "text/plain": [
              "'XYZ'"
            ]
          },
          "execution_count": 87,
          "metadata": {},
          "output_type": "execute_result"
        }
      ],
      "source": [
        "newdf.loc[0][0]"
      ]
    },
    {
      "cell_type": "code",
      "execution_count": 97,
      "metadata": {
        "trusted": true
      },
      "outputs": [
        {
          "name": "stderr",
          "output_type": "stream",
          "text": [
            "<ipython-input-97-45adf675a653>:1: SettingWithCopyWarning: \n",
            "A value is trying to be set on a copy of a slice from a DataFrame\n",
            "\n",
            "See the caveats in the documentation: https://pandas.pydata.org/pandas-docs/stable/user_guide/indexing.html#returning-a-view-versus-a-copy\n",
            "  newdf.loc[0][\"A\"] = 53\n"
          ]
        }
      ],
      "source": [
        "newdf.loc[0][\"A\"] = 53"
      ]
    },
    {
      "cell_type": "code",
      "execution_count": 101,
      "metadata": {
        "trusted": true
      },
      "outputs": [
        {
          "data": {
            "text/html": [
              "<div>\n",
              "<style scoped>\n",
              "    .dataframe tbody tr th:only-of-type {\n",
              "        vertical-align: middle;\n",
              "    }\n",
              "\n",
              "    .dataframe tbody tr th {\n",
              "        vertical-align: top;\n",
              "    }\n",
              "\n",
              "    .dataframe thead th {\n",
              "        text-align: right;\n",
              "    }\n",
              "</style>\n",
              "<table border=\"1\" class=\"dataframe\">\n",
              "  <thead>\n",
              "    <tr style=\"text-align: right;\">\n",
              "      <th></th>\n",
              "      <th>A</th>\n",
              "      <th>B</th>\n",
              "      <th>C</th>\n",
              "      <th>D</th>\n",
              "      <th>E</th>\n",
              "    </tr>\n",
              "  </thead>\n",
              "  <tbody>\n",
              "    <tr>\n",
              "      <th>0</th>\n",
              "      <td>XYZ</td>\n",
              "      <td>0.094181</td>\n",
              "      <td>0.428379</td>\n",
              "      <td>0.407079</td>\n",
              "      <td>0.604743</td>\n",
              "    </tr>\n",
              "    <tr>\n",
              "      <th>1</th>\n",
              "      <td>Dev</td>\n",
              "      <td>0.813203</td>\n",
              "      <td>0.363148</td>\n",
              "      <td>0.542015</td>\n",
              "      <td>0.043320</td>\n",
              "    </tr>\n",
              "    <tr>\n",
              "      <th>2</th>\n",
              "      <td>0.6063</td>\n",
              "      <td>0.386972</td>\n",
              "      <td>0.914306</td>\n",
              "      <td>0.907784</td>\n",
              "      <td>0.620629</td>\n",
              "    </tr>\n",
              "    <tr>\n",
              "      <th>3</th>\n",
              "      <td>0.533323</td>\n",
              "      <td>0.300016</td>\n",
              "      <td>0.216505</td>\n",
              "      <td>0.962230</td>\n",
              "      <td>0.866204</td>\n",
              "    </tr>\n",
              "    <tr>\n",
              "      <th>4</th>\n",
              "      <td>0.557107</td>\n",
              "      <td>0.096059</td>\n",
              "      <td>0.877642</td>\n",
              "      <td>0.830525</td>\n",
              "      <td>0.984698</td>\n",
              "    </tr>\n",
              "  </tbody>\n",
              "</table>\n",
              "</div>"
            ],
            "text/plain": [
              "          A         B         C         D         E\n",
              "0       XYZ  0.094181  0.428379  0.407079  0.604743\n",
              "1       Dev  0.813203  0.363148  0.542015  0.043320\n",
              "2    0.6063  0.386972  0.914306  0.907784  0.620629\n",
              "3  0.533323  0.300016  0.216505  0.962230  0.866204\n",
              "4  0.557107  0.096059  0.877642  0.830525  0.984698"
            ]
          },
          "execution_count": 101,
          "metadata": {},
          "output_type": "execute_result"
        }
      ],
      "source": [
        "newdf.head()"
      ]
    },
    {
      "cell_type": "code",
      "execution_count": 102,
      "metadata": {
        "trusted": true
      },
      "outputs": [
        {
          "data": {
            "text/html": [
              "<div>\n",
              "<style scoped>\n",
              "    .dataframe tbody tr th:only-of-type {\n",
              "        vertical-align: middle;\n",
              "    }\n",
              "\n",
              "    .dataframe tbody tr th {\n",
              "        vertical-align: top;\n",
              "    }\n",
              "\n",
              "    .dataframe thead th {\n",
              "        text-align: right;\n",
              "    }\n",
              "</style>\n",
              "<table border=\"1\" class=\"dataframe\">\n",
              "  <thead>\n",
              "    <tr style=\"text-align: right;\">\n",
              "      <th></th>\n",
              "      <th>A</th>\n",
              "      <th>B</th>\n",
              "      <th>C</th>\n",
              "      <th>D</th>\n",
              "    </tr>\n",
              "  </thead>\n",
              "  <tbody>\n",
              "    <tr>\n",
              "      <th>0</th>\n",
              "      <td>XYZ</td>\n",
              "      <td>0.094181</td>\n",
              "      <td>0.428379</td>\n",
              "      <td>0.407079</td>\n",
              "    </tr>\n",
              "    <tr>\n",
              "      <th>1</th>\n",
              "      <td>Dev</td>\n",
              "      <td>0.813203</td>\n",
              "      <td>0.363148</td>\n",
              "      <td>0.542015</td>\n",
              "    </tr>\n",
              "    <tr>\n",
              "      <th>2</th>\n",
              "      <td>0.6063</td>\n",
              "      <td>0.386972</td>\n",
              "      <td>0.914306</td>\n",
              "      <td>0.907784</td>\n",
              "    </tr>\n",
              "    <tr>\n",
              "      <th>3</th>\n",
              "      <td>0.533323</td>\n",
              "      <td>0.300016</td>\n",
              "      <td>0.216505</td>\n",
              "      <td>0.962230</td>\n",
              "    </tr>\n",
              "    <tr>\n",
              "      <th>4</th>\n",
              "      <td>0.557107</td>\n",
              "      <td>0.096059</td>\n",
              "      <td>0.877642</td>\n",
              "      <td>0.830525</td>\n",
              "    </tr>\n",
              "    <tr>\n",
              "      <th>...</th>\n",
              "      <td>...</td>\n",
              "      <td>...</td>\n",
              "      <td>...</td>\n",
              "      <td>...</td>\n",
              "    </tr>\n",
              "    <tr>\n",
              "      <th>651</th>\n",
              "      <td>0.200125</td>\n",
              "      <td>0.839864</td>\n",
              "      <td>0.887887</td>\n",
              "      <td>0.552293</td>\n",
              "    </tr>\n",
              "    <tr>\n",
              "      <th>652</th>\n",
              "      <td>0.628054</td>\n",
              "      <td>0.734664</td>\n",
              "      <td>0.484412</td>\n",
              "      <td>0.365472</td>\n",
              "    </tr>\n",
              "    <tr>\n",
              "      <th>653</th>\n",
              "      <td>0.791533</td>\n",
              "      <td>0.598417</td>\n",
              "      <td>0.932812</td>\n",
              "      <td>0.477413</td>\n",
              "    </tr>\n",
              "    <tr>\n",
              "      <th>654</th>\n",
              "      <td>0.570368</td>\n",
              "      <td>0.576088</td>\n",
              "      <td>0.169085</td>\n",
              "      <td>0.956737</td>\n",
              "    </tr>\n",
              "    <tr>\n",
              "      <th>655</th>\n",
              "      <td>0.715831</td>\n",
              "      <td>0.250149</td>\n",
              "      <td>0.831169</td>\n",
              "      <td>0.561204</td>\n",
              "    </tr>\n",
              "  </tbody>\n",
              "</table>\n",
              "<p>656 rows × 4 columns</p>\n",
              "</div>"
            ],
            "text/plain": [
              "            A         B         C         D\n",
              "0         XYZ  0.094181  0.428379  0.407079\n",
              "1         Dev  0.813203  0.363148  0.542015\n",
              "2      0.6063  0.386972  0.914306  0.907784\n",
              "3    0.533323  0.300016  0.216505  0.962230\n",
              "4    0.557107  0.096059  0.877642  0.830525\n",
              "..        ...       ...       ...       ...\n",
              "651  0.200125  0.839864  0.887887  0.552293\n",
              "652  0.628054  0.734664  0.484412  0.365472\n",
              "653  0.791533  0.598417  0.932812  0.477413\n",
              "654  0.570368  0.576088  0.169085  0.956737\n",
              "655  0.715831  0.250149  0.831169  0.561204\n",
              "\n",
              "[656 rows x 4 columns]"
            ]
          },
          "execution_count": 102,
          "metadata": {},
          "output_type": "execute_result"
        }
      ],
      "source": [
        "newdf.drop(\"E\", axis = 1)"
      ]
    },
    {
      "cell_type": "code",
      "execution_count": 104,
      "metadata": {
        "trusted": true
      },
      "outputs": [
        {
          "data": {
            "text/html": [
              "<div>\n",
              "<style scoped>\n",
              "    .dataframe tbody tr th:only-of-type {\n",
              "        vertical-align: middle;\n",
              "    }\n",
              "\n",
              "    .dataframe tbody tr th {\n",
              "        vertical-align: top;\n",
              "    }\n",
              "\n",
              "    .dataframe thead th {\n",
              "        text-align: right;\n",
              "    }\n",
              "</style>\n",
              "<table border=\"1\" class=\"dataframe\">\n",
              "  <thead>\n",
              "    <tr style=\"text-align: right;\">\n",
              "      <th></th>\n",
              "      <th>C</th>\n",
              "      <th>D</th>\n",
              "    </tr>\n",
              "  </thead>\n",
              "  <tbody>\n",
              "    <tr>\n",
              "      <th>1</th>\n",
              "      <td>0.363148</td>\n",
              "      <td>0.542015</td>\n",
              "    </tr>\n",
              "    <tr>\n",
              "      <th>2</th>\n",
              "      <td>0.914306</td>\n",
              "      <td>0.907784</td>\n",
              "    </tr>\n",
              "  </tbody>\n",
              "</table>\n",
              "</div>"
            ],
            "text/plain": [
              "          C         D\n",
              "1  0.363148  0.542015\n",
              "2  0.914306  0.907784"
            ]
          },
          "execution_count": 104,
          "metadata": {},
          "output_type": "execute_result"
        }
      ],
      "source": [
        "newdf.loc[[1,2], [\"C\",\"D\"]]"
      ]
    },
    {
      "cell_type": "code",
      "execution_count": 105,
      "metadata": {
        "trusted": true
      },
      "outputs": [
        {
          "data": {
            "text/html": [
              "<div>\n",
              "<style scoped>\n",
              "    .dataframe tbody tr th:only-of-type {\n",
              "        vertical-align: middle;\n",
              "    }\n",
              "\n",
              "    .dataframe tbody tr th {\n",
              "        vertical-align: top;\n",
              "    }\n",
              "\n",
              "    .dataframe thead th {\n",
              "        text-align: right;\n",
              "    }\n",
              "</style>\n",
              "<table border=\"1\" class=\"dataframe\">\n",
              "  <thead>\n",
              "    <tr style=\"text-align: right;\">\n",
              "      <th></th>\n",
              "      <th>B</th>\n",
              "      <th>C</th>\n",
              "    </tr>\n",
              "  </thead>\n",
              "  <tbody>\n",
              "    <tr>\n",
              "      <th>0</th>\n",
              "      <td>0.094181</td>\n",
              "      <td>0.428379</td>\n",
              "    </tr>\n",
              "    <tr>\n",
              "      <th>1</th>\n",
              "      <td>0.813203</td>\n",
              "      <td>0.363148</td>\n",
              "    </tr>\n",
              "    <tr>\n",
              "      <th>2</th>\n",
              "      <td>0.386972</td>\n",
              "      <td>0.914306</td>\n",
              "    </tr>\n",
              "    <tr>\n",
              "      <th>3</th>\n",
              "      <td>0.300016</td>\n",
              "      <td>0.216505</td>\n",
              "    </tr>\n",
              "    <tr>\n",
              "      <th>4</th>\n",
              "      <td>0.096059</td>\n",
              "      <td>0.877642</td>\n",
              "    </tr>\n",
              "    <tr>\n",
              "      <th>...</th>\n",
              "      <td>...</td>\n",
              "      <td>...</td>\n",
              "    </tr>\n",
              "    <tr>\n",
              "      <th>651</th>\n",
              "      <td>0.839864</td>\n",
              "      <td>0.887887</td>\n",
              "    </tr>\n",
              "    <tr>\n",
              "      <th>652</th>\n",
              "      <td>0.734664</td>\n",
              "      <td>0.484412</td>\n",
              "    </tr>\n",
              "    <tr>\n",
              "      <th>653</th>\n",
              "      <td>0.598417</td>\n",
              "      <td>0.932812</td>\n",
              "    </tr>\n",
              "    <tr>\n",
              "      <th>654</th>\n",
              "      <td>0.576088</td>\n",
              "      <td>0.169085</td>\n",
              "    </tr>\n",
              "    <tr>\n",
              "      <th>655</th>\n",
              "      <td>0.250149</td>\n",
              "      <td>0.831169</td>\n",
              "    </tr>\n",
              "  </tbody>\n",
              "</table>\n",
              "<p>656 rows × 2 columns</p>\n",
              "</div>"
            ],
            "text/plain": [
              "            B         C\n",
              "0    0.094181  0.428379\n",
              "1    0.813203  0.363148\n",
              "2    0.386972  0.914306\n",
              "3    0.300016  0.216505\n",
              "4    0.096059  0.877642\n",
              "..        ...       ...\n",
              "651  0.839864  0.887887\n",
              "652  0.734664  0.484412\n",
              "653  0.598417  0.932812\n",
              "654  0.576088  0.169085\n",
              "655  0.250149  0.831169\n",
              "\n",
              "[656 rows x 2 columns]"
            ]
          },
          "execution_count": 105,
          "metadata": {},
          "output_type": "execute_result"
        }
      ],
      "source": [
        "newdf.loc[:, [\"B\", \"C\"]]"
      ]
    },
    {
      "cell_type": "code",
      "execution_count": 110,
      "metadata": {
        "trusted": true
      },
      "outputs": [
        {
          "data": {
            "text/html": [
              "<div>\n",
              "<style scoped>\n",
              "    .dataframe tbody tr th:only-of-type {\n",
              "        vertical-align: middle;\n",
              "    }\n",
              "\n",
              "    .dataframe tbody tr th {\n",
              "        vertical-align: top;\n",
              "    }\n",
              "\n",
              "    .dataframe thead th {\n",
              "        text-align: right;\n",
              "    }\n",
              "</style>\n",
              "<table border=\"1\" class=\"dataframe\">\n",
              "  <thead>\n",
              "    <tr style=\"text-align: right;\">\n",
              "      <th></th>\n",
              "      <th>A</th>\n",
              "      <th>B</th>\n",
              "      <th>C</th>\n",
              "      <th>D</th>\n",
              "      <th>E</th>\n",
              "    </tr>\n",
              "  </thead>\n",
              "  <tbody>\n",
              "    <tr>\n",
              "      <th>57</th>\n",
              "      <td>0.246638</td>\n",
              "      <td>0.886048</td>\n",
              "      <td>0.018947</td>\n",
              "      <td>0.305184</td>\n",
              "      <td>0.620731</td>\n",
              "    </tr>\n",
              "    <tr>\n",
              "      <th>210</th>\n",
              "      <td>0.631648</td>\n",
              "      <td>0.808872</td>\n",
              "      <td>0.006885</td>\n",
              "      <td>0.577642</td>\n",
              "      <td>0.391953</td>\n",
              "    </tr>\n",
              "    <tr>\n",
              "      <th>250</th>\n",
              "      <td>0.657474</td>\n",
              "      <td>0.878373</td>\n",
              "      <td>0.040947</td>\n",
              "      <td>0.930049</td>\n",
              "      <td>0.003302</td>\n",
              "    </tr>\n",
              "    <tr>\n",
              "      <th>273</th>\n",
              "      <td>0.997622</td>\n",
              "      <td>0.999240</td>\n",
              "      <td>0.048908</td>\n",
              "      <td>0.735744</td>\n",
              "      <td>0.855058</td>\n",
              "    </tr>\n",
              "    <tr>\n",
              "      <th>275</th>\n",
              "      <td>0.536074</td>\n",
              "      <td>0.884752</td>\n",
              "      <td>0.021390</td>\n",
              "      <td>0.890835</td>\n",
              "      <td>0.706028</td>\n",
              "    </tr>\n",
              "    <tr>\n",
              "      <th>285</th>\n",
              "      <td>0.01453</td>\n",
              "      <td>0.646251</td>\n",
              "      <td>0.041161</td>\n",
              "      <td>0.967147</td>\n",
              "      <td>0.805820</td>\n",
              "    </tr>\n",
              "    <tr>\n",
              "      <th>338</th>\n",
              "      <td>0.55929</td>\n",
              "      <td>0.505142</td>\n",
              "      <td>0.007502</td>\n",
              "      <td>0.215483</td>\n",
              "      <td>0.511643</td>\n",
              "    </tr>\n",
              "    <tr>\n",
              "      <th>373</th>\n",
              "      <td>0.693086</td>\n",
              "      <td>0.827781</td>\n",
              "      <td>0.027920</td>\n",
              "      <td>0.936133</td>\n",
              "      <td>0.930883</td>\n",
              "    </tr>\n",
              "    <tr>\n",
              "      <th>389</th>\n",
              "      <td>0.932753</td>\n",
              "      <td>0.724432</td>\n",
              "      <td>0.005368</td>\n",
              "      <td>0.540614</td>\n",
              "      <td>0.566715</td>\n",
              "    </tr>\n",
              "    <tr>\n",
              "      <th>412</th>\n",
              "      <td>0.571606</td>\n",
              "      <td>0.912436</td>\n",
              "      <td>0.037952</td>\n",
              "      <td>0.723494</td>\n",
              "      <td>0.821366</td>\n",
              "    </tr>\n",
              "    <tr>\n",
              "      <th>482</th>\n",
              "      <td>0.755324</td>\n",
              "      <td>0.847693</td>\n",
              "      <td>0.032285</td>\n",
              "      <td>0.159648</td>\n",
              "      <td>0.019319</td>\n",
              "    </tr>\n",
              "    <tr>\n",
              "      <th>502</th>\n",
              "      <td>0.388195</td>\n",
              "      <td>0.975452</td>\n",
              "      <td>0.031934</td>\n",
              "      <td>0.876148</td>\n",
              "      <td>0.805276</td>\n",
              "    </tr>\n",
              "    <tr>\n",
              "      <th>539</th>\n",
              "      <td>0.784767</td>\n",
              "      <td>0.935589</td>\n",
              "      <td>0.022630</td>\n",
              "      <td>0.725859</td>\n",
              "      <td>0.374835</td>\n",
              "    </tr>\n",
              "    <tr>\n",
              "      <th>567</th>\n",
              "      <td>0.401448</td>\n",
              "      <td>0.704022</td>\n",
              "      <td>0.006224</td>\n",
              "      <td>0.421088</td>\n",
              "      <td>0.594454</td>\n",
              "    </tr>\n",
              "    <tr>\n",
              "      <th>577</th>\n",
              "      <td>0.2602</td>\n",
              "      <td>0.682168</td>\n",
              "      <td>0.026941</td>\n",
              "      <td>0.889672</td>\n",
              "      <td>0.082294</td>\n",
              "    </tr>\n",
              "    <tr>\n",
              "      <th>592</th>\n",
              "      <td>0.355262</td>\n",
              "      <td>0.742470</td>\n",
              "      <td>0.042480</td>\n",
              "      <td>0.361811</td>\n",
              "      <td>0.728469</td>\n",
              "    </tr>\n",
              "    <tr>\n",
              "      <th>611</th>\n",
              "      <td>0.651891</td>\n",
              "      <td>0.804641</td>\n",
              "      <td>0.029864</td>\n",
              "      <td>0.678533</td>\n",
              "      <td>0.871171</td>\n",
              "    </tr>\n",
              "    <tr>\n",
              "      <th>614</th>\n",
              "      <td>0.811437</td>\n",
              "      <td>0.838936</td>\n",
              "      <td>0.009941</td>\n",
              "      <td>0.801622</td>\n",
              "      <td>0.935061</td>\n",
              "    </tr>\n",
              "  </tbody>\n",
              "</table>\n",
              "</div>"
            ],
            "text/plain": [
              "            A         B         C         D         E\n",
              "57   0.246638  0.886048  0.018947  0.305184  0.620731\n",
              "210  0.631648  0.808872  0.006885  0.577642  0.391953\n",
              "250  0.657474  0.878373  0.040947  0.930049  0.003302\n",
              "273  0.997622  0.999240  0.048908  0.735744  0.855058\n",
              "275  0.536074  0.884752  0.021390  0.890835  0.706028\n",
              "285   0.01453  0.646251  0.041161  0.967147  0.805820\n",
              "338   0.55929  0.505142  0.007502  0.215483  0.511643\n",
              "373  0.693086  0.827781  0.027920  0.936133  0.930883\n",
              "389  0.932753  0.724432  0.005368  0.540614  0.566715\n",
              "412  0.571606  0.912436  0.037952  0.723494  0.821366\n",
              "482  0.755324  0.847693  0.032285  0.159648  0.019319\n",
              "502  0.388195  0.975452  0.031934  0.876148  0.805276\n",
              "539  0.784767  0.935589  0.022630  0.725859  0.374835\n",
              "567  0.401448  0.704022  0.006224  0.421088  0.594454\n",
              "577    0.2602  0.682168  0.026941  0.889672  0.082294\n",
              "592  0.355262  0.742470  0.042480  0.361811  0.728469\n",
              "611  0.651891  0.804641  0.029864  0.678533  0.871171\n",
              "614  0.811437  0.838936  0.009941  0.801622  0.935061"
            ]
          },
          "execution_count": 110,
          "metadata": {},
          "output_type": "execute_result"
        }
      ],
      "source": [
        "newdf.loc[(newdf[\"B\"]>0.4) & (newdf[\"C\"] <0.05)]"
      ]
    },
    {
      "cell_type": "code",
      "execution_count": 111,
      "metadata": {
        "trusted": true
      },
      "outputs": [
        {
          "data": {
            "text/plain": [
              "0.604743054795642"
            ]
          },
          "execution_count": 111,
          "metadata": {},
          "output_type": "execute_result"
        }
      ],
      "source": [
        "newdf.iloc[0,4]"
      ]
    },
    {
      "cell_type": "code",
      "execution_count": 118,
      "metadata": {
        "trusted": true
      },
      "outputs": [
        {
          "data": {
            "text/html": [
              "<div>\n",
              "<style scoped>\n",
              "    .dataframe tbody tr th:only-of-type {\n",
              "        vertical-align: middle;\n",
              "    }\n",
              "\n",
              "    .dataframe tbody tr th {\n",
              "        vertical-align: top;\n",
              "    }\n",
              "\n",
              "    .dataframe thead th {\n",
              "        text-align: right;\n",
              "    }\n",
              "</style>\n",
              "<table border=\"1\" class=\"dataframe\">\n",
              "  <thead>\n",
              "    <tr style=\"text-align: right;\">\n",
              "      <th></th>\n",
              "      <th>B</th>\n",
              "      <th>C</th>\n",
              "      <th>D</th>\n",
              "    </tr>\n",
              "  </thead>\n",
              "  <tbody>\n",
              "    <tr>\n",
              "      <th>0</th>\n",
              "      <td>0.094181</td>\n",
              "      <td>0.428379</td>\n",
              "      <td>0.407079</td>\n",
              "    </tr>\n",
              "    <tr>\n",
              "      <th>1</th>\n",
              "      <td>0.813203</td>\n",
              "      <td>0.363148</td>\n",
              "      <td>0.542015</td>\n",
              "    </tr>\n",
              "  </tbody>\n",
              "</table>\n",
              "</div>"
            ],
            "text/plain": [
              "          B         C         D\n",
              "0  0.094181  0.428379  0.407079\n",
              "1  0.813203  0.363148  0.542015"
            ]
          },
          "execution_count": 118,
          "metadata": {},
          "output_type": "execute_result"
        }
      ],
      "source": [
        "newdf.iloc[[0,1], 1:4]"
      ]
    },
    {
      "cell_type": "code",
      "execution_count": 125,
      "metadata": {
        "trusted": true
      },
      "outputs": [
        {
          "data": {
            "text/html": [
              "<div>\n",
              "<style scoped>\n",
              "    .dataframe tbody tr th:only-of-type {\n",
              "        vertical-align: middle;\n",
              "    }\n",
              "\n",
              "    .dataframe tbody tr th {\n",
              "        vertical-align: top;\n",
              "    }\n",
              "\n",
              "    .dataframe thead th {\n",
              "        text-align: right;\n",
              "    }\n",
              "</style>\n",
              "<table border=\"1\" class=\"dataframe\">\n",
              "  <thead>\n",
              "    <tr style=\"text-align: right;\">\n",
              "      <th></th>\n",
              "      <th>B</th>\n",
              "      <th>D</th>\n",
              "      <th>E</th>\n",
              "    </tr>\n",
              "  </thead>\n",
              "  <tbody>\n",
              "    <tr>\n",
              "      <th>0</th>\n",
              "      <td>0.094181</td>\n",
              "      <td>0.407079</td>\n",
              "      <td>0.604743</td>\n",
              "    </tr>\n",
              "    <tr>\n",
              "      <th>1</th>\n",
              "      <td>0.813203</td>\n",
              "      <td>0.542015</td>\n",
              "      <td>0.043320</td>\n",
              "    </tr>\n",
              "    <tr>\n",
              "      <th>2</th>\n",
              "      <td>0.386972</td>\n",
              "      <td>0.907784</td>\n",
              "      <td>0.620629</td>\n",
              "    </tr>\n",
              "    <tr>\n",
              "      <th>3</th>\n",
              "      <td>0.300016</td>\n",
              "      <td>0.962230</td>\n",
              "      <td>0.866204</td>\n",
              "    </tr>\n",
              "    <tr>\n",
              "      <th>4</th>\n",
              "      <td>0.096059</td>\n",
              "      <td>0.830525</td>\n",
              "      <td>0.984698</td>\n",
              "    </tr>\n",
              "    <tr>\n",
              "      <th>...</th>\n",
              "      <td>...</td>\n",
              "      <td>...</td>\n",
              "      <td>...</td>\n",
              "    </tr>\n",
              "    <tr>\n",
              "      <th>651</th>\n",
              "      <td>0.839864</td>\n",
              "      <td>0.552293</td>\n",
              "      <td>0.303394</td>\n",
              "    </tr>\n",
              "    <tr>\n",
              "      <th>652</th>\n",
              "      <td>0.734664</td>\n",
              "      <td>0.365472</td>\n",
              "      <td>0.055773</td>\n",
              "    </tr>\n",
              "    <tr>\n",
              "      <th>653</th>\n",
              "      <td>0.598417</td>\n",
              "      <td>0.477413</td>\n",
              "      <td>0.986886</td>\n",
              "    </tr>\n",
              "    <tr>\n",
              "      <th>654</th>\n",
              "      <td>0.576088</td>\n",
              "      <td>0.956737</td>\n",
              "      <td>0.556501</td>\n",
              "    </tr>\n",
              "    <tr>\n",
              "      <th>655</th>\n",
              "      <td>0.250149</td>\n",
              "      <td>0.561204</td>\n",
              "      <td>0.225498</td>\n",
              "    </tr>\n",
              "  </tbody>\n",
              "</table>\n",
              "<p>656 rows × 3 columns</p>\n",
              "</div>"
            ],
            "text/plain": [
              "            B         D         E\n",
              "0    0.094181  0.407079  0.604743\n",
              "1    0.813203  0.542015  0.043320\n",
              "2    0.386972  0.907784  0.620629\n",
              "3    0.300016  0.962230  0.866204\n",
              "4    0.096059  0.830525  0.984698\n",
              "..        ...       ...       ...\n",
              "651  0.839864  0.552293  0.303394\n",
              "652  0.734664  0.365472  0.055773\n",
              "653  0.598417  0.477413  0.986886\n",
              "654  0.576088  0.956737  0.556501\n",
              "655  0.250149  0.561204  0.225498\n",
              "\n",
              "[656 rows x 3 columns]"
            ]
          },
          "execution_count": 125,
          "metadata": {},
          "output_type": "execute_result"
        }
      ],
      "source": [
        "newdf.drop([2,4])\n",
        "newdf.drop([\"A\", \"C\"], axis = 1)"
      ]
    },
    {
      "cell_type": "code",
      "execution_count": 127,
      "metadata": {
        "trusted": true
      },
      "outputs": [
        {
          "name": "stderr",
          "output_type": "stream",
          "text": [
            "<ipython-input-127-ba5013f6570c>:1: DeprecationWarning: In a future version, `df.iloc[:, i] = newvals` will attempt to set the values inplace instead of always setting a new array. To retain the old behavior, use either `df[df.columns[i]] = newvals` or, if columns are non-unique, `df.isetitem(i, newvals)`\n",
            "  newdf.loc[:,[\"A\"]] = 69\n"
          ]
        }
      ],
      "source": [
        "newdf.loc[:,[\"A\"]] = 69"
      ]
    },
    {
      "cell_type": "code",
      "execution_count": 129,
      "metadata": {
        "trusted": true
      },
      "outputs": [
        {
          "data": {
            "text/html": [
              "<div>\n",
              "<style scoped>\n",
              "    .dataframe tbody tr th:only-of-type {\n",
              "        vertical-align: middle;\n",
              "    }\n",
              "\n",
              "    .dataframe tbody tr th {\n",
              "        vertical-align: top;\n",
              "    }\n",
              "\n",
              "    .dataframe thead th {\n",
              "        text-align: right;\n",
              "    }\n",
              "</style>\n",
              "<table border=\"1\" class=\"dataframe\">\n",
              "  <thead>\n",
              "    <tr style=\"text-align: right;\">\n",
              "      <th></th>\n",
              "      <th>A</th>\n",
              "      <th>B</th>\n",
              "      <th>C</th>\n",
              "      <th>D</th>\n",
              "      <th>E</th>\n",
              "    </tr>\n",
              "  </thead>\n",
              "  <tbody>\n",
              "    <tr>\n",
              "      <th>0</th>\n",
              "      <td>69</td>\n",
              "      <td>0.094181</td>\n",
              "      <td>0.428379</td>\n",
              "      <td>0.407079</td>\n",
              "      <td>0.604743</td>\n",
              "    </tr>\n",
              "    <tr>\n",
              "      <th>1</th>\n",
              "      <td>69</td>\n",
              "      <td>0.813203</td>\n",
              "      <td>0.363148</td>\n",
              "      <td>0.542015</td>\n",
              "      <td>0.043320</td>\n",
              "    </tr>\n",
              "    <tr>\n",
              "      <th>2</th>\n",
              "      <td>69</td>\n",
              "      <td>0.386972</td>\n",
              "      <td>0.914306</td>\n",
              "      <td>0.907784</td>\n",
              "      <td>0.620629</td>\n",
              "    </tr>\n",
              "    <tr>\n",
              "      <th>3</th>\n",
              "      <td>69</td>\n",
              "      <td>0.300016</td>\n",
              "      <td>0.216505</td>\n",
              "      <td>0.962230</td>\n",
              "      <td>0.866204</td>\n",
              "    </tr>\n",
              "    <tr>\n",
              "      <th>4</th>\n",
              "      <td>69</td>\n",
              "      <td>0.096059</td>\n",
              "      <td>0.877642</td>\n",
              "      <td>0.830525</td>\n",
              "      <td>0.984698</td>\n",
              "    </tr>\n",
              "  </tbody>\n",
              "</table>\n",
              "</div>"
            ],
            "text/plain": [
              "    A         B         C         D         E\n",
              "0  69  0.094181  0.428379  0.407079  0.604743\n",
              "1  69  0.813203  0.363148  0.542015  0.043320\n",
              "2  69  0.386972  0.914306  0.907784  0.620629\n",
              "3  69  0.300016  0.216505  0.962230  0.866204\n",
              "4  69  0.096059  0.877642  0.830525  0.984698"
            ]
          },
          "execution_count": 129,
          "metadata": {},
          "output_type": "execute_result"
        }
      ],
      "source": [
        "newdf.head()"
      ]
    },
    {
      "cell_type": "code",
      "execution_count": 130,
      "metadata": {
        "trusted": true
      },
      "outputs": [],
      "source": [
        "df2 = pd.DataFrame(\n",
        "    {\n",
        "        \"A\": 1.0,\n",
        "        \"B\": pd.Timestamp(\"20130102\"),\n",
        "        \"C\": pd.Series(1, index=list(range(4)), dtype=\"float32\"),\n",
        "        \"D\": np.array([3] * 4, dtype=\"int32\"),\n",
        "        \"E\": pd.Categorical([\"test\", \"train\", \"test\", \"train\"]),\n",
        "        \"F\": \"foo\",\n",
        "    }\n",
        ")"
      ]
    },
    {
      "cell_type": "code",
      "execution_count": 131,
      "metadata": {
        "trusted": true
      },
      "outputs": [
        {
          "data": {
            "text/html": [
              "<div>\n",
              "<style scoped>\n",
              "    .dataframe tbody tr th:only-of-type {\n",
              "        vertical-align: middle;\n",
              "    }\n",
              "\n",
              "    .dataframe tbody tr th {\n",
              "        vertical-align: top;\n",
              "    }\n",
              "\n",
              "    .dataframe thead th {\n",
              "        text-align: right;\n",
              "    }\n",
              "</style>\n",
              "<table border=\"1\" class=\"dataframe\">\n",
              "  <thead>\n",
              "    <tr style=\"text-align: right;\">\n",
              "      <th></th>\n",
              "      <th>A</th>\n",
              "      <th>B</th>\n",
              "      <th>C</th>\n",
              "      <th>D</th>\n",
              "      <th>E</th>\n",
              "      <th>F</th>\n",
              "    </tr>\n",
              "  </thead>\n",
              "  <tbody>\n",
              "    <tr>\n",
              "      <th>0</th>\n",
              "      <td>1.0</td>\n",
              "      <td>2013-01-02</td>\n",
              "      <td>1.0</td>\n",
              "      <td>3</td>\n",
              "      <td>test</td>\n",
              "      <td>foo</td>\n",
              "    </tr>\n",
              "    <tr>\n",
              "      <th>1</th>\n",
              "      <td>1.0</td>\n",
              "      <td>2013-01-02</td>\n",
              "      <td>1.0</td>\n",
              "      <td>3</td>\n",
              "      <td>train</td>\n",
              "      <td>foo</td>\n",
              "    </tr>\n",
              "    <tr>\n",
              "      <th>2</th>\n",
              "      <td>1.0</td>\n",
              "      <td>2013-01-02</td>\n",
              "      <td>1.0</td>\n",
              "      <td>3</td>\n",
              "      <td>test</td>\n",
              "      <td>foo</td>\n",
              "    </tr>\n",
              "    <tr>\n",
              "      <th>3</th>\n",
              "      <td>1.0</td>\n",
              "      <td>2013-01-02</td>\n",
              "      <td>1.0</td>\n",
              "      <td>3</td>\n",
              "      <td>train</td>\n",
              "      <td>foo</td>\n",
              "    </tr>\n",
              "  </tbody>\n",
              "</table>\n",
              "</div>"
            ],
            "text/plain": [
              "     A          B    C  D      E    F\n",
              "0  1.0 2013-01-02  1.0  3   test  foo\n",
              "1  1.0 2013-01-02  1.0  3  train  foo\n",
              "2  1.0 2013-01-02  1.0  3   test  foo\n",
              "3  1.0 2013-01-02  1.0  3  train  foo"
            ]
          },
          "execution_count": 131,
          "metadata": {},
          "output_type": "execute_result"
        }
      ],
      "source": [
        "df2"
      ]
    },
    {
      "cell_type": "code",
      "execution_count": 134,
      "metadata": {
        "trusted": true
      },
      "outputs": [
        {
          "data": {
            "text/plain": [
              "A           float64\n",
              "B    datetime64[ns]\n",
              "C           float32\n",
              "D             int32\n",
              "E          category\n",
              "F            object\n",
              "dtype: object"
            ]
          },
          "execution_count": 134,
          "metadata": {},
          "output_type": "execute_result"
        }
      ],
      "source": [
        "df2.dtypes"
      ]
    },
    {
      "cell_type": "code",
      "execution_count": 135,
      "metadata": {
        "trusted": true
      },
      "outputs": [
        {
          "data": {
            "text/html": [
              "<div>\n",
              "<style scoped>\n",
              "    .dataframe tbody tr th:only-of-type {\n",
              "        vertical-align: middle;\n",
              "    }\n",
              "\n",
              "    .dataframe tbody tr th {\n",
              "        vertical-align: top;\n",
              "    }\n",
              "\n",
              "    .dataframe thead th {\n",
              "        text-align: right;\n",
              "    }\n",
              "</style>\n",
              "<table border=\"1\" class=\"dataframe\">\n",
              "  <thead>\n",
              "    <tr style=\"text-align: right;\">\n",
              "      <th></th>\n",
              "      <th>Train</th>\n",
              "      <th>Number</th>\n",
              "      <th>Seat</th>\n",
              "    </tr>\n",
              "  </thead>\n",
              "  <tbody>\n",
              "    <tr>\n",
              "      <th>First</th>\n",
              "      <td>False</td>\n",
              "      <td>False</td>\n",
              "      <td>False</td>\n",
              "    </tr>\n",
              "    <tr>\n",
              "      <th>Second</th>\n",
              "      <td>False</td>\n",
              "      <td>False</td>\n",
              "      <td>False</td>\n",
              "    </tr>\n",
              "    <tr>\n",
              "      <th>Third</th>\n",
              "      <td>False</td>\n",
              "      <td>False</td>\n",
              "      <td>False</td>\n",
              "    </tr>\n",
              "    <tr>\n",
              "      <th>Fourth</th>\n",
              "      <td>False</td>\n",
              "      <td>False</td>\n",
              "      <td>False</td>\n",
              "    </tr>\n",
              "  </tbody>\n",
              "</table>\n",
              "</div>"
            ],
            "text/plain": [
              "        Train  Number    Seat\n",
              "First   False    False  False\n",
              "Second  False    False  False\n",
              "Third   False    False  False\n",
              "Fourth  False    False  False"
            ]
          },
          "execution_count": 135,
          "metadata": {},
          "output_type": "execute_result"
        }
      ],
      "source": [
        "df.isnull()"
      ]
    },
    {
      "cell_type": "code",
      "execution_count": 136,
      "metadata": {
        "trusted": true
      },
      "outputs": [
        {
          "data": {
            "text/plain": [
              "Train      ABCDEFGHIJKL\n",
              "Number            17178\n",
              "Seat       HY3KO2WN5BH2\n",
              "dtype: object"
            ]
          },
          "execution_count": 136,
          "metadata": {},
          "output_type": "execute_result"
        }
      ],
      "source": [
        "df.sum()"
      ]
    },
    {
      "cell_type": "code",
      "execution_count": 140,
      "metadata": {
        "trusted": true
      },
      "outputs": [
        {
          "name": "stderr",
          "output_type": "stream",
          "text": [
            "<ipython-input-140-c61f0c8f89b5>:1: FutureWarning: The default value of numeric_only in DataFrame.mean is deprecated. In a future version, it will default to False. In addition, specifying 'numeric_only=None' is deprecated. Select only valid columns or specify the value of numeric_only to silence this warning.\n",
            "  df.mean()\n"
          ]
        },
        {
          "data": {
            "text/plain": [
              "Number     4294.5\n",
              "dtype: float64"
            ]
          },
          "execution_count": 140,
          "metadata": {},
          "output_type": "execute_result"
        }
      ],
      "source": [
        "df.mean()"
      ]
    },
    {
      "cell_type": "code",
      "execution_count": 141,
      "metadata": {
        "trusted": true
      },
      "outputs": [
        {
          "name": "stderr",
          "output_type": "stream",
          "text": [
            "<ipython-input-141-2f6f6606aa2c>:1: FutureWarning: The default value of numeric_only in DataFrame.corr is deprecated. In a future version, it will default to False. Select only valid columns or specify the value of numeric_only to silence this warning.\n",
            "  df.corr()\n"
          ]
        },
        {
          "data": {
            "text/html": [
              "<div>\n",
              "<style scoped>\n",
              "    .dataframe tbody tr th:only-of-type {\n",
              "        vertical-align: middle;\n",
              "    }\n",
              "\n",
              "    .dataframe tbody tr th {\n",
              "        vertical-align: top;\n",
              "    }\n",
              "\n",
              "    .dataframe thead th {\n",
              "        text-align: right;\n",
              "    }\n",
              "</style>\n",
              "<table border=\"1\" class=\"dataframe\">\n",
              "  <thead>\n",
              "    <tr style=\"text-align: right;\">\n",
              "      <th></th>\n",
              "      <th>Number</th>\n",
              "    </tr>\n",
              "  </thead>\n",
              "  <tbody>\n",
              "    <tr>\n",
              "      <th>Number</th>\n",
              "      <td>1.0</td>\n",
              "    </tr>\n",
              "  </tbody>\n",
              "</table>\n",
              "</div>"
            ],
            "text/plain": [
              "         Number \n",
              "Number       1.0"
            ]
          },
          "execution_count": 141,
          "metadata": {},
          "output_type": "execute_result"
        }
      ],
      "source": [
        "df.corr()"
      ]
    },
    {
      "cell_type": "code",
      "execution_count": 142,
      "metadata": {
        "trusted": true
      },
      "outputs": [
        {
          "data": {
            "text/plain": [
              "Train       JKL\n",
              "Number     8723\n",
              "Seat        WN5\n",
              "dtype: object"
            ]
          },
          "execution_count": 142,
          "metadata": {},
          "output_type": "execute_result"
        }
      ],
      "source": [
        "df.max()"
      ]
    },
    {
      "cell_type": "code",
      "execution_count": 143,
      "metadata": {
        "trusted": true
      },
      "outputs": [
        {
          "data": {
            "text/plain": [
              "Train       ABC\n",
              "Number     1004\n",
              "Seat        BH2\n",
              "dtype: object"
            ]
          },
          "execution_count": 143,
          "metadata": {},
          "output_type": "execute_result"
        }
      ],
      "source": [
        "df.min()"
      ]
    },
    {
      "cell_type": "code",
      "execution_count": 144,
      "metadata": {
        "trusted": true
      },
      "outputs": [
        {
          "name": "stderr",
          "output_type": "stream",
          "text": [
            "<ipython-input-144-ce97bb7eaef8>:1: FutureWarning: The default value of numeric_only in DataFrame.std is deprecated. In a future version, it will default to False. In addition, specifying 'numeric_only=None' is deprecated. Select only valid columns or specify the value of numeric_only to silence this warning.\n",
            "  df.std()\n"
          ]
        },
        {
          "data": {
            "text/plain": [
              "Number     3509.272907\n",
              "dtype: float64"
            ]
          },
          "execution_count": 144,
          "metadata": {},
          "output_type": "execute_result"
        }
      ],
      "source": [
        "df.std()"
      ]
    },
    {
      "cell_type": "code",
      "execution_count": null,
      "metadata": {
        "editable": true,
        "slideshow": {
          "slide_type": ""
        },
        "tags": [],
        "trusted": true
      },
      "outputs": [],
      "source": []
    }
  ],
  "metadata": {
    "kernelspec": {
      "display_name": "Python 3",
      "language": "python",
      "name": "python3"
    },
    "language_info": {
      "codemirror_mode": {
        "name": "ipython",
        "version": 3
      },
      "file_extension": ".py",
      "mimetype": "text/x-python",
      "name": "python",
      "nbconvert_exporter": "python",
      "pygments_lexer": "ipython3",
      "version": "3.10.6"
    }
  },
  "nbformat": 4,
  "nbformat_minor": 4
}

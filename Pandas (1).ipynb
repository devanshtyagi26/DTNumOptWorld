{
  "metadata": {
    "kernelspec": {
      "name": "python",
      "display_name": "Python (Pyodide)",
      "language": "python"
    },
    "language_info": {
      "codemirror_mode": {
        "name": "python",
        "version": 3
      },
      "file_extension": ".py",
      "mimetype": "text/x-python",
      "name": "python",
      "nbconvert_exporter": "python",
      "pygments_lexer": "ipython3",
      "version": "3.8"
    }
  },
  "nbformat_minor": 4,
  "nbformat": 4,
  "cells": [
    {
      "cell_type": "code",
      "source": "import pandas as pd;\nimport numpy as np;",
      "metadata": {
        "trusted": true,
        "tags": [],
        "editable": true,
        "slideshow": {
          "slide_type": ""
        }
      },
      "outputs": [],
      "execution_count": 1
    },
    {
      "cell_type": "code",
      "source": "dict1 = {\n    \"Name\": [\"Devansh\", \"Ravi\", \"David\", \"Vasu\"],\n    \"Marks\": [98,65,76,84],\n    \"Class\": [12,11,9,7]\n}",
      "metadata": {
        "trusted": true
      },
      "outputs": [],
      "execution_count": 4
    },
    {
      "cell_type": "code",
      "source": "df = pd.DataFrame(dict1)\ndf",
      "metadata": {
        "trusted": true
      },
      "outputs": [
        {
          "execution_count": 7,
          "output_type": "execute_result",
          "data": {
            "text/plain": "      Name  Marks  Class\n0  Devansh     98     12\n1     Ravi     65     11\n2    David     76      9\n3     Vasu     84      7",
            "text/html": "<div>\n<style scoped>\n    .dataframe tbody tr th:only-of-type {\n        vertical-align: middle;\n    }\n\n    .dataframe tbody tr th {\n        vertical-align: top;\n    }\n\n    .dataframe thead th {\n        text-align: right;\n    }\n</style>\n<table border=\"1\" class=\"dataframe\">\n  <thead>\n    <tr style=\"text-align: right;\">\n      <th></th>\n      <th>Name</th>\n      <th>Marks</th>\n      <th>Class</th>\n    </tr>\n  </thead>\n  <tbody>\n    <tr>\n      <th>0</th>\n      <td>Devansh</td>\n      <td>98</td>\n      <td>12</td>\n    </tr>\n    <tr>\n      <th>1</th>\n      <td>Ravi</td>\n      <td>65</td>\n      <td>11</td>\n    </tr>\n    <tr>\n      <th>2</th>\n      <td>David</td>\n      <td>76</td>\n      <td>9</td>\n    </tr>\n    <tr>\n      <th>3</th>\n      <td>Vasu</td>\n      <td>84</td>\n      <td>7</td>\n    </tr>\n  </tbody>\n</table>\n</div>"
          },
          "metadata": {}
        }
      ],
      "execution_count": 7
    },
    {
      "cell_type": "code",
      "source": "df.to_csv(\"dict.csv\")",
      "metadata": {
        "trusted": true
      },
      "outputs": [],
      "execution_count": 8
    },
    {
      "cell_type": "code",
      "source": "df.to_csv(\"dict_no_index.csv\", index = False)",
      "metadata": {
        "trusted": true,
        "tags": [],
        "editable": true,
        "slideshow": {
          "slide_type": ""
        }
      },
      "outputs": [],
      "execution_count": 9
    },
    {
      "cell_type": "code",
      "source": "df.head(2)",
      "metadata": {
        "trusted": true,
        "tags": [],
        "editable": true,
        "slideshow": {
          "slide_type": ""
        }
      },
      "outputs": [
        {
          "execution_count": 10,
          "output_type": "execute_result",
          "data": {
            "text/plain": "      Name  Marks  Class\n0  Devansh     98     12\n1     Ravi     65     11",
            "text/html": "<div>\n<style scoped>\n    .dataframe tbody tr th:only-of-type {\n        vertical-align: middle;\n    }\n\n    .dataframe tbody tr th {\n        vertical-align: top;\n    }\n\n    .dataframe thead th {\n        text-align: right;\n    }\n</style>\n<table border=\"1\" class=\"dataframe\">\n  <thead>\n    <tr style=\"text-align: right;\">\n      <th></th>\n      <th>Name</th>\n      <th>Marks</th>\n      <th>Class</th>\n    </tr>\n  </thead>\n  <tbody>\n    <tr>\n      <th>0</th>\n      <td>Devansh</td>\n      <td>98</td>\n      <td>12</td>\n    </tr>\n    <tr>\n      <th>1</th>\n      <td>Ravi</td>\n      <td>65</td>\n      <td>11</td>\n    </tr>\n  </tbody>\n</table>\n</div>"
          },
          "metadata": {}
        }
      ],
      "execution_count": 10
    },
    {
      "cell_type": "code",
      "source": "df.tail(2)",
      "metadata": {
        "trusted": true
      },
      "outputs": [
        {
          "execution_count": 11,
          "output_type": "execute_result",
          "data": {
            "text/plain": "    Name  Marks  Class\n2  David     76      9\n3   Vasu     84      7",
            "text/html": "<div>\n<style scoped>\n    .dataframe tbody tr th:only-of-type {\n        vertical-align: middle;\n    }\n\n    .dataframe tbody tr th {\n        vertical-align: top;\n    }\n\n    .dataframe thead th {\n        text-align: right;\n    }\n</style>\n<table border=\"1\" class=\"dataframe\">\n  <thead>\n    <tr style=\"text-align: right;\">\n      <th></th>\n      <th>Name</th>\n      <th>Marks</th>\n      <th>Class</th>\n    </tr>\n  </thead>\n  <tbody>\n    <tr>\n      <th>2</th>\n      <td>David</td>\n      <td>76</td>\n      <td>9</td>\n    </tr>\n    <tr>\n      <th>3</th>\n      <td>Vasu</td>\n      <td>84</td>\n      <td>7</td>\n    </tr>\n  </tbody>\n</table>\n</div>"
          },
          "metadata": {}
        }
      ],
      "execution_count": 11
    },
    {
      "cell_type": "code",
      "source": "df.describe()",
      "metadata": {
        "trusted": true
      },
      "outputs": [
        {
          "execution_count": 12,
          "output_type": "execute_result",
          "data": {
            "text/plain": "           Marks      Class\ncount   4.000000   4.000000\nmean   80.750000   9.750000\nstd    13.889444   2.217356\nmin    65.000000   7.000000\n25%    73.250000   8.500000\n50%    80.000000  10.000000\n75%    87.500000  11.250000\nmax    98.000000  12.000000",
            "text/html": "<div>\n<style scoped>\n    .dataframe tbody tr th:only-of-type {\n        vertical-align: middle;\n    }\n\n    .dataframe tbody tr th {\n        vertical-align: top;\n    }\n\n    .dataframe thead th {\n        text-align: right;\n    }\n</style>\n<table border=\"1\" class=\"dataframe\">\n  <thead>\n    <tr style=\"text-align: right;\">\n      <th></th>\n      <th>Marks</th>\n      <th>Class</th>\n    </tr>\n  </thead>\n  <tbody>\n    <tr>\n      <th>count</th>\n      <td>4.000000</td>\n      <td>4.000000</td>\n    </tr>\n    <tr>\n      <th>mean</th>\n      <td>80.750000</td>\n      <td>9.750000</td>\n    </tr>\n    <tr>\n      <th>std</th>\n      <td>13.889444</td>\n      <td>2.217356</td>\n    </tr>\n    <tr>\n      <th>min</th>\n      <td>65.000000</td>\n      <td>7.000000</td>\n    </tr>\n    <tr>\n      <th>25%</th>\n      <td>73.250000</td>\n      <td>8.500000</td>\n    </tr>\n    <tr>\n      <th>50%</th>\n      <td>80.000000</td>\n      <td>10.000000</td>\n    </tr>\n    <tr>\n      <th>75%</th>\n      <td>87.500000</td>\n      <td>11.250000</td>\n    </tr>\n    <tr>\n      <th>max</th>\n      <td>98.000000</td>\n      <td>12.000000</td>\n    </tr>\n  </tbody>\n</table>\n</div>"
          },
          "metadata": {}
        }
      ],
      "execution_count": 12
    },
    {
      "cell_type": "code",
      "source": "df = pd.read_csv(\"Book1.csv\")",
      "metadata": {
        "trusted": true,
        "tags": [],
        "editable": true,
        "slideshow": {
          "slide_type": ""
        }
      },
      "outputs": [],
      "execution_count": 13
    },
    {
      "cell_type": "code",
      "source": "df",
      "metadata": {
        "trusted": true
      },
      "outputs": [
        {
          "execution_count": 14,
          "output_type": "execute_result",
          "data": {
            "text/plain": "  Train  Number  Seat\n0   ABC     1004  HY3\n1   DEF     2014  KO2\n2   GHI     8723  NJ3\n3   JKL     5437  BH2",
            "text/html": "<div>\n<style scoped>\n    .dataframe tbody tr th:only-of-type {\n        vertical-align: middle;\n    }\n\n    .dataframe tbody tr th {\n        vertical-align: top;\n    }\n\n    .dataframe thead th {\n        text-align: right;\n    }\n</style>\n<table border=\"1\" class=\"dataframe\">\n  <thead>\n    <tr style=\"text-align: right;\">\n      <th></th>\n      <th>Train</th>\n      <th>Number</th>\n      <th>Seat</th>\n    </tr>\n  </thead>\n  <tbody>\n    <tr>\n      <th>0</th>\n      <td>ABC</td>\n      <td>1004</td>\n      <td>HY3</td>\n    </tr>\n    <tr>\n      <th>1</th>\n      <td>DEF</td>\n      <td>2014</td>\n      <td>KO2</td>\n    </tr>\n    <tr>\n      <th>2</th>\n      <td>GHI</td>\n      <td>8723</td>\n      <td>NJ3</td>\n    </tr>\n    <tr>\n      <th>3</th>\n      <td>JKL</td>\n      <td>5437</td>\n      <td>BH2</td>\n    </tr>\n  </tbody>\n</table>\n</div>"
          },
          "metadata": {}
        }
      ],
      "execution_count": 14
    },
    {
      "cell_type": "code",
      "source": "df[\"Seat\"][1]",
      "metadata": {
        "trusted": true
      },
      "outputs": [
        {
          "execution_count": 17,
          "output_type": "execute_result",
          "data": {
            "text/plain": "'KO2'"
          },
          "metadata": {}
        }
      ],
      "execution_count": 17
    },
    {
      "cell_type": "code",
      "source": "df[\"Seat\"][2] = \"WN5\"",
      "metadata": {
        "trusted": true
      },
      "outputs": [
        {
          "name": "stderr",
          "text": "<ipython-input-22-b5c160a08a30>:1: SettingWithCopyWarning: \nA value is trying to be set on a copy of a slice from a DataFrame\n\nSee the caveats in the documentation: https://pandas.pydata.org/pandas-docs/stable/user_guide/indexing.html#returning-a-view-versus-a-copy\n  df[\"Seat\"][2] = \"WN5\"\n",
          "output_type": "stream"
        }
      ],
      "execution_count": 22
    },
    {
      "cell_type": "code",
      "source": "df",
      "metadata": {
        "trusted": true
      },
      "outputs": [
        {
          "execution_count": 23,
          "output_type": "execute_result",
          "data": {
            "text/plain": "  Train  Number  Seat\n0   ABC     1004  HY3\n1   DEF     2014  KO2\n2   GHI     8723  WN5\n3   JKL     5437  BH2",
            "text/html": "<div>\n<style scoped>\n    .dataframe tbody tr th:only-of-type {\n        vertical-align: middle;\n    }\n\n    .dataframe tbody tr th {\n        vertical-align: top;\n    }\n\n    .dataframe thead th {\n        text-align: right;\n    }\n</style>\n<table border=\"1\" class=\"dataframe\">\n  <thead>\n    <tr style=\"text-align: right;\">\n      <th></th>\n      <th>Train</th>\n      <th>Number</th>\n      <th>Seat</th>\n    </tr>\n  </thead>\n  <tbody>\n    <tr>\n      <th>0</th>\n      <td>ABC</td>\n      <td>1004</td>\n      <td>HY3</td>\n    </tr>\n    <tr>\n      <th>1</th>\n      <td>DEF</td>\n      <td>2014</td>\n      <td>KO2</td>\n    </tr>\n    <tr>\n      <th>2</th>\n      <td>GHI</td>\n      <td>8723</td>\n      <td>WN5</td>\n    </tr>\n    <tr>\n      <th>3</th>\n      <td>JKL</td>\n      <td>5437</td>\n      <td>BH2</td>\n    </tr>\n  </tbody>\n</table>\n</div>"
          },
          "metadata": {}
        }
      ],
      "execution_count": 23
    },
    {
      "cell_type": "code",
      "source": "df.index = [\"First\", \"Second\", \"Third\", \"Fourth\"]",
      "metadata": {
        "trusted": true
      },
      "outputs": [],
      "execution_count": 24
    },
    {
      "cell_type": "code",
      "source": "df",
      "metadata": {
        "trusted": true
      },
      "outputs": [
        {
          "execution_count": 25,
          "output_type": "execute_result",
          "data": {
            "text/plain": "       Train  Number  Seat\nFirst    ABC     1004  HY3\nSecond   DEF     2014  KO2\nThird    GHI     8723  WN5\nFourth   JKL     5437  BH2",
            "text/html": "<div>\n<style scoped>\n    .dataframe tbody tr th:only-of-type {\n        vertical-align: middle;\n    }\n\n    .dataframe tbody tr th {\n        vertical-align: top;\n    }\n\n    .dataframe thead th {\n        text-align: right;\n    }\n</style>\n<table border=\"1\" class=\"dataframe\">\n  <thead>\n    <tr style=\"text-align: right;\">\n      <th></th>\n      <th>Train</th>\n      <th>Number</th>\n      <th>Seat</th>\n    </tr>\n  </thead>\n  <tbody>\n    <tr>\n      <th>First</th>\n      <td>ABC</td>\n      <td>1004</td>\n      <td>HY3</td>\n    </tr>\n    <tr>\n      <th>Second</th>\n      <td>DEF</td>\n      <td>2014</td>\n      <td>KO2</td>\n    </tr>\n    <tr>\n      <th>Third</th>\n      <td>GHI</td>\n      <td>8723</td>\n      <td>WN5</td>\n    </tr>\n    <tr>\n      <th>Fourth</th>\n      <td>JKL</td>\n      <td>5437</td>\n      <td>BH2</td>\n    </tr>\n  </tbody>\n</table>\n</div>"
          },
          "metadata": {}
        }
      ],
      "execution_count": 25
    },
    {
      "cell_type": "code",
      "source": "#Pandas is an open source data analysis library written in Python.\n#It leverages the power and speed of numpy (written in C) to make data analysis and processing easy for data scientists.\n#It provides rich and highly robust data operations.",
      "metadata": {
        "trusted": true
      },
      "outputs": [],
      "execution_count": 27
    },
    {
      "cell_type": "code",
      "source": "#Pandas have two types of data structures:\n#SERIES: One dimensional array (Stores single column data) (Holds single data type)\n#DATAFRAMES: Two dimensional data (Stores the table) (Holds variety of data types)",
      "metadata": {
        "trusted": true
      },
      "outputs": [],
      "execution_count": 28
    },
    {
      "cell_type": "code",
      "source": "series = pd.Series(np.random.rand(10))",
      "metadata": {
        "trusted": true
      },
      "outputs": [],
      "execution_count": 32
    },
    {
      "cell_type": "code",
      "source": "series",
      "metadata": {
        "trusted": true
      },
      "outputs": [
        {
          "execution_count": 35,
          "output_type": "execute_result",
          "data": {
            "text/plain": "0    0.373318\n1    0.837086\n2    0.667507\n3    0.864311\n4    0.505920\n5    0.548313\n6    0.892484\n7    0.513916\n8    0.011433\n9    0.878099\ndtype: float64"
          },
          "metadata": {}
        }
      ],
      "execution_count": 35
    },
    {
      "cell_type": "code",
      "source": "type(series)",
      "metadata": {
        "trusted": true
      },
      "outputs": [
        {
          "execution_count": 36,
          "output_type": "execute_result",
          "data": {
            "text/plain": "pandas.core.series.Series"
          },
          "metadata": {}
        }
      ],
      "execution_count": 36
    },
    {
      "cell_type": "code",
      "source": "newdf = pd.DataFrame(np.random.rand(656,5))",
      "metadata": {
        "trusted": true
      },
      "outputs": [],
      "execution_count": 71
    },
    {
      "cell_type": "code",
      "source": "newdf",
      "metadata": {
        "trusted": true
      },
      "outputs": [
        {
          "execution_count": 72,
          "output_type": "execute_result",
          "data": {
            "text/plain": "            0         1         2         3         4\n0    0.572389  0.094181  0.428379  0.407079  0.604743\n1    0.777449  0.813203  0.363148  0.542015  0.043320\n2    0.606300  0.386972  0.914306  0.907784  0.620629\n3    0.533323  0.300016  0.216505  0.962230  0.866204\n4    0.557107  0.096059  0.877642  0.830525  0.984698\n..        ...       ...       ...       ...       ...\n651  0.200125  0.839864  0.887887  0.552293  0.303394\n652  0.628054  0.734664  0.484412  0.365472  0.055773\n653  0.791533  0.598417  0.932812  0.477413  0.986886\n654  0.570368  0.576088  0.169085  0.956737  0.556501\n655  0.715831  0.250149  0.831169  0.561204  0.225498\n\n[656 rows x 5 columns]",
            "text/html": "<div>\n<style scoped>\n    .dataframe tbody tr th:only-of-type {\n        vertical-align: middle;\n    }\n\n    .dataframe tbody tr th {\n        vertical-align: top;\n    }\n\n    .dataframe thead th {\n        text-align: right;\n    }\n</style>\n<table border=\"1\" class=\"dataframe\">\n  <thead>\n    <tr style=\"text-align: right;\">\n      <th></th>\n      <th>0</th>\n      <th>1</th>\n      <th>2</th>\n      <th>3</th>\n      <th>4</th>\n    </tr>\n  </thead>\n  <tbody>\n    <tr>\n      <th>0</th>\n      <td>0.572389</td>\n      <td>0.094181</td>\n      <td>0.428379</td>\n      <td>0.407079</td>\n      <td>0.604743</td>\n    </tr>\n    <tr>\n      <th>1</th>\n      <td>0.777449</td>\n      <td>0.813203</td>\n      <td>0.363148</td>\n      <td>0.542015</td>\n      <td>0.043320</td>\n    </tr>\n    <tr>\n      <th>2</th>\n      <td>0.606300</td>\n      <td>0.386972</td>\n      <td>0.914306</td>\n      <td>0.907784</td>\n      <td>0.620629</td>\n    </tr>\n    <tr>\n      <th>3</th>\n      <td>0.533323</td>\n      <td>0.300016</td>\n      <td>0.216505</td>\n      <td>0.962230</td>\n      <td>0.866204</td>\n    </tr>\n    <tr>\n      <th>4</th>\n      <td>0.557107</td>\n      <td>0.096059</td>\n      <td>0.877642</td>\n      <td>0.830525</td>\n      <td>0.984698</td>\n    </tr>\n    <tr>\n      <th>...</th>\n      <td>...</td>\n      <td>...</td>\n      <td>...</td>\n      <td>...</td>\n      <td>...</td>\n    </tr>\n    <tr>\n      <th>651</th>\n      <td>0.200125</td>\n      <td>0.839864</td>\n      <td>0.887887</td>\n      <td>0.552293</td>\n      <td>0.303394</td>\n    </tr>\n    <tr>\n      <th>652</th>\n      <td>0.628054</td>\n      <td>0.734664</td>\n      <td>0.484412</td>\n      <td>0.365472</td>\n      <td>0.055773</td>\n    </tr>\n    <tr>\n      <th>653</th>\n      <td>0.791533</td>\n      <td>0.598417</td>\n      <td>0.932812</td>\n      <td>0.477413</td>\n      <td>0.986886</td>\n    </tr>\n    <tr>\n      <th>654</th>\n      <td>0.570368</td>\n      <td>0.576088</td>\n      <td>0.169085</td>\n      <td>0.956737</td>\n      <td>0.556501</td>\n    </tr>\n    <tr>\n      <th>655</th>\n      <td>0.715831</td>\n      <td>0.250149</td>\n      <td>0.831169</td>\n      <td>0.561204</td>\n      <td>0.225498</td>\n    </tr>\n  </tbody>\n</table>\n<p>656 rows × 5 columns</p>\n</div>"
          },
          "metadata": {}
        }
      ],
      "execution_count": 72
    },
    {
      "cell_type": "code",
      "source": "type(newdf)",
      "metadata": {
        "trusted": true
      },
      "outputs": [
        {
          "execution_count": 73,
          "output_type": "execute_result",
          "data": {
            "text/plain": "pandas.core.frame.DataFrame"
          },
          "metadata": {}
        }
      ],
      "execution_count": 73
    },
    {
      "cell_type": "code",
      "source": "newdf.dtypes",
      "metadata": {
        "trusted": true
      },
      "outputs": [
        {
          "execution_count": 74,
          "output_type": "execute_result",
          "data": {
            "text/plain": "0    float64\n1    float64\n2    float64\n3    float64\n4    float64\ndtype: object"
          },
          "metadata": {}
        }
      ],
      "execution_count": 74
    },
    {
      "cell_type": "code",
      "source": "newdf[0][1] = \"Dev\"\nnewdf.head(5)",
      "metadata": {
        "trusted": true
      },
      "outputs": [
        {
          "execution_count": 75,
          "output_type": "execute_result",
          "data": {
            "text/plain": "          0         1         2         3         4\n0  0.572389  0.094181  0.428379  0.407079  0.604743\n1       Dev  0.813203  0.363148  0.542015  0.043320\n2    0.6063  0.386972  0.914306  0.907784  0.620629\n3  0.533323  0.300016  0.216505  0.962230  0.866204\n4  0.557107  0.096059  0.877642  0.830525  0.984698",
            "text/html": "<div>\n<style scoped>\n    .dataframe tbody tr th:only-of-type {\n        vertical-align: middle;\n    }\n\n    .dataframe tbody tr th {\n        vertical-align: top;\n    }\n\n    .dataframe thead th {\n        text-align: right;\n    }\n</style>\n<table border=\"1\" class=\"dataframe\">\n  <thead>\n    <tr style=\"text-align: right;\">\n      <th></th>\n      <th>0</th>\n      <th>1</th>\n      <th>2</th>\n      <th>3</th>\n      <th>4</th>\n    </tr>\n  </thead>\n  <tbody>\n    <tr>\n      <th>0</th>\n      <td>0.572389</td>\n      <td>0.094181</td>\n      <td>0.428379</td>\n      <td>0.407079</td>\n      <td>0.604743</td>\n    </tr>\n    <tr>\n      <th>1</th>\n      <td>Dev</td>\n      <td>0.813203</td>\n      <td>0.363148</td>\n      <td>0.542015</td>\n      <td>0.043320</td>\n    </tr>\n    <tr>\n      <th>2</th>\n      <td>0.6063</td>\n      <td>0.386972</td>\n      <td>0.914306</td>\n      <td>0.907784</td>\n      <td>0.620629</td>\n    </tr>\n    <tr>\n      <th>3</th>\n      <td>0.533323</td>\n      <td>0.300016</td>\n      <td>0.216505</td>\n      <td>0.962230</td>\n      <td>0.866204</td>\n    </tr>\n    <tr>\n      <th>4</th>\n      <td>0.557107</td>\n      <td>0.096059</td>\n      <td>0.877642</td>\n      <td>0.830525</td>\n      <td>0.984698</td>\n    </tr>\n  </tbody>\n</table>\n</div>"
          },
          "metadata": {}
        }
      ],
      "execution_count": 75
    },
    {
      "cell_type": "code",
      "source": "newdf.index",
      "metadata": {
        "trusted": true
      },
      "outputs": [
        {
          "execution_count": 76,
          "output_type": "execute_result",
          "data": {
            "text/plain": "RangeIndex(start=0, stop=656, step=1)"
          },
          "metadata": {}
        }
      ],
      "execution_count": 76
    },
    {
      "cell_type": "code",
      "source": "newdf.columns",
      "metadata": {
        "trusted": true
      },
      "outputs": [
        {
          "execution_count": 77,
          "output_type": "execute_result",
          "data": {
            "text/plain": "RangeIndex(start=0, stop=5, step=1)"
          },
          "metadata": {}
        }
      ],
      "execution_count": 77
    },
    {
      "cell_type": "code",
      "source": "newdf.T #Transpose",
      "metadata": {
        "trusted": true
      },
      "outputs": [
        {
          "execution_count": 78,
          "output_type": "execute_result",
          "data": {
            "text/plain": "        0         1         2         3         4         5         6    \\\n0  0.572389       Dev    0.6063  0.533323  0.557107   0.15249  0.320887   \n1  0.094181  0.813203  0.386972  0.300016  0.096059  0.859041  0.353062   \n2  0.428379  0.363148  0.914306  0.216505  0.877642  0.470481  0.599178   \n3  0.407079  0.542015  0.907784   0.96223  0.830525   0.61623  0.478493   \n4  0.604743   0.04332  0.620629  0.866204  0.984698  0.210537  0.431957   \n\n        7         8         9    ...       646       647       648       649  \\\n0  0.439311  0.637883  0.675777  ...   0.40966   0.37614  0.962113  0.547565   \n1  0.726839   0.27056  0.731227  ...  0.433657  0.974796  0.675502  0.197809   \n2  0.868879  0.967742  0.333457  ...  0.193535  0.873042  0.719171  0.441947   \n3  0.299552  0.698619   0.38419  ...  0.137874  0.656879  0.082518  0.634247   \n4  0.344958  0.727552  0.994044  ...  0.309101  0.140386  0.974849  0.141836   \n\n        650       651       652       653       654       655  \n0  0.924561  0.200125  0.628054  0.791533  0.570368  0.715831  \n1  0.959615  0.839864  0.734664  0.598417  0.576088  0.250149  \n2   0.65997  0.887887  0.484412  0.932812  0.169085  0.831169  \n3  0.628053  0.552293  0.365472  0.477413  0.956737  0.561204  \n4  0.444692  0.303394  0.055773  0.986886  0.556501  0.225498  \n\n[5 rows x 656 columns]",
            "text/html": "<div>\n<style scoped>\n    .dataframe tbody tr th:only-of-type {\n        vertical-align: middle;\n    }\n\n    .dataframe tbody tr th {\n        vertical-align: top;\n    }\n\n    .dataframe thead th {\n        text-align: right;\n    }\n</style>\n<table border=\"1\" class=\"dataframe\">\n  <thead>\n    <tr style=\"text-align: right;\">\n      <th></th>\n      <th>0</th>\n      <th>1</th>\n      <th>2</th>\n      <th>3</th>\n      <th>4</th>\n      <th>5</th>\n      <th>6</th>\n      <th>7</th>\n      <th>8</th>\n      <th>9</th>\n      <th>...</th>\n      <th>646</th>\n      <th>647</th>\n      <th>648</th>\n      <th>649</th>\n      <th>650</th>\n      <th>651</th>\n      <th>652</th>\n      <th>653</th>\n      <th>654</th>\n      <th>655</th>\n    </tr>\n  </thead>\n  <tbody>\n    <tr>\n      <th>0</th>\n      <td>0.572389</td>\n      <td>Dev</td>\n      <td>0.6063</td>\n      <td>0.533323</td>\n      <td>0.557107</td>\n      <td>0.15249</td>\n      <td>0.320887</td>\n      <td>0.439311</td>\n      <td>0.637883</td>\n      <td>0.675777</td>\n      <td>...</td>\n      <td>0.40966</td>\n      <td>0.37614</td>\n      <td>0.962113</td>\n      <td>0.547565</td>\n      <td>0.924561</td>\n      <td>0.200125</td>\n      <td>0.628054</td>\n      <td>0.791533</td>\n      <td>0.570368</td>\n      <td>0.715831</td>\n    </tr>\n    <tr>\n      <th>1</th>\n      <td>0.094181</td>\n      <td>0.813203</td>\n      <td>0.386972</td>\n      <td>0.300016</td>\n      <td>0.096059</td>\n      <td>0.859041</td>\n      <td>0.353062</td>\n      <td>0.726839</td>\n      <td>0.27056</td>\n      <td>0.731227</td>\n      <td>...</td>\n      <td>0.433657</td>\n      <td>0.974796</td>\n      <td>0.675502</td>\n      <td>0.197809</td>\n      <td>0.959615</td>\n      <td>0.839864</td>\n      <td>0.734664</td>\n      <td>0.598417</td>\n      <td>0.576088</td>\n      <td>0.250149</td>\n    </tr>\n    <tr>\n      <th>2</th>\n      <td>0.428379</td>\n      <td>0.363148</td>\n      <td>0.914306</td>\n      <td>0.216505</td>\n      <td>0.877642</td>\n      <td>0.470481</td>\n      <td>0.599178</td>\n      <td>0.868879</td>\n      <td>0.967742</td>\n      <td>0.333457</td>\n      <td>...</td>\n      <td>0.193535</td>\n      <td>0.873042</td>\n      <td>0.719171</td>\n      <td>0.441947</td>\n      <td>0.65997</td>\n      <td>0.887887</td>\n      <td>0.484412</td>\n      <td>0.932812</td>\n      <td>0.169085</td>\n      <td>0.831169</td>\n    </tr>\n    <tr>\n      <th>3</th>\n      <td>0.407079</td>\n      <td>0.542015</td>\n      <td>0.907784</td>\n      <td>0.96223</td>\n      <td>0.830525</td>\n      <td>0.61623</td>\n      <td>0.478493</td>\n      <td>0.299552</td>\n      <td>0.698619</td>\n      <td>0.38419</td>\n      <td>...</td>\n      <td>0.137874</td>\n      <td>0.656879</td>\n      <td>0.082518</td>\n      <td>0.634247</td>\n      <td>0.628053</td>\n      <td>0.552293</td>\n      <td>0.365472</td>\n      <td>0.477413</td>\n      <td>0.956737</td>\n      <td>0.561204</td>\n    </tr>\n    <tr>\n      <th>4</th>\n      <td>0.604743</td>\n      <td>0.04332</td>\n      <td>0.620629</td>\n      <td>0.866204</td>\n      <td>0.984698</td>\n      <td>0.210537</td>\n      <td>0.431957</td>\n      <td>0.344958</td>\n      <td>0.727552</td>\n      <td>0.994044</td>\n      <td>...</td>\n      <td>0.309101</td>\n      <td>0.140386</td>\n      <td>0.974849</td>\n      <td>0.141836</td>\n      <td>0.444692</td>\n      <td>0.303394</td>\n      <td>0.055773</td>\n      <td>0.986886</td>\n      <td>0.556501</td>\n      <td>0.225498</td>\n    </tr>\n  </tbody>\n</table>\n<p>5 rows × 656 columns</p>\n</div>"
          },
          "metadata": {}
        }
      ],
      "execution_count": 78
    },
    {
      "cell_type": "code",
      "source": "newdf.to_numpy()",
      "metadata": {
        "trusted": true
      },
      "outputs": [
        {
          "execution_count": 79,
          "output_type": "execute_result",
          "data": {
            "text/plain": "array([[0.5723890052269834, 0.09418136073661243, 0.42837940902354954,\n        0.4070794584799463, 0.604743054795642],\n       ['Dev', 0.8132025292079357, 0.3631481137431626,\n        0.5420149812185187, 0.04332001444750988],\n       [0.6062996637034196, 0.38697201281164284, 0.9143064269155262,\n        0.9077840395669026, 0.6206291665928263],\n       ...,\n       [0.7915330536526203, 0.5984170073396862, 0.9328122520878024,\n        0.4774132252865567, 0.9868861831344372],\n       [0.570368224688835, 0.5760882974231747, 0.16908473366150234,\n        0.956737196758488, 0.5565006661266177],\n       [0.7158312687455806, 0.25014860084214874, 0.8311685092902263,\n        0.5612041946712083, 0.22549803277434743]], dtype=object)"
          },
          "metadata": {}
        }
      ],
      "execution_count": 79
    },
    {
      "cell_type": "code",
      "source": "newdf.sort_index(axis = 0, ascending = False)",
      "metadata": {
        "trusted": true
      },
      "outputs": [
        {
          "execution_count": 80,
          "output_type": "execute_result",
          "data": {
            "text/plain": "            0         1         2         3         4\n655  0.715831  0.250149  0.831169  0.561204  0.225498\n654  0.570368  0.576088  0.169085  0.956737  0.556501\n653  0.791533  0.598417  0.932812  0.477413  0.986886\n652  0.628054  0.734664  0.484412  0.365472  0.055773\n651  0.200125  0.839864  0.887887  0.552293  0.303394\n..        ...       ...       ...       ...       ...\n4    0.557107  0.096059  0.877642  0.830525  0.984698\n3    0.533323  0.300016  0.216505  0.962230  0.866204\n2      0.6063  0.386972  0.914306  0.907784  0.620629\n1         Dev  0.813203  0.363148  0.542015  0.043320\n0    0.572389  0.094181  0.428379  0.407079  0.604743\n\n[656 rows x 5 columns]",
            "text/html": "<div>\n<style scoped>\n    .dataframe tbody tr th:only-of-type {\n        vertical-align: middle;\n    }\n\n    .dataframe tbody tr th {\n        vertical-align: top;\n    }\n\n    .dataframe thead th {\n        text-align: right;\n    }\n</style>\n<table border=\"1\" class=\"dataframe\">\n  <thead>\n    <tr style=\"text-align: right;\">\n      <th></th>\n      <th>0</th>\n      <th>1</th>\n      <th>2</th>\n      <th>3</th>\n      <th>4</th>\n    </tr>\n  </thead>\n  <tbody>\n    <tr>\n      <th>655</th>\n      <td>0.715831</td>\n      <td>0.250149</td>\n      <td>0.831169</td>\n      <td>0.561204</td>\n      <td>0.225498</td>\n    </tr>\n    <tr>\n      <th>654</th>\n      <td>0.570368</td>\n      <td>0.576088</td>\n      <td>0.169085</td>\n      <td>0.956737</td>\n      <td>0.556501</td>\n    </tr>\n    <tr>\n      <th>653</th>\n      <td>0.791533</td>\n      <td>0.598417</td>\n      <td>0.932812</td>\n      <td>0.477413</td>\n      <td>0.986886</td>\n    </tr>\n    <tr>\n      <th>652</th>\n      <td>0.628054</td>\n      <td>0.734664</td>\n      <td>0.484412</td>\n      <td>0.365472</td>\n      <td>0.055773</td>\n    </tr>\n    <tr>\n      <th>651</th>\n      <td>0.200125</td>\n      <td>0.839864</td>\n      <td>0.887887</td>\n      <td>0.552293</td>\n      <td>0.303394</td>\n    </tr>\n    <tr>\n      <th>...</th>\n      <td>...</td>\n      <td>...</td>\n      <td>...</td>\n      <td>...</td>\n      <td>...</td>\n    </tr>\n    <tr>\n      <th>4</th>\n      <td>0.557107</td>\n      <td>0.096059</td>\n      <td>0.877642</td>\n      <td>0.830525</td>\n      <td>0.984698</td>\n    </tr>\n    <tr>\n      <th>3</th>\n      <td>0.533323</td>\n      <td>0.300016</td>\n      <td>0.216505</td>\n      <td>0.962230</td>\n      <td>0.866204</td>\n    </tr>\n    <tr>\n      <th>2</th>\n      <td>0.6063</td>\n      <td>0.386972</td>\n      <td>0.914306</td>\n      <td>0.907784</td>\n      <td>0.620629</td>\n    </tr>\n    <tr>\n      <th>1</th>\n      <td>Dev</td>\n      <td>0.813203</td>\n      <td>0.363148</td>\n      <td>0.542015</td>\n      <td>0.043320</td>\n    </tr>\n    <tr>\n      <th>0</th>\n      <td>0.572389</td>\n      <td>0.094181</td>\n      <td>0.428379</td>\n      <td>0.407079</td>\n      <td>0.604743</td>\n    </tr>\n  </tbody>\n</table>\n<p>656 rows × 5 columns</p>\n</div>"
          },
          "metadata": {}
        }
      ],
      "execution_count": 80
    },
    {
      "cell_type": "code",
      "source": "newdf.sort_index(axis = 1, ascending = False)",
      "metadata": {
        "trusted": true
      },
      "outputs": [
        {
          "execution_count": 81,
          "output_type": "execute_result",
          "data": {
            "text/plain": "            4         3         2         1         0\n0    0.604743  0.407079  0.428379  0.094181  0.572389\n1    0.043320  0.542015  0.363148  0.813203       Dev\n2    0.620629  0.907784  0.914306  0.386972    0.6063\n3    0.866204  0.962230  0.216505  0.300016  0.533323\n4    0.984698  0.830525  0.877642  0.096059  0.557107\n..        ...       ...       ...       ...       ...\n651  0.303394  0.552293  0.887887  0.839864  0.200125\n652  0.055773  0.365472  0.484412  0.734664  0.628054\n653  0.986886  0.477413  0.932812  0.598417  0.791533\n654  0.556501  0.956737  0.169085  0.576088  0.570368\n655  0.225498  0.561204  0.831169  0.250149  0.715831\n\n[656 rows x 5 columns]",
            "text/html": "<div>\n<style scoped>\n    .dataframe tbody tr th:only-of-type {\n        vertical-align: middle;\n    }\n\n    .dataframe tbody tr th {\n        vertical-align: top;\n    }\n\n    .dataframe thead th {\n        text-align: right;\n    }\n</style>\n<table border=\"1\" class=\"dataframe\">\n  <thead>\n    <tr style=\"text-align: right;\">\n      <th></th>\n      <th>4</th>\n      <th>3</th>\n      <th>2</th>\n      <th>1</th>\n      <th>0</th>\n    </tr>\n  </thead>\n  <tbody>\n    <tr>\n      <th>0</th>\n      <td>0.604743</td>\n      <td>0.407079</td>\n      <td>0.428379</td>\n      <td>0.094181</td>\n      <td>0.572389</td>\n    </tr>\n    <tr>\n      <th>1</th>\n      <td>0.043320</td>\n      <td>0.542015</td>\n      <td>0.363148</td>\n      <td>0.813203</td>\n      <td>Dev</td>\n    </tr>\n    <tr>\n      <th>2</th>\n      <td>0.620629</td>\n      <td>0.907784</td>\n      <td>0.914306</td>\n      <td>0.386972</td>\n      <td>0.6063</td>\n    </tr>\n    <tr>\n      <th>3</th>\n      <td>0.866204</td>\n      <td>0.962230</td>\n      <td>0.216505</td>\n      <td>0.300016</td>\n      <td>0.533323</td>\n    </tr>\n    <tr>\n      <th>4</th>\n      <td>0.984698</td>\n      <td>0.830525</td>\n      <td>0.877642</td>\n      <td>0.096059</td>\n      <td>0.557107</td>\n    </tr>\n    <tr>\n      <th>...</th>\n      <td>...</td>\n      <td>...</td>\n      <td>...</td>\n      <td>...</td>\n      <td>...</td>\n    </tr>\n    <tr>\n      <th>651</th>\n      <td>0.303394</td>\n      <td>0.552293</td>\n      <td>0.887887</td>\n      <td>0.839864</td>\n      <td>0.200125</td>\n    </tr>\n    <tr>\n      <th>652</th>\n      <td>0.055773</td>\n      <td>0.365472</td>\n      <td>0.484412</td>\n      <td>0.734664</td>\n      <td>0.628054</td>\n    </tr>\n    <tr>\n      <th>653</th>\n      <td>0.986886</td>\n      <td>0.477413</td>\n      <td>0.932812</td>\n      <td>0.598417</td>\n      <td>0.791533</td>\n    </tr>\n    <tr>\n      <th>654</th>\n      <td>0.556501</td>\n      <td>0.956737</td>\n      <td>0.169085</td>\n      <td>0.576088</td>\n      <td>0.570368</td>\n    </tr>\n    <tr>\n      <th>655</th>\n      <td>0.225498</td>\n      <td>0.561204</td>\n      <td>0.831169</td>\n      <td>0.250149</td>\n      <td>0.715831</td>\n    </tr>\n  </tbody>\n</table>\n<p>656 rows × 5 columns</p>\n</div>"
          },
          "metadata": {}
        }
      ],
      "execution_count": 81
    },
    {
      "cell_type": "code",
      "source": "newdf.loc[0,0] = \"XYZ\"",
      "metadata": {
        "trusted": true
      },
      "outputs": [],
      "execution_count": 82
    },
    {
      "cell_type": "code",
      "source": "newdf.head()",
      "metadata": {
        "trusted": true
      },
      "outputs": [
        {
          "execution_count": 83,
          "output_type": "execute_result",
          "data": {
            "text/plain": "          0         1         2         3         4\n0       XYZ  0.094181  0.428379  0.407079  0.604743\n1       Dev  0.813203  0.363148  0.542015  0.043320\n2    0.6063  0.386972  0.914306  0.907784  0.620629\n3  0.533323  0.300016  0.216505  0.962230  0.866204\n4  0.557107  0.096059  0.877642  0.830525  0.984698",
            "text/html": "<div>\n<style scoped>\n    .dataframe tbody tr th:only-of-type {\n        vertical-align: middle;\n    }\n\n    .dataframe tbody tr th {\n        vertical-align: top;\n    }\n\n    .dataframe thead th {\n        text-align: right;\n    }\n</style>\n<table border=\"1\" class=\"dataframe\">\n  <thead>\n    <tr style=\"text-align: right;\">\n      <th></th>\n      <th>0</th>\n      <th>1</th>\n      <th>2</th>\n      <th>3</th>\n      <th>4</th>\n    </tr>\n  </thead>\n  <tbody>\n    <tr>\n      <th>0</th>\n      <td>XYZ</td>\n      <td>0.094181</td>\n      <td>0.428379</td>\n      <td>0.407079</td>\n      <td>0.604743</td>\n    </tr>\n    <tr>\n      <th>1</th>\n      <td>Dev</td>\n      <td>0.813203</td>\n      <td>0.363148</td>\n      <td>0.542015</td>\n      <td>0.043320</td>\n    </tr>\n    <tr>\n      <th>2</th>\n      <td>0.6063</td>\n      <td>0.386972</td>\n      <td>0.914306</td>\n      <td>0.907784</td>\n      <td>0.620629</td>\n    </tr>\n    <tr>\n      <th>3</th>\n      <td>0.533323</td>\n      <td>0.300016</td>\n      <td>0.216505</td>\n      <td>0.962230</td>\n      <td>0.866204</td>\n    </tr>\n    <tr>\n      <th>4</th>\n      <td>0.557107</td>\n      <td>0.096059</td>\n      <td>0.877642</td>\n      <td>0.830525</td>\n      <td>0.984698</td>\n    </tr>\n  </tbody>\n</table>\n</div>"
          },
          "metadata": {}
        }
      ],
      "execution_count": 83
    },
    {
      "cell_type": "code",
      "source": "newdf.columns = list(\"ABCDE\")",
      "metadata": {
        "trusted": true
      },
      "outputs": [],
      "execution_count": 84
    },
    {
      "cell_type": "code",
      "source": "newdf.head()",
      "metadata": {
        "trusted": true
      },
      "outputs": [
        {
          "execution_count": 85,
          "output_type": "execute_result",
          "data": {
            "text/plain": "          A         B         C         D         E\n0       XYZ  0.094181  0.428379  0.407079  0.604743\n1       Dev  0.813203  0.363148  0.542015  0.043320\n2    0.6063  0.386972  0.914306  0.907784  0.620629\n3  0.533323  0.300016  0.216505  0.962230  0.866204\n4  0.557107  0.096059  0.877642  0.830525  0.984698",
            "text/html": "<div>\n<style scoped>\n    .dataframe tbody tr th:only-of-type {\n        vertical-align: middle;\n    }\n\n    .dataframe tbody tr th {\n        vertical-align: top;\n    }\n\n    .dataframe thead th {\n        text-align: right;\n    }\n</style>\n<table border=\"1\" class=\"dataframe\">\n  <thead>\n    <tr style=\"text-align: right;\">\n      <th></th>\n      <th>A</th>\n      <th>B</th>\n      <th>C</th>\n      <th>D</th>\n      <th>E</th>\n    </tr>\n  </thead>\n  <tbody>\n    <tr>\n      <th>0</th>\n      <td>XYZ</td>\n      <td>0.094181</td>\n      <td>0.428379</td>\n      <td>0.407079</td>\n      <td>0.604743</td>\n    </tr>\n    <tr>\n      <th>1</th>\n      <td>Dev</td>\n      <td>0.813203</td>\n      <td>0.363148</td>\n      <td>0.542015</td>\n      <td>0.043320</td>\n    </tr>\n    <tr>\n      <th>2</th>\n      <td>0.6063</td>\n      <td>0.386972</td>\n      <td>0.914306</td>\n      <td>0.907784</td>\n      <td>0.620629</td>\n    </tr>\n    <tr>\n      <th>3</th>\n      <td>0.533323</td>\n      <td>0.300016</td>\n      <td>0.216505</td>\n      <td>0.962230</td>\n      <td>0.866204</td>\n    </tr>\n    <tr>\n      <th>4</th>\n      <td>0.557107</td>\n      <td>0.096059</td>\n      <td>0.877642</td>\n      <td>0.830525</td>\n      <td>0.984698</td>\n    </tr>\n  </tbody>\n</table>\n</div>"
          },
          "metadata": {}
        }
      ],
      "execution_count": 85
    },
    {
      "cell_type": "code",
      "source": "newdf.loc[0][0]",
      "metadata": {
        "trusted": true
      },
      "outputs": [
        {
          "execution_count": 87,
          "output_type": "execute_result",
          "data": {
            "text/plain": "'XYZ'"
          },
          "metadata": {}
        }
      ],
      "execution_count": 87
    },
    {
      "cell_type": "code",
      "source": "newdf.loc[0][\"A\"] = 53",
      "metadata": {
        "trusted": true
      },
      "outputs": [
        {
          "name": "stderr",
          "text": "<ipython-input-97-45adf675a653>:1: SettingWithCopyWarning: \nA value is trying to be set on a copy of a slice from a DataFrame\n\nSee the caveats in the documentation: https://pandas.pydata.org/pandas-docs/stable/user_guide/indexing.html#returning-a-view-versus-a-copy\n  newdf.loc[0][\"A\"] = 53\n",
          "output_type": "stream"
        }
      ],
      "execution_count": 97
    },
    {
      "cell_type": "code",
      "source": "newdf.head()",
      "metadata": {
        "trusted": true
      },
      "outputs": [
        {
          "execution_count": 101,
          "output_type": "execute_result",
          "data": {
            "text/plain": "          A         B         C         D         E\n0       XYZ  0.094181  0.428379  0.407079  0.604743\n1       Dev  0.813203  0.363148  0.542015  0.043320\n2    0.6063  0.386972  0.914306  0.907784  0.620629\n3  0.533323  0.300016  0.216505  0.962230  0.866204\n4  0.557107  0.096059  0.877642  0.830525  0.984698",
            "text/html": "<div>\n<style scoped>\n    .dataframe tbody tr th:only-of-type {\n        vertical-align: middle;\n    }\n\n    .dataframe tbody tr th {\n        vertical-align: top;\n    }\n\n    .dataframe thead th {\n        text-align: right;\n    }\n</style>\n<table border=\"1\" class=\"dataframe\">\n  <thead>\n    <tr style=\"text-align: right;\">\n      <th></th>\n      <th>A</th>\n      <th>B</th>\n      <th>C</th>\n      <th>D</th>\n      <th>E</th>\n    </tr>\n  </thead>\n  <tbody>\n    <tr>\n      <th>0</th>\n      <td>XYZ</td>\n      <td>0.094181</td>\n      <td>0.428379</td>\n      <td>0.407079</td>\n      <td>0.604743</td>\n    </tr>\n    <tr>\n      <th>1</th>\n      <td>Dev</td>\n      <td>0.813203</td>\n      <td>0.363148</td>\n      <td>0.542015</td>\n      <td>0.043320</td>\n    </tr>\n    <tr>\n      <th>2</th>\n      <td>0.6063</td>\n      <td>0.386972</td>\n      <td>0.914306</td>\n      <td>0.907784</td>\n      <td>0.620629</td>\n    </tr>\n    <tr>\n      <th>3</th>\n      <td>0.533323</td>\n      <td>0.300016</td>\n      <td>0.216505</td>\n      <td>0.962230</td>\n      <td>0.866204</td>\n    </tr>\n    <tr>\n      <th>4</th>\n      <td>0.557107</td>\n      <td>0.096059</td>\n      <td>0.877642</td>\n      <td>0.830525</td>\n      <td>0.984698</td>\n    </tr>\n  </tbody>\n</table>\n</div>"
          },
          "metadata": {}
        }
      ],
      "execution_count": 101
    },
    {
      "cell_type": "code",
      "source": "newdf.drop(\"E\", axis = 1)",
      "metadata": {
        "trusted": true
      },
      "outputs": [
        {
          "execution_count": 102,
          "output_type": "execute_result",
          "data": {
            "text/plain": "            A         B         C         D\n0         XYZ  0.094181  0.428379  0.407079\n1         Dev  0.813203  0.363148  0.542015\n2      0.6063  0.386972  0.914306  0.907784\n3    0.533323  0.300016  0.216505  0.962230\n4    0.557107  0.096059  0.877642  0.830525\n..        ...       ...       ...       ...\n651  0.200125  0.839864  0.887887  0.552293\n652  0.628054  0.734664  0.484412  0.365472\n653  0.791533  0.598417  0.932812  0.477413\n654  0.570368  0.576088  0.169085  0.956737\n655  0.715831  0.250149  0.831169  0.561204\n\n[656 rows x 4 columns]",
            "text/html": "<div>\n<style scoped>\n    .dataframe tbody tr th:only-of-type {\n        vertical-align: middle;\n    }\n\n    .dataframe tbody tr th {\n        vertical-align: top;\n    }\n\n    .dataframe thead th {\n        text-align: right;\n    }\n</style>\n<table border=\"1\" class=\"dataframe\">\n  <thead>\n    <tr style=\"text-align: right;\">\n      <th></th>\n      <th>A</th>\n      <th>B</th>\n      <th>C</th>\n      <th>D</th>\n    </tr>\n  </thead>\n  <tbody>\n    <tr>\n      <th>0</th>\n      <td>XYZ</td>\n      <td>0.094181</td>\n      <td>0.428379</td>\n      <td>0.407079</td>\n    </tr>\n    <tr>\n      <th>1</th>\n      <td>Dev</td>\n      <td>0.813203</td>\n      <td>0.363148</td>\n      <td>0.542015</td>\n    </tr>\n    <tr>\n      <th>2</th>\n      <td>0.6063</td>\n      <td>0.386972</td>\n      <td>0.914306</td>\n      <td>0.907784</td>\n    </tr>\n    <tr>\n      <th>3</th>\n      <td>0.533323</td>\n      <td>0.300016</td>\n      <td>0.216505</td>\n      <td>0.962230</td>\n    </tr>\n    <tr>\n      <th>4</th>\n      <td>0.557107</td>\n      <td>0.096059</td>\n      <td>0.877642</td>\n      <td>0.830525</td>\n    </tr>\n    <tr>\n      <th>...</th>\n      <td>...</td>\n      <td>...</td>\n      <td>...</td>\n      <td>...</td>\n    </tr>\n    <tr>\n      <th>651</th>\n      <td>0.200125</td>\n      <td>0.839864</td>\n      <td>0.887887</td>\n      <td>0.552293</td>\n    </tr>\n    <tr>\n      <th>652</th>\n      <td>0.628054</td>\n      <td>0.734664</td>\n      <td>0.484412</td>\n      <td>0.365472</td>\n    </tr>\n    <tr>\n      <th>653</th>\n      <td>0.791533</td>\n      <td>0.598417</td>\n      <td>0.932812</td>\n      <td>0.477413</td>\n    </tr>\n    <tr>\n      <th>654</th>\n      <td>0.570368</td>\n      <td>0.576088</td>\n      <td>0.169085</td>\n      <td>0.956737</td>\n    </tr>\n    <tr>\n      <th>655</th>\n      <td>0.715831</td>\n      <td>0.250149</td>\n      <td>0.831169</td>\n      <td>0.561204</td>\n    </tr>\n  </tbody>\n</table>\n<p>656 rows × 4 columns</p>\n</div>"
          },
          "metadata": {}
        }
      ],
      "execution_count": 102
    },
    {
      "cell_type": "code",
      "source": "newdf.loc[[1,2], [\"C\",\"D\"]]",
      "metadata": {
        "trusted": true
      },
      "outputs": [
        {
          "execution_count": 104,
          "output_type": "execute_result",
          "data": {
            "text/plain": "          C         D\n1  0.363148  0.542015\n2  0.914306  0.907784",
            "text/html": "<div>\n<style scoped>\n    .dataframe tbody tr th:only-of-type {\n        vertical-align: middle;\n    }\n\n    .dataframe tbody tr th {\n        vertical-align: top;\n    }\n\n    .dataframe thead th {\n        text-align: right;\n    }\n</style>\n<table border=\"1\" class=\"dataframe\">\n  <thead>\n    <tr style=\"text-align: right;\">\n      <th></th>\n      <th>C</th>\n      <th>D</th>\n    </tr>\n  </thead>\n  <tbody>\n    <tr>\n      <th>1</th>\n      <td>0.363148</td>\n      <td>0.542015</td>\n    </tr>\n    <tr>\n      <th>2</th>\n      <td>0.914306</td>\n      <td>0.907784</td>\n    </tr>\n  </tbody>\n</table>\n</div>"
          },
          "metadata": {}
        }
      ],
      "execution_count": 104
    },
    {
      "cell_type": "code",
      "source": "newdf.loc[:, [\"B\", \"C\"]]",
      "metadata": {
        "trusted": true
      },
      "outputs": [
        {
          "execution_count": 105,
          "output_type": "execute_result",
          "data": {
            "text/plain": "            B         C\n0    0.094181  0.428379\n1    0.813203  0.363148\n2    0.386972  0.914306\n3    0.300016  0.216505\n4    0.096059  0.877642\n..        ...       ...\n651  0.839864  0.887887\n652  0.734664  0.484412\n653  0.598417  0.932812\n654  0.576088  0.169085\n655  0.250149  0.831169\n\n[656 rows x 2 columns]",
            "text/html": "<div>\n<style scoped>\n    .dataframe tbody tr th:only-of-type {\n        vertical-align: middle;\n    }\n\n    .dataframe tbody tr th {\n        vertical-align: top;\n    }\n\n    .dataframe thead th {\n        text-align: right;\n    }\n</style>\n<table border=\"1\" class=\"dataframe\">\n  <thead>\n    <tr style=\"text-align: right;\">\n      <th></th>\n      <th>B</th>\n      <th>C</th>\n    </tr>\n  </thead>\n  <tbody>\n    <tr>\n      <th>0</th>\n      <td>0.094181</td>\n      <td>0.428379</td>\n    </tr>\n    <tr>\n      <th>1</th>\n      <td>0.813203</td>\n      <td>0.363148</td>\n    </tr>\n    <tr>\n      <th>2</th>\n      <td>0.386972</td>\n      <td>0.914306</td>\n    </tr>\n    <tr>\n      <th>3</th>\n      <td>0.300016</td>\n      <td>0.216505</td>\n    </tr>\n    <tr>\n      <th>4</th>\n      <td>0.096059</td>\n      <td>0.877642</td>\n    </tr>\n    <tr>\n      <th>...</th>\n      <td>...</td>\n      <td>...</td>\n    </tr>\n    <tr>\n      <th>651</th>\n      <td>0.839864</td>\n      <td>0.887887</td>\n    </tr>\n    <tr>\n      <th>652</th>\n      <td>0.734664</td>\n      <td>0.484412</td>\n    </tr>\n    <tr>\n      <th>653</th>\n      <td>0.598417</td>\n      <td>0.932812</td>\n    </tr>\n    <tr>\n      <th>654</th>\n      <td>0.576088</td>\n      <td>0.169085</td>\n    </tr>\n    <tr>\n      <th>655</th>\n      <td>0.250149</td>\n      <td>0.831169</td>\n    </tr>\n  </tbody>\n</table>\n<p>656 rows × 2 columns</p>\n</div>"
          },
          "metadata": {}
        }
      ],
      "execution_count": 105
    },
    {
      "cell_type": "code",
      "source": "newdf.loc[(newdf[\"B\"]>0.4) & (newdf[\"C\"] <0.05)]",
      "metadata": {
        "trusted": true
      },
      "outputs": [
        {
          "execution_count": 110,
          "output_type": "execute_result",
          "data": {
            "text/plain": "            A         B         C         D         E\n57   0.246638  0.886048  0.018947  0.305184  0.620731\n210  0.631648  0.808872  0.006885  0.577642  0.391953\n250  0.657474  0.878373  0.040947  0.930049  0.003302\n273  0.997622  0.999240  0.048908  0.735744  0.855058\n275  0.536074  0.884752  0.021390  0.890835  0.706028\n285   0.01453  0.646251  0.041161  0.967147  0.805820\n338   0.55929  0.505142  0.007502  0.215483  0.511643\n373  0.693086  0.827781  0.027920  0.936133  0.930883\n389  0.932753  0.724432  0.005368  0.540614  0.566715\n412  0.571606  0.912436  0.037952  0.723494  0.821366\n482  0.755324  0.847693  0.032285  0.159648  0.019319\n502  0.388195  0.975452  0.031934  0.876148  0.805276\n539  0.784767  0.935589  0.022630  0.725859  0.374835\n567  0.401448  0.704022  0.006224  0.421088  0.594454\n577    0.2602  0.682168  0.026941  0.889672  0.082294\n592  0.355262  0.742470  0.042480  0.361811  0.728469\n611  0.651891  0.804641  0.029864  0.678533  0.871171\n614  0.811437  0.838936  0.009941  0.801622  0.935061",
            "text/html": "<div>\n<style scoped>\n    .dataframe tbody tr th:only-of-type {\n        vertical-align: middle;\n    }\n\n    .dataframe tbody tr th {\n        vertical-align: top;\n    }\n\n    .dataframe thead th {\n        text-align: right;\n    }\n</style>\n<table border=\"1\" class=\"dataframe\">\n  <thead>\n    <tr style=\"text-align: right;\">\n      <th></th>\n      <th>A</th>\n      <th>B</th>\n      <th>C</th>\n      <th>D</th>\n      <th>E</th>\n    </tr>\n  </thead>\n  <tbody>\n    <tr>\n      <th>57</th>\n      <td>0.246638</td>\n      <td>0.886048</td>\n      <td>0.018947</td>\n      <td>0.305184</td>\n      <td>0.620731</td>\n    </tr>\n    <tr>\n      <th>210</th>\n      <td>0.631648</td>\n      <td>0.808872</td>\n      <td>0.006885</td>\n      <td>0.577642</td>\n      <td>0.391953</td>\n    </tr>\n    <tr>\n      <th>250</th>\n      <td>0.657474</td>\n      <td>0.878373</td>\n      <td>0.040947</td>\n      <td>0.930049</td>\n      <td>0.003302</td>\n    </tr>\n    <tr>\n      <th>273</th>\n      <td>0.997622</td>\n      <td>0.999240</td>\n      <td>0.048908</td>\n      <td>0.735744</td>\n      <td>0.855058</td>\n    </tr>\n    <tr>\n      <th>275</th>\n      <td>0.536074</td>\n      <td>0.884752</td>\n      <td>0.021390</td>\n      <td>0.890835</td>\n      <td>0.706028</td>\n    </tr>\n    <tr>\n      <th>285</th>\n      <td>0.01453</td>\n      <td>0.646251</td>\n      <td>0.041161</td>\n      <td>0.967147</td>\n      <td>0.805820</td>\n    </tr>\n    <tr>\n      <th>338</th>\n      <td>0.55929</td>\n      <td>0.505142</td>\n      <td>0.007502</td>\n      <td>0.215483</td>\n      <td>0.511643</td>\n    </tr>\n    <tr>\n      <th>373</th>\n      <td>0.693086</td>\n      <td>0.827781</td>\n      <td>0.027920</td>\n      <td>0.936133</td>\n      <td>0.930883</td>\n    </tr>\n    <tr>\n      <th>389</th>\n      <td>0.932753</td>\n      <td>0.724432</td>\n      <td>0.005368</td>\n      <td>0.540614</td>\n      <td>0.566715</td>\n    </tr>\n    <tr>\n      <th>412</th>\n      <td>0.571606</td>\n      <td>0.912436</td>\n      <td>0.037952</td>\n      <td>0.723494</td>\n      <td>0.821366</td>\n    </tr>\n    <tr>\n      <th>482</th>\n      <td>0.755324</td>\n      <td>0.847693</td>\n      <td>0.032285</td>\n      <td>0.159648</td>\n      <td>0.019319</td>\n    </tr>\n    <tr>\n      <th>502</th>\n      <td>0.388195</td>\n      <td>0.975452</td>\n      <td>0.031934</td>\n      <td>0.876148</td>\n      <td>0.805276</td>\n    </tr>\n    <tr>\n      <th>539</th>\n      <td>0.784767</td>\n      <td>0.935589</td>\n      <td>0.022630</td>\n      <td>0.725859</td>\n      <td>0.374835</td>\n    </tr>\n    <tr>\n      <th>567</th>\n      <td>0.401448</td>\n      <td>0.704022</td>\n      <td>0.006224</td>\n      <td>0.421088</td>\n      <td>0.594454</td>\n    </tr>\n    <tr>\n      <th>577</th>\n      <td>0.2602</td>\n      <td>0.682168</td>\n      <td>0.026941</td>\n      <td>0.889672</td>\n      <td>0.082294</td>\n    </tr>\n    <tr>\n      <th>592</th>\n      <td>0.355262</td>\n      <td>0.742470</td>\n      <td>0.042480</td>\n      <td>0.361811</td>\n      <td>0.728469</td>\n    </tr>\n    <tr>\n      <th>611</th>\n      <td>0.651891</td>\n      <td>0.804641</td>\n      <td>0.029864</td>\n      <td>0.678533</td>\n      <td>0.871171</td>\n    </tr>\n    <tr>\n      <th>614</th>\n      <td>0.811437</td>\n      <td>0.838936</td>\n      <td>0.009941</td>\n      <td>0.801622</td>\n      <td>0.935061</td>\n    </tr>\n  </tbody>\n</table>\n</div>"
          },
          "metadata": {}
        }
      ],
      "execution_count": 110
    },
    {
      "cell_type": "code",
      "source": "newdf.iloc[0,4]",
      "metadata": {
        "trusted": true
      },
      "outputs": [
        {
          "execution_count": 111,
          "output_type": "execute_result",
          "data": {
            "text/plain": "0.604743054795642"
          },
          "metadata": {}
        }
      ],
      "execution_count": 111
    },
    {
      "cell_type": "code",
      "source": "newdf.iloc[[0,1], 1:4]",
      "metadata": {
        "trusted": true
      },
      "outputs": [
        {
          "execution_count": 118,
          "output_type": "execute_result",
          "data": {
            "text/plain": "          B         C         D\n0  0.094181  0.428379  0.407079\n1  0.813203  0.363148  0.542015",
            "text/html": "<div>\n<style scoped>\n    .dataframe tbody tr th:only-of-type {\n        vertical-align: middle;\n    }\n\n    .dataframe tbody tr th {\n        vertical-align: top;\n    }\n\n    .dataframe thead th {\n        text-align: right;\n    }\n</style>\n<table border=\"1\" class=\"dataframe\">\n  <thead>\n    <tr style=\"text-align: right;\">\n      <th></th>\n      <th>B</th>\n      <th>C</th>\n      <th>D</th>\n    </tr>\n  </thead>\n  <tbody>\n    <tr>\n      <th>0</th>\n      <td>0.094181</td>\n      <td>0.428379</td>\n      <td>0.407079</td>\n    </tr>\n    <tr>\n      <th>1</th>\n      <td>0.813203</td>\n      <td>0.363148</td>\n      <td>0.542015</td>\n    </tr>\n  </tbody>\n</table>\n</div>"
          },
          "metadata": {}
        }
      ],
      "execution_count": 118
    },
    {
      "cell_type": "code",
      "source": "newdf.drop([2,4])\nnewdf.drop([\"A\", \"C\"], axis = 1)",
      "metadata": {
        "trusted": true
      },
      "outputs": [
        {
          "execution_count": 125,
          "output_type": "execute_result",
          "data": {
            "text/plain": "            B         D         E\n0    0.094181  0.407079  0.604743\n1    0.813203  0.542015  0.043320\n2    0.386972  0.907784  0.620629\n3    0.300016  0.962230  0.866204\n4    0.096059  0.830525  0.984698\n..        ...       ...       ...\n651  0.839864  0.552293  0.303394\n652  0.734664  0.365472  0.055773\n653  0.598417  0.477413  0.986886\n654  0.576088  0.956737  0.556501\n655  0.250149  0.561204  0.225498\n\n[656 rows x 3 columns]",
            "text/html": "<div>\n<style scoped>\n    .dataframe tbody tr th:only-of-type {\n        vertical-align: middle;\n    }\n\n    .dataframe tbody tr th {\n        vertical-align: top;\n    }\n\n    .dataframe thead th {\n        text-align: right;\n    }\n</style>\n<table border=\"1\" class=\"dataframe\">\n  <thead>\n    <tr style=\"text-align: right;\">\n      <th></th>\n      <th>B</th>\n      <th>D</th>\n      <th>E</th>\n    </tr>\n  </thead>\n  <tbody>\n    <tr>\n      <th>0</th>\n      <td>0.094181</td>\n      <td>0.407079</td>\n      <td>0.604743</td>\n    </tr>\n    <tr>\n      <th>1</th>\n      <td>0.813203</td>\n      <td>0.542015</td>\n      <td>0.043320</td>\n    </tr>\n    <tr>\n      <th>2</th>\n      <td>0.386972</td>\n      <td>0.907784</td>\n      <td>0.620629</td>\n    </tr>\n    <tr>\n      <th>3</th>\n      <td>0.300016</td>\n      <td>0.962230</td>\n      <td>0.866204</td>\n    </tr>\n    <tr>\n      <th>4</th>\n      <td>0.096059</td>\n      <td>0.830525</td>\n      <td>0.984698</td>\n    </tr>\n    <tr>\n      <th>...</th>\n      <td>...</td>\n      <td>...</td>\n      <td>...</td>\n    </tr>\n    <tr>\n      <th>651</th>\n      <td>0.839864</td>\n      <td>0.552293</td>\n      <td>0.303394</td>\n    </tr>\n    <tr>\n      <th>652</th>\n      <td>0.734664</td>\n      <td>0.365472</td>\n      <td>0.055773</td>\n    </tr>\n    <tr>\n      <th>653</th>\n      <td>0.598417</td>\n      <td>0.477413</td>\n      <td>0.986886</td>\n    </tr>\n    <tr>\n      <th>654</th>\n      <td>0.576088</td>\n      <td>0.956737</td>\n      <td>0.556501</td>\n    </tr>\n    <tr>\n      <th>655</th>\n      <td>0.250149</td>\n      <td>0.561204</td>\n      <td>0.225498</td>\n    </tr>\n  </tbody>\n</table>\n<p>656 rows × 3 columns</p>\n</div>"
          },
          "metadata": {}
        }
      ],
      "execution_count": 125
    },
    {
      "cell_type": "code",
      "source": "newdf.loc[:,[\"A\"]] = 69",
      "metadata": {
        "trusted": true
      },
      "outputs": [
        {
          "name": "stderr",
          "text": "<ipython-input-127-ba5013f6570c>:1: DeprecationWarning: In a future version, `df.iloc[:, i] = newvals` will attempt to set the values inplace instead of always setting a new array. To retain the old behavior, use either `df[df.columns[i]] = newvals` or, if columns are non-unique, `df.isetitem(i, newvals)`\n  newdf.loc[:,[\"A\"]] = 69\n",
          "output_type": "stream"
        }
      ],
      "execution_count": 127
    },
    {
      "cell_type": "code",
      "source": "newdf.head()",
      "metadata": {
        "trusted": true
      },
      "outputs": [
        {
          "execution_count": 129,
          "output_type": "execute_result",
          "data": {
            "text/plain": "    A         B         C         D         E\n0  69  0.094181  0.428379  0.407079  0.604743\n1  69  0.813203  0.363148  0.542015  0.043320\n2  69  0.386972  0.914306  0.907784  0.620629\n3  69  0.300016  0.216505  0.962230  0.866204\n4  69  0.096059  0.877642  0.830525  0.984698",
            "text/html": "<div>\n<style scoped>\n    .dataframe tbody tr th:only-of-type {\n        vertical-align: middle;\n    }\n\n    .dataframe tbody tr th {\n        vertical-align: top;\n    }\n\n    .dataframe thead th {\n        text-align: right;\n    }\n</style>\n<table border=\"1\" class=\"dataframe\">\n  <thead>\n    <tr style=\"text-align: right;\">\n      <th></th>\n      <th>A</th>\n      <th>B</th>\n      <th>C</th>\n      <th>D</th>\n      <th>E</th>\n    </tr>\n  </thead>\n  <tbody>\n    <tr>\n      <th>0</th>\n      <td>69</td>\n      <td>0.094181</td>\n      <td>0.428379</td>\n      <td>0.407079</td>\n      <td>0.604743</td>\n    </tr>\n    <tr>\n      <th>1</th>\n      <td>69</td>\n      <td>0.813203</td>\n      <td>0.363148</td>\n      <td>0.542015</td>\n      <td>0.043320</td>\n    </tr>\n    <tr>\n      <th>2</th>\n      <td>69</td>\n      <td>0.386972</td>\n      <td>0.914306</td>\n      <td>0.907784</td>\n      <td>0.620629</td>\n    </tr>\n    <tr>\n      <th>3</th>\n      <td>69</td>\n      <td>0.300016</td>\n      <td>0.216505</td>\n      <td>0.962230</td>\n      <td>0.866204</td>\n    </tr>\n    <tr>\n      <th>4</th>\n      <td>69</td>\n      <td>0.096059</td>\n      <td>0.877642</td>\n      <td>0.830525</td>\n      <td>0.984698</td>\n    </tr>\n  </tbody>\n</table>\n</div>"
          },
          "metadata": {}
        }
      ],
      "execution_count": 129
    },
    {
      "cell_type": "code",
      "source": "df2 = pd.DataFrame(\n    {\n        \"A\": 1.0,\n        \"B\": pd.Timestamp(\"20130102\"),\n        \"C\": pd.Series(1, index=list(range(4)), dtype=\"float32\"),\n        \"D\": np.array([3] * 4, dtype=\"int32\"),\n        \"E\": pd.Categorical([\"test\", \"train\", \"test\", \"train\"]),\n        \"F\": \"foo\",\n    }\n)",
      "metadata": {
        "trusted": true
      },
      "outputs": [],
      "execution_count": 130
    },
    {
      "cell_type": "code",
      "source": "df2",
      "metadata": {
        "trusted": true
      },
      "outputs": [
        {
          "execution_count": 131,
          "output_type": "execute_result",
          "data": {
            "text/plain": "     A          B    C  D      E    F\n0  1.0 2013-01-02  1.0  3   test  foo\n1  1.0 2013-01-02  1.0  3  train  foo\n2  1.0 2013-01-02  1.0  3   test  foo\n3  1.0 2013-01-02  1.0  3  train  foo",
            "text/html": "<div>\n<style scoped>\n    .dataframe tbody tr th:only-of-type {\n        vertical-align: middle;\n    }\n\n    .dataframe tbody tr th {\n        vertical-align: top;\n    }\n\n    .dataframe thead th {\n        text-align: right;\n    }\n</style>\n<table border=\"1\" class=\"dataframe\">\n  <thead>\n    <tr style=\"text-align: right;\">\n      <th></th>\n      <th>A</th>\n      <th>B</th>\n      <th>C</th>\n      <th>D</th>\n      <th>E</th>\n      <th>F</th>\n    </tr>\n  </thead>\n  <tbody>\n    <tr>\n      <th>0</th>\n      <td>1.0</td>\n      <td>2013-01-02</td>\n      <td>1.0</td>\n      <td>3</td>\n      <td>test</td>\n      <td>foo</td>\n    </tr>\n    <tr>\n      <th>1</th>\n      <td>1.0</td>\n      <td>2013-01-02</td>\n      <td>1.0</td>\n      <td>3</td>\n      <td>train</td>\n      <td>foo</td>\n    </tr>\n    <tr>\n      <th>2</th>\n      <td>1.0</td>\n      <td>2013-01-02</td>\n      <td>1.0</td>\n      <td>3</td>\n      <td>test</td>\n      <td>foo</td>\n    </tr>\n    <tr>\n      <th>3</th>\n      <td>1.0</td>\n      <td>2013-01-02</td>\n      <td>1.0</td>\n      <td>3</td>\n      <td>train</td>\n      <td>foo</td>\n    </tr>\n  </tbody>\n</table>\n</div>"
          },
          "metadata": {}
        }
      ],
      "execution_count": 131
    },
    {
      "cell_type": "code",
      "source": "df2.dtypes",
      "metadata": {
        "trusted": true
      },
      "outputs": [
        {
          "execution_count": 134,
          "output_type": "execute_result",
          "data": {
            "text/plain": "A           float64\nB    datetime64[ns]\nC           float32\nD             int32\nE          category\nF            object\ndtype: object"
          },
          "metadata": {}
        }
      ],
      "execution_count": 134
    },
    {
      "cell_type": "code",
      "source": "df.isnull()",
      "metadata": {
        "trusted": true
      },
      "outputs": [
        {
          "execution_count": 135,
          "output_type": "execute_result",
          "data": {
            "text/plain": "        Train  Number    Seat\nFirst   False    False  False\nSecond  False    False  False\nThird   False    False  False\nFourth  False    False  False",
            "text/html": "<div>\n<style scoped>\n    .dataframe tbody tr th:only-of-type {\n        vertical-align: middle;\n    }\n\n    .dataframe tbody tr th {\n        vertical-align: top;\n    }\n\n    .dataframe thead th {\n        text-align: right;\n    }\n</style>\n<table border=\"1\" class=\"dataframe\">\n  <thead>\n    <tr style=\"text-align: right;\">\n      <th></th>\n      <th>Train</th>\n      <th>Number</th>\n      <th>Seat</th>\n    </tr>\n  </thead>\n  <tbody>\n    <tr>\n      <th>First</th>\n      <td>False</td>\n      <td>False</td>\n      <td>False</td>\n    </tr>\n    <tr>\n      <th>Second</th>\n      <td>False</td>\n      <td>False</td>\n      <td>False</td>\n    </tr>\n    <tr>\n      <th>Third</th>\n      <td>False</td>\n      <td>False</td>\n      <td>False</td>\n    </tr>\n    <tr>\n      <th>Fourth</th>\n      <td>False</td>\n      <td>False</td>\n      <td>False</td>\n    </tr>\n  </tbody>\n</table>\n</div>"
          },
          "metadata": {}
        }
      ],
      "execution_count": 135
    },
    {
      "cell_type": "code",
      "source": "df.sum()",
      "metadata": {
        "trusted": true
      },
      "outputs": [
        {
          "execution_count": 136,
          "output_type": "execute_result",
          "data": {
            "text/plain": "Train      ABCDEFGHIJKL\nNumber            17178\nSeat       HY3KO2WN5BH2\ndtype: object"
          },
          "metadata": {}
        }
      ],
      "execution_count": 136
    },
    {
      "cell_type": "code",
      "source": "df.mean()",
      "metadata": {
        "trusted": true
      },
      "outputs": [
        {
          "name": "stderr",
          "text": "<ipython-input-140-c61f0c8f89b5>:1: FutureWarning: The default value of numeric_only in DataFrame.mean is deprecated. In a future version, it will default to False. In addition, specifying 'numeric_only=None' is deprecated. Select only valid columns or specify the value of numeric_only to silence this warning.\n  df.mean()\n",
          "output_type": "stream"
        },
        {
          "execution_count": 140,
          "output_type": "execute_result",
          "data": {
            "text/plain": "Number     4294.5\ndtype: float64"
          },
          "metadata": {}
        }
      ],
      "execution_count": 140
    },
    {
      "cell_type": "code",
      "source": "df.corr()",
      "metadata": {
        "trusted": true
      },
      "outputs": [
        {
          "name": "stderr",
          "text": "<ipython-input-141-2f6f6606aa2c>:1: FutureWarning: The default value of numeric_only in DataFrame.corr is deprecated. In a future version, it will default to False. Select only valid columns or specify the value of numeric_only to silence this warning.\n  df.corr()\n",
          "output_type": "stream"
        },
        {
          "execution_count": 141,
          "output_type": "execute_result",
          "data": {
            "text/plain": "         Number \nNumber       1.0",
            "text/html": "<div>\n<style scoped>\n    .dataframe tbody tr th:only-of-type {\n        vertical-align: middle;\n    }\n\n    .dataframe tbody tr th {\n        vertical-align: top;\n    }\n\n    .dataframe thead th {\n        text-align: right;\n    }\n</style>\n<table border=\"1\" class=\"dataframe\">\n  <thead>\n    <tr style=\"text-align: right;\">\n      <th></th>\n      <th>Number</th>\n    </tr>\n  </thead>\n  <tbody>\n    <tr>\n      <th>Number</th>\n      <td>1.0</td>\n    </tr>\n  </tbody>\n</table>\n</div>"
          },
          "metadata": {}
        }
      ],
      "execution_count": 141
    },
    {
      "cell_type": "code",
      "source": "df.max()",
      "metadata": {
        "trusted": true
      },
      "outputs": [
        {
          "execution_count": 142,
          "output_type": "execute_result",
          "data": {
            "text/plain": "Train       JKL\nNumber     8723\nSeat        WN5\ndtype: object"
          },
          "metadata": {}
        }
      ],
      "execution_count": 142
    },
    {
      "cell_type": "code",
      "source": "df.min()",
      "metadata": {
        "trusted": true
      },
      "outputs": [
        {
          "execution_count": 143,
          "output_type": "execute_result",
          "data": {
            "text/plain": "Train       ABC\nNumber     1004\nSeat        BH2\ndtype: object"
          },
          "metadata": {}
        }
      ],
      "execution_count": 143
    },
    {
      "cell_type": "code",
      "source": "df.std()",
      "metadata": {
        "trusted": true
      },
      "outputs": [
        {
          "name": "stderr",
          "text": "<ipython-input-144-ce97bb7eaef8>:1: FutureWarning: The default value of numeric_only in DataFrame.std is deprecated. In a future version, it will default to False. In addition, specifying 'numeric_only=None' is deprecated. Select only valid columns or specify the value of numeric_only to silence this warning.\n  df.std()\n",
          "output_type": "stream"
        },
        {
          "execution_count": 144,
          "output_type": "execute_result",
          "data": {
            "text/plain": "Number     3509.272907\ndtype: float64"
          },
          "metadata": {}
        }
      ],
      "execution_count": 144
    },
    {
      "cell_type": "markdown",
      "source": "_________________________\nGroup By",
      "metadata": {
        "tags": [],
        "editable": true,
        "slideshow": {
          "slide_type": ""
        }
      }
    },
    {
      "cell_type": "code",
      "source": "import pandas as pd\ndf = pd.read_csv(\"Sampledata.csv\")",
      "metadata": {
        "trusted": true
      },
      "outputs": [],
      "execution_count": 2
    },
    {
      "cell_type": "code",
      "source": "df.head()",
      "metadata": {
        "trusted": true
      },
      "outputs": [
        {
          "execution_count": 4,
          "output_type": "execute_result",
          "data": {
            "text/plain": "  Product type      Price  Number of products sold  Revenue generated  \\\n0    Haircare1  69.808006                      802        8661.996792   \n1    Skincare1  14.843523                      736        7460.900065   \n2    Haircare2  11.319683                        8        9577.749626   \n3    Skincare2  61.163343                       83        7766.836426   \n4    Skincare3   4.805496                      871        2686.505152   \n\n   Order quantities Shipping carriers  Shipping costs Supplier name Location  \\\n0                96         Carrier B        2.956572    Supplier 3   Mumbai   \n1                37         Carrier A        9.716575    Supplier 3   Mumbai   \n2                88         Carrier B        8.054479    Supplier 1   Mumbai   \n3                59         Carrier C        1.729569    Supplier 5  Kolkata   \n4                56         Carrier A        3.890548    Supplier 1    Delhi   \n\n   Manufacturing costs Transportation modes  \n0            46.279879                 Road  \n1            33.616769                 Road  \n2            30.688019                  Air  \n3            35.624741                 Rail  \n4            92.065161                  Air  ",
            "text/html": "<div>\n<style scoped>\n    .dataframe tbody tr th:only-of-type {\n        vertical-align: middle;\n    }\n\n    .dataframe tbody tr th {\n        vertical-align: top;\n    }\n\n    .dataframe thead th {\n        text-align: right;\n    }\n</style>\n<table border=\"1\" class=\"dataframe\">\n  <thead>\n    <tr style=\"text-align: right;\">\n      <th></th>\n      <th>Product type</th>\n      <th>Price</th>\n      <th>Number of products sold</th>\n      <th>Revenue generated</th>\n      <th>Order quantities</th>\n      <th>Shipping carriers</th>\n      <th>Shipping costs</th>\n      <th>Supplier name</th>\n      <th>Location</th>\n      <th>Manufacturing costs</th>\n      <th>Transportation modes</th>\n    </tr>\n  </thead>\n  <tbody>\n    <tr>\n      <th>0</th>\n      <td>Haircare1</td>\n      <td>69.808006</td>\n      <td>802</td>\n      <td>8661.996792</td>\n      <td>96</td>\n      <td>Carrier B</td>\n      <td>2.956572</td>\n      <td>Supplier 3</td>\n      <td>Mumbai</td>\n      <td>46.279879</td>\n      <td>Road</td>\n    </tr>\n    <tr>\n      <th>1</th>\n      <td>Skincare1</td>\n      <td>14.843523</td>\n      <td>736</td>\n      <td>7460.900065</td>\n      <td>37</td>\n      <td>Carrier A</td>\n      <td>9.716575</td>\n      <td>Supplier 3</td>\n      <td>Mumbai</td>\n      <td>33.616769</td>\n      <td>Road</td>\n    </tr>\n    <tr>\n      <th>2</th>\n      <td>Haircare2</td>\n      <td>11.319683</td>\n      <td>8</td>\n      <td>9577.749626</td>\n      <td>88</td>\n      <td>Carrier B</td>\n      <td>8.054479</td>\n      <td>Supplier 1</td>\n      <td>Mumbai</td>\n      <td>30.688019</td>\n      <td>Air</td>\n    </tr>\n    <tr>\n      <th>3</th>\n      <td>Skincare2</td>\n      <td>61.163343</td>\n      <td>83</td>\n      <td>7766.836426</td>\n      <td>59</td>\n      <td>Carrier C</td>\n      <td>1.729569</td>\n      <td>Supplier 5</td>\n      <td>Kolkata</td>\n      <td>35.624741</td>\n      <td>Rail</td>\n    </tr>\n    <tr>\n      <th>4</th>\n      <td>Skincare3</td>\n      <td>4.805496</td>\n      <td>871</td>\n      <td>2686.505152</td>\n      <td>56</td>\n      <td>Carrier A</td>\n      <td>3.890548</td>\n      <td>Supplier 1</td>\n      <td>Delhi</td>\n      <td>92.065161</td>\n      <td>Air</td>\n    </tr>\n  </tbody>\n</table>\n</div>"
          },
          "metadata": {}
        }
      ],
      "execution_count": 4
    },
    {
      "cell_type": "code",
      "source": "var1 = df.groupby(\"Location\")\nvar1.head()",
      "metadata": {
        "trusted": true
      },
      "outputs": [
        {
          "execution_count": 13,
          "output_type": "execute_result",
          "data": {
            "text/plain": "   Product type      Price  Number of products sold  Revenue generated  \\\n0     Haircare1  69.808006                      802        8661.996792   \n1     Skincare1  14.843523                      736        7460.900065   \n2     Haircare2  11.319683                        8        9577.749626   \n3     Skincare2  61.163343                       83        7766.836426   \n4     Skincare3   4.805496                      871        2686.505152   \n5     Haircare3   1.699976                      147        2828.348746   \n6     Skincare4   4.078333                       65        7823.476560   \n7    Cosmetics1  42.958384                      426        8496.103813   \n8    Cosmetics2  68.717597                      150        7517.363211   \n9     Skincare4  64.015733                      980        4971.145988   \n10    Skincare5  15.707796                      996        2330.965802   \n11    Skincare6  90.635460                      960        6099.944116   \n12    Haircare4  71.213389                      336        2873.741446   \n13    Skincare7  16.160393                      249        4052.738416   \n15     skincare  36.989245                      469        5442.086785   \n16     skincare   7.547172                      280        6453.797968   \n17    cosmetics  81.462534                      126        2629.396435   \n19     skincare  51.123870                      187        2553.495585   \n20     skincare  96.341072                      320        8128.027697   \n21    cosmetics  84.893869                      601        7087.052696   \n27    cosmetics  92.557361                      352        2686.457224   \n35    cosmetics  84.957787                      449        6541.329345   \n36     skincare   9.813003                      963        7573.402458   \n44    cosmetics  51.355791                      919        7152.286049   \n49    cosmetics  78.897913                       99        8001.613207   \n\n    Order quantities Shipping carriers  Shipping costs Supplier name  \\\n0                 96         Carrier B        2.956572    Supplier 3   \n1                 37         Carrier A        9.716575    Supplier 3   \n2                 88         Carrier B        8.054479    Supplier 1   \n3                 59         Carrier C        1.729569    Supplier 5   \n4                 56         Carrier A        3.890548    Supplier 1   \n5                 66         Carrier B        4.444099    Supplier 4   \n6                 58         Carrier C        3.880763    Supplier 3   \n7                 11         Carrier B        2.348339    Supplier 4   \n8                 15         Carrier C        3.404734    Supplier 4   \n9                 83         Carrier A        7.166645    Supplier 2   \n10                80         Carrier C        8.673211    Supplier 5   \n11                60         Carrier A        4.523943    Supplier 2   \n12                85         Carrier A        1.325274    Supplier 4   \n13                48         Carrier A        9.537283    Supplier 5   \n15                69         Carrier B        2.422040    Supplier 1   \n16                78         Carrier B        4.191325    Supplier 1   \n17                85         Carrier C        3.585419    Supplier 1   \n19                94         Carrier A        4.742636    Supplier 4   \n20                68         Carrier A        8.878335    Supplier 1   \n21                 7         Carrier B        6.037884    Supplier 5   \n27                62         Carrier C        7.406751    Supplier 5   \n35                85         Carrier C        5.288190    Supplier 1   \n36                28         Carrier B        2.107951    Supplier 2   \n44                72         Carrier C        7.577450    Supplier 2   \n49                 9         Carrier C        2.505621    Supplier 5   \n\n     Location  Manufacturing costs Transportation modes  \n0      Mumbai            46.279879                 Road  \n1      Mumbai            33.616769                 Road  \n2      Mumbai            30.688019                  Air  \n3     Kolkata            35.624741                 Rail  \n4       Delhi            92.065161                  Air  \n5   Bangalore            56.766476                 Road  \n6     Kolkata             1.085069                  Sea  \n7   Bangalore            99.466109                 Road  \n8      Mumbai            11.423027                  Sea  \n9     Chennai            47.957602                 Rail  \n10    Kolkata            96.527353                 Road  \n11    Kolkata            27.592363                  Air  \n12    Kolkata            32.321286                 Road  \n13  Bangalore            97.829050                 Road  \n15  Bangalore            97.121282                  Sea  \n16  Bangalore            77.106342                  Air  \n17    Chennai            47.679680                  Air  \n19    Chennai            82.373321                 Road  \n20    Chennai            65.686260                  Air  \n21    Chennai            61.735729                  Air  \n27     Mumbai            10.528245                  Sea  \n35      Delhi            58.004787                  Sea  \n36      Delhi            45.531364                  Air  \n44      Delhi            22.554107                 Rail  \n49      Delhi            14.147815                 Rail  ",
            "text/html": "<div>\n<style scoped>\n    .dataframe tbody tr th:only-of-type {\n        vertical-align: middle;\n    }\n\n    .dataframe tbody tr th {\n        vertical-align: top;\n    }\n\n    .dataframe thead th {\n        text-align: right;\n    }\n</style>\n<table border=\"1\" class=\"dataframe\">\n  <thead>\n    <tr style=\"text-align: right;\">\n      <th></th>\n      <th>Product type</th>\n      <th>Price</th>\n      <th>Number of products sold</th>\n      <th>Revenue generated</th>\n      <th>Order quantities</th>\n      <th>Shipping carriers</th>\n      <th>Shipping costs</th>\n      <th>Supplier name</th>\n      <th>Location</th>\n      <th>Manufacturing costs</th>\n      <th>Transportation modes</th>\n    </tr>\n  </thead>\n  <tbody>\n    <tr>\n      <th>0</th>\n      <td>Haircare1</td>\n      <td>69.808006</td>\n      <td>802</td>\n      <td>8661.996792</td>\n      <td>96</td>\n      <td>Carrier B</td>\n      <td>2.956572</td>\n      <td>Supplier 3</td>\n      <td>Mumbai</td>\n      <td>46.279879</td>\n      <td>Road</td>\n    </tr>\n    <tr>\n      <th>1</th>\n      <td>Skincare1</td>\n      <td>14.843523</td>\n      <td>736</td>\n      <td>7460.900065</td>\n      <td>37</td>\n      <td>Carrier A</td>\n      <td>9.716575</td>\n      <td>Supplier 3</td>\n      <td>Mumbai</td>\n      <td>33.616769</td>\n      <td>Road</td>\n    </tr>\n    <tr>\n      <th>2</th>\n      <td>Haircare2</td>\n      <td>11.319683</td>\n      <td>8</td>\n      <td>9577.749626</td>\n      <td>88</td>\n      <td>Carrier B</td>\n      <td>8.054479</td>\n      <td>Supplier 1</td>\n      <td>Mumbai</td>\n      <td>30.688019</td>\n      <td>Air</td>\n    </tr>\n    <tr>\n      <th>3</th>\n      <td>Skincare2</td>\n      <td>61.163343</td>\n      <td>83</td>\n      <td>7766.836426</td>\n      <td>59</td>\n      <td>Carrier C</td>\n      <td>1.729569</td>\n      <td>Supplier 5</td>\n      <td>Kolkata</td>\n      <td>35.624741</td>\n      <td>Rail</td>\n    </tr>\n    <tr>\n      <th>4</th>\n      <td>Skincare3</td>\n      <td>4.805496</td>\n      <td>871</td>\n      <td>2686.505152</td>\n      <td>56</td>\n      <td>Carrier A</td>\n      <td>3.890548</td>\n      <td>Supplier 1</td>\n      <td>Delhi</td>\n      <td>92.065161</td>\n      <td>Air</td>\n    </tr>\n    <tr>\n      <th>5</th>\n      <td>Haircare3</td>\n      <td>1.699976</td>\n      <td>147</td>\n      <td>2828.348746</td>\n      <td>66</td>\n      <td>Carrier B</td>\n      <td>4.444099</td>\n      <td>Supplier 4</td>\n      <td>Bangalore</td>\n      <td>56.766476</td>\n      <td>Road</td>\n    </tr>\n    <tr>\n      <th>6</th>\n      <td>Skincare4</td>\n      <td>4.078333</td>\n      <td>65</td>\n      <td>7823.476560</td>\n      <td>58</td>\n      <td>Carrier C</td>\n      <td>3.880763</td>\n      <td>Supplier 3</td>\n      <td>Kolkata</td>\n      <td>1.085069</td>\n      <td>Sea</td>\n    </tr>\n    <tr>\n      <th>7</th>\n      <td>Cosmetics1</td>\n      <td>42.958384</td>\n      <td>426</td>\n      <td>8496.103813</td>\n      <td>11</td>\n      <td>Carrier B</td>\n      <td>2.348339</td>\n      <td>Supplier 4</td>\n      <td>Bangalore</td>\n      <td>99.466109</td>\n      <td>Road</td>\n    </tr>\n    <tr>\n      <th>8</th>\n      <td>Cosmetics2</td>\n      <td>68.717597</td>\n      <td>150</td>\n      <td>7517.363211</td>\n      <td>15</td>\n      <td>Carrier C</td>\n      <td>3.404734</td>\n      <td>Supplier 4</td>\n      <td>Mumbai</td>\n      <td>11.423027</td>\n      <td>Sea</td>\n    </tr>\n    <tr>\n      <th>9</th>\n      <td>Skincare4</td>\n      <td>64.015733</td>\n      <td>980</td>\n      <td>4971.145988</td>\n      <td>83</td>\n      <td>Carrier A</td>\n      <td>7.166645</td>\n      <td>Supplier 2</td>\n      <td>Chennai</td>\n      <td>47.957602</td>\n      <td>Rail</td>\n    </tr>\n    <tr>\n      <th>10</th>\n      <td>Skincare5</td>\n      <td>15.707796</td>\n      <td>996</td>\n      <td>2330.965802</td>\n      <td>80</td>\n      <td>Carrier C</td>\n      <td>8.673211</td>\n      <td>Supplier 5</td>\n      <td>Kolkata</td>\n      <td>96.527353</td>\n      <td>Road</td>\n    </tr>\n    <tr>\n      <th>11</th>\n      <td>Skincare6</td>\n      <td>90.635460</td>\n      <td>960</td>\n      <td>6099.944116</td>\n      <td>60</td>\n      <td>Carrier A</td>\n      <td>4.523943</td>\n      <td>Supplier 2</td>\n      <td>Kolkata</td>\n      <td>27.592363</td>\n      <td>Air</td>\n    </tr>\n    <tr>\n      <th>12</th>\n      <td>Haircare4</td>\n      <td>71.213389</td>\n      <td>336</td>\n      <td>2873.741446</td>\n      <td>85</td>\n      <td>Carrier A</td>\n      <td>1.325274</td>\n      <td>Supplier 4</td>\n      <td>Kolkata</td>\n      <td>32.321286</td>\n      <td>Road</td>\n    </tr>\n    <tr>\n      <th>13</th>\n      <td>Skincare7</td>\n      <td>16.160393</td>\n      <td>249</td>\n      <td>4052.738416</td>\n      <td>48</td>\n      <td>Carrier A</td>\n      <td>9.537283</td>\n      <td>Supplier 5</td>\n      <td>Bangalore</td>\n      <td>97.829050</td>\n      <td>Road</td>\n    </tr>\n    <tr>\n      <th>15</th>\n      <td>skincare</td>\n      <td>36.989245</td>\n      <td>469</td>\n      <td>5442.086785</td>\n      <td>69</td>\n      <td>Carrier B</td>\n      <td>2.422040</td>\n      <td>Supplier 1</td>\n      <td>Bangalore</td>\n      <td>97.121282</td>\n      <td>Sea</td>\n    </tr>\n    <tr>\n      <th>16</th>\n      <td>skincare</td>\n      <td>7.547172</td>\n      <td>280</td>\n      <td>6453.797968</td>\n      <td>78</td>\n      <td>Carrier B</td>\n      <td>4.191325</td>\n      <td>Supplier 1</td>\n      <td>Bangalore</td>\n      <td>77.106342</td>\n      <td>Air</td>\n    </tr>\n    <tr>\n      <th>17</th>\n      <td>cosmetics</td>\n      <td>81.462534</td>\n      <td>126</td>\n      <td>2629.396435</td>\n      <td>85</td>\n      <td>Carrier C</td>\n      <td>3.585419</td>\n      <td>Supplier 1</td>\n      <td>Chennai</td>\n      <td>47.679680</td>\n      <td>Air</td>\n    </tr>\n    <tr>\n      <th>19</th>\n      <td>skincare</td>\n      <td>51.123870</td>\n      <td>187</td>\n      <td>2553.495585</td>\n      <td>94</td>\n      <td>Carrier A</td>\n      <td>4.742636</td>\n      <td>Supplier 4</td>\n      <td>Chennai</td>\n      <td>82.373321</td>\n      <td>Road</td>\n    </tr>\n    <tr>\n      <th>20</th>\n      <td>skincare</td>\n      <td>96.341072</td>\n      <td>320</td>\n      <td>8128.027697</td>\n      <td>68</td>\n      <td>Carrier A</td>\n      <td>8.878335</td>\n      <td>Supplier 1</td>\n      <td>Chennai</td>\n      <td>65.686260</td>\n      <td>Air</td>\n    </tr>\n    <tr>\n      <th>21</th>\n      <td>cosmetics</td>\n      <td>84.893869</td>\n      <td>601</td>\n      <td>7087.052696</td>\n      <td>7</td>\n      <td>Carrier B</td>\n      <td>6.037884</td>\n      <td>Supplier 5</td>\n      <td>Chennai</td>\n      <td>61.735729</td>\n      <td>Air</td>\n    </tr>\n    <tr>\n      <th>27</th>\n      <td>cosmetics</td>\n      <td>92.557361</td>\n      <td>352</td>\n      <td>2686.457224</td>\n      <td>62</td>\n      <td>Carrier C</td>\n      <td>7.406751</td>\n      <td>Supplier 5</td>\n      <td>Mumbai</td>\n      <td>10.528245</td>\n      <td>Sea</td>\n    </tr>\n    <tr>\n      <th>35</th>\n      <td>cosmetics</td>\n      <td>84.957787</td>\n      <td>449</td>\n      <td>6541.329345</td>\n      <td>85</td>\n      <td>Carrier C</td>\n      <td>5.288190</td>\n      <td>Supplier 1</td>\n      <td>Delhi</td>\n      <td>58.004787</td>\n      <td>Sea</td>\n    </tr>\n    <tr>\n      <th>36</th>\n      <td>skincare</td>\n      <td>9.813003</td>\n      <td>963</td>\n      <td>7573.402458</td>\n      <td>28</td>\n      <td>Carrier B</td>\n      <td>2.107951</td>\n      <td>Supplier 2</td>\n      <td>Delhi</td>\n      <td>45.531364</td>\n      <td>Air</td>\n    </tr>\n    <tr>\n      <th>44</th>\n      <td>cosmetics</td>\n      <td>51.355791</td>\n      <td>919</td>\n      <td>7152.286049</td>\n      <td>72</td>\n      <td>Carrier C</td>\n      <td>7.577450</td>\n      <td>Supplier 2</td>\n      <td>Delhi</td>\n      <td>22.554107</td>\n      <td>Rail</td>\n    </tr>\n    <tr>\n      <th>49</th>\n      <td>cosmetics</td>\n      <td>78.897913</td>\n      <td>99</td>\n      <td>8001.613207</td>\n      <td>9</td>\n      <td>Carrier C</td>\n      <td>2.505621</td>\n      <td>Supplier 5</td>\n      <td>Delhi</td>\n      <td>14.147815</td>\n      <td>Rail</td>\n    </tr>\n  </tbody>\n</table>\n</div>"
          },
          "metadata": {}
        }
      ],
      "execution_count": 13
    },
    {
      "cell_type": "code",
      "source": "var1.get_group(\"Mumbai\")",
      "metadata": {
        "trusted": true
      },
      "outputs": [
        {
          "execution_count": 15,
          "output_type": "execute_result",
          "data": {
            "text/plain": "   Product type      Price  Number of products sold  Revenue generated  \\\n0     Haircare1  69.808006                      802        8661.996792   \n1     Skincare1  14.843523                      736        7460.900065   \n2     Haircare2  11.319683                        8        9577.749626   \n8    Cosmetics2  68.717597                      150        7517.363211   \n27    cosmetics  92.557361                      352        2686.457224   \n28    cosmetics   2.397275                      394        6117.324615   \n38    cosmetics  52.075931                      705        9692.318040   \n43     haircare  11.743272                      598        5737.425599   \n48     haircare  76.035544                       29        7397.071005   \n52     skincare  98.031830                      820        9435.762609   \n56     skincare  20.986386                       93        4767.020484   \n60     skincare  17.028028                      380        8864.084350   \n62    cosmetics  72.796354                      270        3899.746834   \n67     skincare  87.755432                      513        9473.798033   \n78     haircare   6.306883                      946        1292.458418   \n82     skincare  17.034931                      336        2943.381868   \n86     skincare  19.998177                      223        1229.591029   \n88   Cosmetics1  75.270407                      737        9444.742033   \n92   Cosmetics4  47.714233                      276        2100.129755   \n95    Haircare5  77.903927                      672        7386.363944   \n96   cosmetics6  24.423131                      324        7698.424766   \n97    haircare1   3.526111                       62        4370.916580   \n\n    Order quantities Shipping carriers  Shipping costs Supplier name Location  \\\n0                 96         Carrier B        2.956572    Supplier 3   Mumbai   \n1                 37         Carrier A        9.716575    Supplier 3   Mumbai   \n2                 88         Carrier B        8.054479    Supplier 1   Mumbai   \n8                 15         Carrier C        3.404734    Supplier 4   Mumbai   \n27                62         Carrier C        7.406751    Supplier 5   Mumbai   \n28                24         Carrier B        9.898141    Supplier 1   Mumbai   \n38                88         Carrier B        9.235931    Supplier 5   Mumbai   \n43                85         Carrier B        3.694021    Supplier 5   Mumbai   \n48                 9         Carrier C        7.095833    Supplier 2   Mumbai   \n52                11         Carrier B        8.631052    Supplier 1   Mumbai   \n56                83         Carrier C        1.774430    Supplier 1   Mumbai   \n60                72         Carrier C        4.381368    Supplier 4   Mumbai   \n62                40         Carrier C        7.291701    Supplier 2   Mumbai   \n67                71         Carrier C        9.147812    Supplier 1   Mumbai   \n78                51         Carrier B        8.467050    Supplier 5   Mumbai   \n82                72         Carrier A        4.708182    Supplier 2   Mumbai   \n86                22         Carrier B        1.454305    Supplier 1   Mumbai   \n88                85         Carrier A        3.801253    Supplier 2   Mumbai   \n92                10         Carrier B        4.469500    Supplier 2   Mumbai   \n95                26         Carrier B        8.630339    Supplier 4   Mumbai   \n96                32         Carrier C        5.352878    Supplier 3   Mumbai   \n97                 4         Carrier A        7.904846    Supplier 4   Mumbai   \n\n    Manufacturing costs Transportation modes  \n0             46.279879                 Road  \n1             33.616769                 Road  \n2             30.688019                  Air  \n8             11.423027                  Sea  \n27            10.528245                  Sea  \n28            59.429382                  Air  \n38             5.930694                  Air  \n43            26.277366                  Air  \n48            23.126364                 Rail  \n52             9.166849                  Air  \n56            12.836285                  Air  \n60            87.213058                 Rail  \n62            21.048643                  Sea  \n67             7.057876                  Sea  \n78            71.126515                  Sea  \n82             4.465278                 Road  \n86            74.608970                 Rail  \n88            68.184919                  Sea  \n92            62.612690                 Rail  \n95            58.890686                  Air  \n96            17.803756                 Road  \n97            65.765156                 Road  ",
            "text/html": "<div>\n<style scoped>\n    .dataframe tbody tr th:only-of-type {\n        vertical-align: middle;\n    }\n\n    .dataframe tbody tr th {\n        vertical-align: top;\n    }\n\n    .dataframe thead th {\n        text-align: right;\n    }\n</style>\n<table border=\"1\" class=\"dataframe\">\n  <thead>\n    <tr style=\"text-align: right;\">\n      <th></th>\n      <th>Product type</th>\n      <th>Price</th>\n      <th>Number of products sold</th>\n      <th>Revenue generated</th>\n      <th>Order quantities</th>\n      <th>Shipping carriers</th>\n      <th>Shipping costs</th>\n      <th>Supplier name</th>\n      <th>Location</th>\n      <th>Manufacturing costs</th>\n      <th>Transportation modes</th>\n    </tr>\n  </thead>\n  <tbody>\n    <tr>\n      <th>0</th>\n      <td>Haircare1</td>\n      <td>69.808006</td>\n      <td>802</td>\n      <td>8661.996792</td>\n      <td>96</td>\n      <td>Carrier B</td>\n      <td>2.956572</td>\n      <td>Supplier 3</td>\n      <td>Mumbai</td>\n      <td>46.279879</td>\n      <td>Road</td>\n    </tr>\n    <tr>\n      <th>1</th>\n      <td>Skincare1</td>\n      <td>14.843523</td>\n      <td>736</td>\n      <td>7460.900065</td>\n      <td>37</td>\n      <td>Carrier A</td>\n      <td>9.716575</td>\n      <td>Supplier 3</td>\n      <td>Mumbai</td>\n      <td>33.616769</td>\n      <td>Road</td>\n    </tr>\n    <tr>\n      <th>2</th>\n      <td>Haircare2</td>\n      <td>11.319683</td>\n      <td>8</td>\n      <td>9577.749626</td>\n      <td>88</td>\n      <td>Carrier B</td>\n      <td>8.054479</td>\n      <td>Supplier 1</td>\n      <td>Mumbai</td>\n      <td>30.688019</td>\n      <td>Air</td>\n    </tr>\n    <tr>\n      <th>8</th>\n      <td>Cosmetics2</td>\n      <td>68.717597</td>\n      <td>150</td>\n      <td>7517.363211</td>\n      <td>15</td>\n      <td>Carrier C</td>\n      <td>3.404734</td>\n      <td>Supplier 4</td>\n      <td>Mumbai</td>\n      <td>11.423027</td>\n      <td>Sea</td>\n    </tr>\n    <tr>\n      <th>27</th>\n      <td>cosmetics</td>\n      <td>92.557361</td>\n      <td>352</td>\n      <td>2686.457224</td>\n      <td>62</td>\n      <td>Carrier C</td>\n      <td>7.406751</td>\n      <td>Supplier 5</td>\n      <td>Mumbai</td>\n      <td>10.528245</td>\n      <td>Sea</td>\n    </tr>\n    <tr>\n      <th>28</th>\n      <td>cosmetics</td>\n      <td>2.397275</td>\n      <td>394</td>\n      <td>6117.324615</td>\n      <td>24</td>\n      <td>Carrier B</td>\n      <td>9.898141</td>\n      <td>Supplier 1</td>\n      <td>Mumbai</td>\n      <td>59.429382</td>\n      <td>Air</td>\n    </tr>\n    <tr>\n      <th>38</th>\n      <td>cosmetics</td>\n      <td>52.075931</td>\n      <td>705</td>\n      <td>9692.318040</td>\n      <td>88</td>\n      <td>Carrier B</td>\n      <td>9.235931</td>\n      <td>Supplier 5</td>\n      <td>Mumbai</td>\n      <td>5.930694</td>\n      <td>Air</td>\n    </tr>\n    <tr>\n      <th>43</th>\n      <td>haircare</td>\n      <td>11.743272</td>\n      <td>598</td>\n      <td>5737.425599</td>\n      <td>85</td>\n      <td>Carrier B</td>\n      <td>3.694021</td>\n      <td>Supplier 5</td>\n      <td>Mumbai</td>\n      <td>26.277366</td>\n      <td>Air</td>\n    </tr>\n    <tr>\n      <th>48</th>\n      <td>haircare</td>\n      <td>76.035544</td>\n      <td>29</td>\n      <td>7397.071005</td>\n      <td>9</td>\n      <td>Carrier C</td>\n      <td>7.095833</td>\n      <td>Supplier 2</td>\n      <td>Mumbai</td>\n      <td>23.126364</td>\n      <td>Rail</td>\n    </tr>\n    <tr>\n      <th>52</th>\n      <td>skincare</td>\n      <td>98.031830</td>\n      <td>820</td>\n      <td>9435.762609</td>\n      <td>11</td>\n      <td>Carrier B</td>\n      <td>8.631052</td>\n      <td>Supplier 1</td>\n      <td>Mumbai</td>\n      <td>9.166849</td>\n      <td>Air</td>\n    </tr>\n    <tr>\n      <th>56</th>\n      <td>skincare</td>\n      <td>20.986386</td>\n      <td>93</td>\n      <td>4767.020484</td>\n      <td>83</td>\n      <td>Carrier C</td>\n      <td>1.774430</td>\n      <td>Supplier 1</td>\n      <td>Mumbai</td>\n      <td>12.836285</td>\n      <td>Air</td>\n    </tr>\n    <tr>\n      <th>60</th>\n      <td>skincare</td>\n      <td>17.028028</td>\n      <td>380</td>\n      <td>8864.084350</td>\n      <td>72</td>\n      <td>Carrier C</td>\n      <td>4.381368</td>\n      <td>Supplier 4</td>\n      <td>Mumbai</td>\n      <td>87.213058</td>\n      <td>Rail</td>\n    </tr>\n    <tr>\n      <th>62</th>\n      <td>cosmetics</td>\n      <td>72.796354</td>\n      <td>270</td>\n      <td>3899.746834</td>\n      <td>40</td>\n      <td>Carrier C</td>\n      <td>7.291701</td>\n      <td>Supplier 2</td>\n      <td>Mumbai</td>\n      <td>21.048643</td>\n      <td>Sea</td>\n    </tr>\n    <tr>\n      <th>67</th>\n      <td>skincare</td>\n      <td>87.755432</td>\n      <td>513</td>\n      <td>9473.798033</td>\n      <td>71</td>\n      <td>Carrier C</td>\n      <td>9.147812</td>\n      <td>Supplier 1</td>\n      <td>Mumbai</td>\n      <td>7.057876</td>\n      <td>Sea</td>\n    </tr>\n    <tr>\n      <th>78</th>\n      <td>haircare</td>\n      <td>6.306883</td>\n      <td>946</td>\n      <td>1292.458418</td>\n      <td>51</td>\n      <td>Carrier B</td>\n      <td>8.467050</td>\n      <td>Supplier 5</td>\n      <td>Mumbai</td>\n      <td>71.126515</td>\n      <td>Sea</td>\n    </tr>\n    <tr>\n      <th>82</th>\n      <td>skincare</td>\n      <td>17.034931</td>\n      <td>336</td>\n      <td>2943.381868</td>\n      <td>72</td>\n      <td>Carrier A</td>\n      <td>4.708182</td>\n      <td>Supplier 2</td>\n      <td>Mumbai</td>\n      <td>4.465278</td>\n      <td>Road</td>\n    </tr>\n    <tr>\n      <th>86</th>\n      <td>skincare</td>\n      <td>19.998177</td>\n      <td>223</td>\n      <td>1229.591029</td>\n      <td>22</td>\n      <td>Carrier B</td>\n      <td>1.454305</td>\n      <td>Supplier 1</td>\n      <td>Mumbai</td>\n      <td>74.608970</td>\n      <td>Rail</td>\n    </tr>\n    <tr>\n      <th>88</th>\n      <td>Cosmetics1</td>\n      <td>75.270407</td>\n      <td>737</td>\n      <td>9444.742033</td>\n      <td>85</td>\n      <td>Carrier A</td>\n      <td>3.801253</td>\n      <td>Supplier 2</td>\n      <td>Mumbai</td>\n      <td>68.184919</td>\n      <td>Sea</td>\n    </tr>\n    <tr>\n      <th>92</th>\n      <td>Cosmetics4</td>\n      <td>47.714233</td>\n      <td>276</td>\n      <td>2100.129755</td>\n      <td>10</td>\n      <td>Carrier B</td>\n      <td>4.469500</td>\n      <td>Supplier 2</td>\n      <td>Mumbai</td>\n      <td>62.612690</td>\n      <td>Rail</td>\n    </tr>\n    <tr>\n      <th>95</th>\n      <td>Haircare5</td>\n      <td>77.903927</td>\n      <td>672</td>\n      <td>7386.363944</td>\n      <td>26</td>\n      <td>Carrier B</td>\n      <td>8.630339</td>\n      <td>Supplier 4</td>\n      <td>Mumbai</td>\n      <td>58.890686</td>\n      <td>Air</td>\n    </tr>\n    <tr>\n      <th>96</th>\n      <td>cosmetics6</td>\n      <td>24.423131</td>\n      <td>324</td>\n      <td>7698.424766</td>\n      <td>32</td>\n      <td>Carrier C</td>\n      <td>5.352878</td>\n      <td>Supplier 3</td>\n      <td>Mumbai</td>\n      <td>17.803756</td>\n      <td>Road</td>\n    </tr>\n    <tr>\n      <th>97</th>\n      <td>haircare1</td>\n      <td>3.526111</td>\n      <td>62</td>\n      <td>4370.916580</td>\n      <td>4</td>\n      <td>Carrier A</td>\n      <td>7.904846</td>\n      <td>Supplier 4</td>\n      <td>Mumbai</td>\n      <td>65.765156</td>\n      <td>Road</td>\n    </tr>\n  </tbody>\n</table>\n</div>"
          },
          "metadata": {}
        }
      ],
      "execution_count": 15
    },
    {
      "cell_type": "code",
      "source": "var1.groups",
      "metadata": {
        "trusted": true
      },
      "outputs": [
        {
          "execution_count": 9,
          "output_type": "execute_result",
          "data": {
            "text/plain": "{'Cosmetics1': [7, 88], 'Cosmetics2': [8, 89], 'Cosmetics3': [91], 'Cosmetics4': [92], 'Haircare1': [0], 'Haircare2': [2], 'Haircare3': [5], 'Haircare4': [12], 'Haircare5': [95], 'Skincare1': [1, 90], 'Skincare2': [3, 98], 'Skincare3': [4], 'Skincare4': [6, 9], 'Skincare5': [10], 'Skincare6': [11], 'Skincare7': [13], 'cosmetics': [17, 21, 23, 27, 28, 29, 33, 35, 38, 44, 49, 50, 59, 62, 71, 72, 73, 85], 'cosmetics4': [94], 'cosmetics6': [96], 'haircare': [18, 22, 24, 25, 26, 30, 43, 45, 46, 48, 51, 54, 55, 57, 61, 68, 70, 74, 76, 77, 78, 79, 81, 83, 84, 87], 'haircare1': [97], 'haircare3': [93, 99], 'skincare': [14, 15, 16, 19, 20, 31, 32, 34, 36, 37, 39, 40, 41, 42, 47, 52, 53, 56, 58, 60, 63, 64, 65, 66, 67, 69, 75, 80, 82, 86]}"
          },
          "metadata": {}
        }
      ],
      "execution_count": 9
    },
    {
      "cell_type": "code",
      "source": "for x,y in var1:\n    print(x)\n    print(y)\n    print()",
      "metadata": {
        "trusted": true
      },
      "outputs": [
        {
          "name": "stdout",
          "text": "Bangalore\n   Product type      Price  Number of products sold  Revenue generated  \\\n5     Haircare3   1.699976                      147        2828.348746   \n7    Cosmetics1  42.958384                      426        8496.103813   \n13    Skincare7  16.160393                      249        4052.738416   \n15     skincare  36.989245                      469        5442.086785   \n16     skincare   7.547172                      280        6453.797968   \n24     haircare   4.156308                      209        9049.077861   \n26     haircare  97.446947                      353        3716.493326   \n42     skincare  46.529168                      155        1839.609426   \n51     haircare  26.700761                      154        9866.465458   \n63     skincare  13.017377                      246        4256.949141   \n68     haircare  37.931812                      163        3550.218433   \n70     haircare  47.914542                       32        7014.887987   \n71    cosmetics   6.381533                      637        8180.337085   \n72    cosmetics  90.204428                      478        2633.121981   \n76     haircare  69.108800                      241        5328.375984   \n79     haircare  57.057031                      198        7888.723268   \n83     haircare  68.911246                      663        2411.754632   \n90    Skincare1  13.881913                      320        9592.633570   \n\n    Order quantities Shipping carriers  Shipping costs Supplier name  \\\n5                 66         Carrier B        4.444099    Supplier 4   \n7                 11         Carrier B        2.348339    Supplier 4   \n13                48         Carrier A        9.537283    Supplier 5   \n15                69         Carrier B        2.422040    Supplier 1   \n16                78         Carrier B        4.191325    Supplier 1   \n24                 2         Carrier C        9.741292    Supplier 2   \n26                48         Carrier B        6.507549    Supplier 2   \n42                57         Carrier C        7.526248    Supplier 5   \n51                52         Carrier A        4.783001    Supplier 5   \n63                10         Carrier A        2.457934    Supplier 3   \n68                58         Carrier B        1.194252    Supplier 2   \n70                22         Carrier B        6.315718    Supplier 1   \n71                26         Carrier A        9.228190    Supplier 2   \n72                77         Carrier A        6.599614    Supplier 1   \n76                22         Carrier A        7.054538    Supplier 2   \n79                20         Carrier B        6.496325    Supplier 3   \n83                 7         Carrier B        4.949840    Supplier 1   \n90                96         Carrier B        7.674431    Supplier 3   \n\n     Location  Manufacturing costs Transportation modes  \n5   Bangalore            56.766476                 Road  \n7   Bangalore            99.466109                 Road  \n13  Bangalore            97.829050                 Road  \n15  Bangalore            97.121282                  Sea  \n16  Bangalore            77.106342                  Air  \n24  Bangalore            40.382360                  Air  \n26  Bangalore            15.972230                 Rail  \n42  Bangalore            96.422821                 Road  \n51  Bangalore            14.190328                 Road  \n63  Bangalore            20.075004                  Sea  \n68  Bangalore            97.113582                 Rail  \n70  Bangalore            11.440782                 Road  \n71  Bangalore            30.661677                 Road  \n72  Bangalore            55.760493                 Rail  \n76  Bangalore            64.323598                 Rail  \n79  Bangalore            57.870903                  Air  \n83  Bangalore            97.730594                 Road  \n90  Bangalore            85.675963                 Rail  \n\nChennai\n   Product type      Price  Number of products sold  Revenue generated  \\\n9     Skincare4  64.015733                      980        4971.145988   \n17    cosmetics  81.462534                      126        2629.396435   \n19     skincare  51.123870                      187        2553.495585   \n20     skincare  96.341072                      320        8128.027697   \n21    cosmetics  84.893869                      601        7087.052696   \n31     skincare  50.847393                      168        9655.135103   \n33    cosmetics  64.795435                      616        5149.998350   \n34     skincare  37.467592                      602        9061.710896   \n41     skincare  99.113292                      556        5521.205259   \n45     haircare  33.784138                       24        5267.956808   \n46     haircare  27.082207                      859        2556.767361   \n73    cosmetics  83.851018                      375        7910.886916   \n75     skincare  92.996884                      106        1889.073590   \n80     skincare  91.128318                      872        8651.672683   \n84     haircare  89.104367                      618        2048.290100   \n85    cosmetics  76.962994                       25        8684.613059   \n87     haircare  80.414037                       79        5133.846701   \n93    haircare3  69.290831                      114        4531.402134   \n98    Skincare2  19.754605                      913        8525.952560   \n99    haircare3  68.517833                      627        9185.185829   \n\n    Order quantities Shipping carriers  Shipping costs Supplier name Location  \\\n9                 83         Carrier A        7.166645    Supplier 2  Chennai   \n17                85         Carrier C        3.585419    Supplier 1  Chennai   \n19                94         Carrier A        4.742636    Supplier 4  Chennai   \n20                68         Carrier A        8.878335    Supplier 1  Chennai   \n21                 7         Carrier B        6.037884    Supplier 5  Chennai   \n31                44         Carrier B        2.679661    Supplier 3  Chennai   \n33                95         Carrier C        4.858271    Supplier 5  Chennai   \n34                21         Carrier A        1.019488    Supplier 1  Chennai   \n41                38         Carrier B        5.773264    Supplier 4  Chennai   \n45                52         Carrier B        5.215155    Supplier 2  Chennai   \n46                 6         Carrier B        4.070956    Supplier 3  Chennai   \n73                66         Carrier B        1.512937    Supplier 4  Chennai   \n75                56         Carrier C        2.473898    Supplier 1  Chennai   \n80                41         Carrier C        2.833185    Supplier 3  Chennai   \n84                80         Carrier A        8.381616    Supplier 5  Chennai   \n85                66         Carrier C        8.249169    Supplier 5  Chennai   \n87                55         Carrier A        6.575804    Supplier 3  Chennai   \n93                66         Carrier C        7.006432    Supplier 4  Chennai   \n98                27         Carrier B        1.409801    Supplier 5  Chennai   \n99                59         Carrier B        1.311024    Supplier 2  Chennai   \n\n    Manufacturing costs Transportation modes  \n9             47.957602                 Rail  \n17            47.679680                  Air  \n19            82.373321                 Road  \n20            65.686260                  Air  \n21            61.735729                  Air  \n31            60.251146                 Rail  \n33            23.853428                  Sea  \n34            10.754273                 Road  \n41            95.332065                  Sea  \n45            66.312544                 Rail  \n46            77.322353                 Road  \n73            46.870239                 Road  \n75            48.064783                  Air  \n80            76.961228                  Sea  \n84            33.808637                  Air  \n85            69.929346                 Road  \n87            28.696997                  Sea  \n93            35.633652                  Air  \n98             5.604691                 Rail  \n99            38.072899                 Rail  \n\nDelhi\n   Product type      Price  Number of products sold  Revenue generated  \\\n4     Skincare3   4.805496                      871        2686.505152   \n35    cosmetics  84.957787                      449        6541.329345   \n36     skincare   9.813003                      963        7573.402458   \n44    cosmetics  51.355791                      919        7152.286049   \n49    cosmetics  78.897913                       99        8001.613207   \n50    cosmetics  14.203484                      633        5910.885390   \n53     skincare  30.341471                      242        8232.334829   \n55     haircare  79.855058                      701        2925.675170   \n57     haircare  49.263205                      227        1605.866900   \n58     skincare  59.841561                      896        2021.149810   \n64     skincare  89.634096                      134        8458.730878   \n74     haircare   3.170011                      904        5709.945296   \n81     haircare  72.819207                      774        4384.413400   \n91   Cosmetics3  62.111965                      916        1935.206794   \n94   cosmetics4   3.037689                      987        7888.356547   \n\n    Order quantities Shipping carriers  Shipping costs Supplier name Location  \\\n4                 56         Carrier A        3.890548    Supplier 1    Delhi   \n35                85         Carrier C        5.288190    Supplier 1    Delhi   \n36                28         Carrier B        2.107951    Supplier 2    Delhi   \n44                72         Carrier C        7.577450    Supplier 2    Delhi   \n49                 9         Carrier C        2.505621    Supplier 5    Delhi   \n50                82         Carrier A        6.247861    Supplier 2    Delhi   \n53                54         Carrier B        1.013487    Supplier 1    Delhi   \n55                11         Carrier A        5.014365    Supplier 2    Delhi   \n57                51         Carrier B        9.160559    Supplier 2    Delhi   \n58                44         Carrier A        4.938439    Supplier 3    Delhi   \n64                75         Carrier C        4.585353    Supplier 1    Delhi   \n74                 1         Carrier A        5.237655    Supplier 4    Delhi   \n81                 8         Carrier B        4.066278    Supplier 3    Delhi   \n91                85         Carrier B        7.471514    Supplier 4    Delhi   \n94                72         Carrier B        6.942946    Supplier 2    Delhi   \n\n    Manufacturing costs Transportation modes  \n4             92.065161                  Air  \n35            58.004787                  Sea  \n36            45.531364                  Air  \n44            22.554107                 Rail  \n49            14.147815                 Rail  \n50            45.178758                 Rail  \n53            83.344059                  Air  \n55            30.323545                  Sea  \n57            67.779623                 Rail  \n58            65.047415                 Road  \n64             8.693042                  Air  \n74            80.580852                 Rail  \n81            19.789593                 Rail  \n91            39.772883                 Rail  \n94            60.387379                 Rail  \n\nKolkata\n   Product type      Price  Number of products sold  Revenue generated  \\\n3     Skincare2  61.163343                       83        7766.836426   \n6     Skincare4   4.078333                       65        7823.476560   \n10    Skincare5  15.707796                      996        2330.965802   \n11    Skincare6  90.635460                      960        6099.944116   \n12    Haircare4  71.213389                      336        2873.741446   \n14     skincare  99.171329                      562        8653.570926   \n18     haircare  36.443628                      620        9364.673505   \n22     haircare  27.679781                      884        2390.807867   \n23    cosmetics   4.324341                      391        8858.367571   \n25     haircare  39.629344                      142        2174.777054   \n29    cosmetics  63.447559                      253        8318.903195   \n30     haircare   8.022859                      327        2766.342367   \n32     skincare  79.209936                      781        9571.550487   \n37     skincare  23.399845                      963        2438.339930   \n39     skincare  19.127477                      176        1912.465663   \n40     skincare  80.541424                      933        5724.959350   \n47     skincare  95.712136                      910        7089.474250   \n54     haircare  31.146243                      622        6088.021480   \n59    cosmetics  63.828398                      484        1061.618523   \n61     haircare  52.028750                      117        6885.589351   \n65     skincare  33.697717                      457        8354.579686   \n66     skincare  26.034870                      704        8367.721618   \n69     skincare  54.865529                      511        1752.381087   \n77     haircare  57.449743                      359        2483.760178   \n89   Cosmetics2  97.760086                      134        5924.682567   \n\n    Order quantities Shipping carriers  Shipping costs Supplier name Location  \\\n3                 59         Carrier C        1.729569    Supplier 5  Kolkata   \n6                 58         Carrier C        3.880763    Supplier 3  Kolkata   \n10                80         Carrier C        8.673211    Supplier 5  Kolkata   \n11                60         Carrier A        4.523943    Supplier 2  Kolkata   \n12                85         Carrier A        1.325274    Supplier 4  Kolkata   \n14                78         Carrier B        2.039770    Supplier 1  Kolkata   \n18                46         Carrier C        4.339225    Supplier 2  Kolkata   \n22                63         Carrier A        9.567649    Supplier 4  Kolkata   \n23                29         Carrier A        2.924858    Supplier 5  Kolkata   \n25                52         Carrier C        2.231074    Supplier 4  Kolkata   \n29                67         Carrier B        8.100973    Supplier 1  Kolkata   \n30                35         Carrier B        8.954528    Supplier 4  Kolkata   \n32                64         Carrier C        6.599105    Supplier 3  Kolkata   \n37                21         Carrier A        1.532655    Supplier 3  Kolkata   \n39                34         Carrier A        5.562504    Supplier 2  Kolkata   \n40                39         Carrier C        7.229595    Supplier 1  Kolkata   \n47                51         Carrier B        8.978751    Supplier 1  Kolkata   \n54                61         Carrier B        4.305103    Supplier 1  Kolkata   \n59                26         Carrier B        7.293723    Supplier 1  Kolkata   \n61                36         Carrier C        9.030340    Supplier 4  Kolkata   \n65                54         Carrier C        6.580541    Supplier 5  Kolkata   \n66                19         Carrier A        2.216143    Supplier 5  Kolkata   \n69                27         Carrier B        9.705287    Supplier 4  Kolkata   \n77                57         Carrier B        6.780947    Supplier 1  Kolkata   \n89                27         Carrier B        9.929816    Supplier 1  Kolkata   \n\n    Manufacturing costs Transportation modes  \n3             35.624741                 Rail  \n6              1.085069                  Sea  \n10            96.527353                 Road  \n11            27.592363                  Air  \n12            32.321286                 Road  \n14             5.791437                  Air  \n18            27.107981                  Sea  \n22            50.120840                 Rail  \n23            98.609957                 Rail  \n25            78.280383                 Road  \n29            39.292876                 Road  \n30            51.634893                 Road  \n32            29.692467                 Road  \n37            34.343277                  Sea  \n39             9.005807                  Air  \n40            88.179407                 Road  \n47            19.712993                 Rail  \n54            30.186023                 Road  \n59             1.900762                  Air  \n61            78.702394                  Air  \n65             1.597223                 Rail  \n66            42.084437                 Road  \n69            77.627766                  Air  \n77            42.952445                 Road  \n89            46.603873                 Rail  \n\nMumbai\n   Product type      Price  Number of products sold  Revenue generated  \\\n0     Haircare1  69.808006                      802        8661.996792   \n1     Skincare1  14.843523                      736        7460.900065   \n2     Haircare2  11.319683                        8        9577.749626   \n8    Cosmetics2  68.717597                      150        7517.363211   \n27    cosmetics  92.557361                      352        2686.457224   \n28    cosmetics   2.397275                      394        6117.324615   \n38    cosmetics  52.075931                      705        9692.318040   \n43     haircare  11.743272                      598        5737.425599   \n48     haircare  76.035544                       29        7397.071005   \n52     skincare  98.031830                      820        9435.762609   \n56     skincare  20.986386                       93        4767.020484   \n60     skincare  17.028028                      380        8864.084350   \n62    cosmetics  72.796354                      270        3899.746834   \n67     skincare  87.755432                      513        9473.798033   \n78     haircare   6.306883                      946        1292.458418   \n82     skincare  17.034931                      336        2943.381868   \n86     skincare  19.998177                      223        1229.591029   \n88   Cosmetics1  75.270407                      737        9444.742033   \n92   Cosmetics4  47.714233                      276        2100.129755   \n95    Haircare5  77.903927                      672        7386.363944   \n96   cosmetics6  24.423131                      324        7698.424766   \n97    haircare1   3.526111                       62        4370.916580   \n\n    Order quantities Shipping carriers  Shipping costs Supplier name Location  \\\n0                 96         Carrier B        2.956572    Supplier 3   Mumbai   \n1                 37         Carrier A        9.716575    Supplier 3   Mumbai   \n2                 88         Carrier B        8.054479    Supplier 1   Mumbai   \n8                 15         Carrier C        3.404734    Supplier 4   Mumbai   \n27                62         Carrier C        7.406751    Supplier 5   Mumbai   \n28                24         Carrier B        9.898141    Supplier 1   Mumbai   \n38                88         Carrier B        9.235931    Supplier 5   Mumbai   \n43                85         Carrier B        3.694021    Supplier 5   Mumbai   \n48                 9         Carrier C        7.095833    Supplier 2   Mumbai   \n52                11         Carrier B        8.631052    Supplier 1   Mumbai   \n56                83         Carrier C        1.774430    Supplier 1   Mumbai   \n60                72         Carrier C        4.381368    Supplier 4   Mumbai   \n62                40         Carrier C        7.291701    Supplier 2   Mumbai   \n67                71         Carrier C        9.147812    Supplier 1   Mumbai   \n78                51         Carrier B        8.467050    Supplier 5   Mumbai   \n82                72         Carrier A        4.708182    Supplier 2   Mumbai   \n86                22         Carrier B        1.454305    Supplier 1   Mumbai   \n88                85         Carrier A        3.801253    Supplier 2   Mumbai   \n92                10         Carrier B        4.469500    Supplier 2   Mumbai   \n95                26         Carrier B        8.630339    Supplier 4   Mumbai   \n96                32         Carrier C        5.352878    Supplier 3   Mumbai   \n97                 4         Carrier A        7.904846    Supplier 4   Mumbai   \n\n    Manufacturing costs Transportation modes  \n0             46.279879                 Road  \n1             33.616769                 Road  \n2             30.688019                  Air  \n8             11.423027                  Sea  \n27            10.528245                  Sea  \n28            59.429382                  Air  \n38             5.930694                  Air  \n43            26.277366                  Air  \n48            23.126364                 Rail  \n52             9.166849                  Air  \n56            12.836285                  Air  \n60            87.213058                 Rail  \n62            21.048643                  Sea  \n67             7.057876                  Sea  \n78            71.126515                  Sea  \n82             4.465278                 Road  \n86            74.608970                 Rail  \n88            68.184919                  Sea  \n92            62.612690                 Rail  \n95            58.890686                  Air  \n96            17.803756                 Road  \n97            65.765156                 Road  \n\n",
          "output_type": "stream"
        }
      ],
      "execution_count": 16
    },
    {
      "cell_type": "code",
      "source": "var2 = df.groupby(\"Price\")",
      "metadata": {
        "trusted": true
      },
      "outputs": [],
      "execution_count": 18
    },
    {
      "cell_type": "code",
      "source": "var2.min()",
      "metadata": {
        "trusted": true
      },
      "outputs": [
        {
          "execution_count": 19,
          "output_type": "execute_result",
          "data": {
            "text/plain": "          Product type  Number of products sold  Revenue generated  \\\nPrice                                                                \n1.699976     Haircare3                      147        2828.348746   \n2.397275     cosmetics                      394        6117.324615   \n3.037689    cosmetics4                      987        7888.356547   \n3.170011      haircare                      904        5709.945296   \n3.526111     haircare1                       62        4370.916580   \n...                ...                      ...                ...   \n97.446947     haircare                      353        3716.493326   \n97.760086   Cosmetics2                      134        5924.682567   \n98.031830     skincare                      820        9435.762609   \n99.113292     skincare                      556        5521.205259   \n99.171329     skincare                      562        8653.570926   \n\n           Order quantities Shipping carriers  Shipping costs Supplier name  \\\nPrice                                                                         \n1.699976                 66         Carrier B        4.444099    Supplier 4   \n2.397275                 24         Carrier B        9.898141    Supplier 1   \n3.037689                 72         Carrier B        6.942946    Supplier 2   \n3.170011                  1         Carrier A        5.237655    Supplier 4   \n3.526111                  4         Carrier A        7.904846    Supplier 4   \n...                     ...               ...             ...           ...   \n97.446947                48         Carrier B        6.507549    Supplier 2   \n97.760086                27         Carrier B        9.929816    Supplier 1   \n98.031830                11         Carrier B        8.631052    Supplier 1   \n99.113292                38         Carrier B        5.773264    Supplier 4   \n99.171329                78         Carrier B        2.039770    Supplier 1   \n\n            Location  Manufacturing costs Transportation modes  \nPrice                                                           \n1.699976   Bangalore            56.766476                 Road  \n2.397275      Mumbai            59.429382                  Air  \n3.037689       Delhi            60.387379                 Rail  \n3.170011       Delhi            80.580852                 Rail  \n3.526111      Mumbai            65.765156                 Road  \n...              ...                  ...                  ...  \n97.446947  Bangalore            15.972230                 Rail  \n97.760086    Kolkata            46.603873                 Rail  \n98.031830     Mumbai             9.166849                  Air  \n99.113292    Chennai            95.332065                  Sea  \n99.171329    Kolkata             5.791437                  Air  \n\n[100 rows x 10 columns]",
            "text/html": "<div>\n<style scoped>\n    .dataframe tbody tr th:only-of-type {\n        vertical-align: middle;\n    }\n\n    .dataframe tbody tr th {\n        vertical-align: top;\n    }\n\n    .dataframe thead th {\n        text-align: right;\n    }\n</style>\n<table border=\"1\" class=\"dataframe\">\n  <thead>\n    <tr style=\"text-align: right;\">\n      <th></th>\n      <th>Product type</th>\n      <th>Number of products sold</th>\n      <th>Revenue generated</th>\n      <th>Order quantities</th>\n      <th>Shipping carriers</th>\n      <th>Shipping costs</th>\n      <th>Supplier name</th>\n      <th>Location</th>\n      <th>Manufacturing costs</th>\n      <th>Transportation modes</th>\n    </tr>\n    <tr>\n      <th>Price</th>\n      <th></th>\n      <th></th>\n      <th></th>\n      <th></th>\n      <th></th>\n      <th></th>\n      <th></th>\n      <th></th>\n      <th></th>\n      <th></th>\n    </tr>\n  </thead>\n  <tbody>\n    <tr>\n      <th>1.699976</th>\n      <td>Haircare3</td>\n      <td>147</td>\n      <td>2828.348746</td>\n      <td>66</td>\n      <td>Carrier B</td>\n      <td>4.444099</td>\n      <td>Supplier 4</td>\n      <td>Bangalore</td>\n      <td>56.766476</td>\n      <td>Road</td>\n    </tr>\n    <tr>\n      <th>2.397275</th>\n      <td>cosmetics</td>\n      <td>394</td>\n      <td>6117.324615</td>\n      <td>24</td>\n      <td>Carrier B</td>\n      <td>9.898141</td>\n      <td>Supplier 1</td>\n      <td>Mumbai</td>\n      <td>59.429382</td>\n      <td>Air</td>\n    </tr>\n    <tr>\n      <th>3.037689</th>\n      <td>cosmetics4</td>\n      <td>987</td>\n      <td>7888.356547</td>\n      <td>72</td>\n      <td>Carrier B</td>\n      <td>6.942946</td>\n      <td>Supplier 2</td>\n      <td>Delhi</td>\n      <td>60.387379</td>\n      <td>Rail</td>\n    </tr>\n    <tr>\n      <th>3.170011</th>\n      <td>haircare</td>\n      <td>904</td>\n      <td>5709.945296</td>\n      <td>1</td>\n      <td>Carrier A</td>\n      <td>5.237655</td>\n      <td>Supplier 4</td>\n      <td>Delhi</td>\n      <td>80.580852</td>\n      <td>Rail</td>\n    </tr>\n    <tr>\n      <th>3.526111</th>\n      <td>haircare1</td>\n      <td>62</td>\n      <td>4370.916580</td>\n      <td>4</td>\n      <td>Carrier A</td>\n      <td>7.904846</td>\n      <td>Supplier 4</td>\n      <td>Mumbai</td>\n      <td>65.765156</td>\n      <td>Road</td>\n    </tr>\n    <tr>\n      <th>...</th>\n      <td>...</td>\n      <td>...</td>\n      <td>...</td>\n      <td>...</td>\n      <td>...</td>\n      <td>...</td>\n      <td>...</td>\n      <td>...</td>\n      <td>...</td>\n      <td>...</td>\n    </tr>\n    <tr>\n      <th>97.446947</th>\n      <td>haircare</td>\n      <td>353</td>\n      <td>3716.493326</td>\n      <td>48</td>\n      <td>Carrier B</td>\n      <td>6.507549</td>\n      <td>Supplier 2</td>\n      <td>Bangalore</td>\n      <td>15.972230</td>\n      <td>Rail</td>\n    </tr>\n    <tr>\n      <th>97.760086</th>\n      <td>Cosmetics2</td>\n      <td>134</td>\n      <td>5924.682567</td>\n      <td>27</td>\n      <td>Carrier B</td>\n      <td>9.929816</td>\n      <td>Supplier 1</td>\n      <td>Kolkata</td>\n      <td>46.603873</td>\n      <td>Rail</td>\n    </tr>\n    <tr>\n      <th>98.031830</th>\n      <td>skincare</td>\n      <td>820</td>\n      <td>9435.762609</td>\n      <td>11</td>\n      <td>Carrier B</td>\n      <td>8.631052</td>\n      <td>Supplier 1</td>\n      <td>Mumbai</td>\n      <td>9.166849</td>\n      <td>Air</td>\n    </tr>\n    <tr>\n      <th>99.113292</th>\n      <td>skincare</td>\n      <td>556</td>\n      <td>5521.205259</td>\n      <td>38</td>\n      <td>Carrier B</td>\n      <td>5.773264</td>\n      <td>Supplier 4</td>\n      <td>Chennai</td>\n      <td>95.332065</td>\n      <td>Sea</td>\n    </tr>\n    <tr>\n      <th>99.171329</th>\n      <td>skincare</td>\n      <td>562</td>\n      <td>8653.570926</td>\n      <td>78</td>\n      <td>Carrier B</td>\n      <td>2.039770</td>\n      <td>Supplier 1</td>\n      <td>Kolkata</td>\n      <td>5.791437</td>\n      <td>Air</td>\n    </tr>\n  </tbody>\n</table>\n<p>100 rows × 10 columns</p>\n</div>"
          },
          "metadata": {}
        }
      ],
      "execution_count": 19
    },
    {
      "cell_type": "code",
      "source": "var2.mean()",
      "metadata": {
        "trusted": true
      },
      "outputs": [
        {
          "name": "stderr",
          "text": "<ipython-input-21-80b12959ab4f>:1: FutureWarning: The default value of numeric_only in DataFrameGroupBy.mean is deprecated. In a future version, numeric_only will default to False. Either specify numeric_only or select only columns which should be valid for the function.\n  var2.mean()\n",
          "output_type": "stream"
        },
        {
          "execution_count": 21,
          "output_type": "execute_result",
          "data": {
            "text/plain": "           Number of products sold  Revenue generated  Order quantities  \\\nPrice                                                                     \n1.699976                     147.0        2828.348746              66.0   \n2.397275                     394.0        6117.324615              24.0   \n3.037689                     987.0        7888.356547              72.0   \n3.170011                     904.0        5709.945296               1.0   \n3.526111                      62.0        4370.916580               4.0   \n...                            ...                ...               ...   \n97.446947                    353.0        3716.493326              48.0   \n97.760086                    134.0        5924.682567              27.0   \n98.031830                    820.0        9435.762609              11.0   \n99.113292                    556.0        5521.205259              38.0   \n99.171329                    562.0        8653.570926              78.0   \n\n           Shipping costs  Manufacturing costs  \nPrice                                           \n1.699976         4.444099            56.766476  \n2.397275         9.898141            59.429382  \n3.037689         6.942946            60.387379  \n3.170011         5.237655            80.580852  \n3.526111         7.904846            65.765156  \n...                   ...                  ...  \n97.446947        6.507549            15.972230  \n97.760086        9.929816            46.603873  \n98.031830        8.631052             9.166849  \n99.113292        5.773264            95.332065  \n99.171329        2.039770             5.791437  \n\n[100 rows x 5 columns]",
            "text/html": "<div>\n<style scoped>\n    .dataframe tbody tr th:only-of-type {\n        vertical-align: middle;\n    }\n\n    .dataframe tbody tr th {\n        vertical-align: top;\n    }\n\n    .dataframe thead th {\n        text-align: right;\n    }\n</style>\n<table border=\"1\" class=\"dataframe\">\n  <thead>\n    <tr style=\"text-align: right;\">\n      <th></th>\n      <th>Number of products sold</th>\n      <th>Revenue generated</th>\n      <th>Order quantities</th>\n      <th>Shipping costs</th>\n      <th>Manufacturing costs</th>\n    </tr>\n    <tr>\n      <th>Price</th>\n      <th></th>\n      <th></th>\n      <th></th>\n      <th></th>\n      <th></th>\n    </tr>\n  </thead>\n  <tbody>\n    <tr>\n      <th>1.699976</th>\n      <td>147.0</td>\n      <td>2828.348746</td>\n      <td>66.0</td>\n      <td>4.444099</td>\n      <td>56.766476</td>\n    </tr>\n    <tr>\n      <th>2.397275</th>\n      <td>394.0</td>\n      <td>6117.324615</td>\n      <td>24.0</td>\n      <td>9.898141</td>\n      <td>59.429382</td>\n    </tr>\n    <tr>\n      <th>3.037689</th>\n      <td>987.0</td>\n      <td>7888.356547</td>\n      <td>72.0</td>\n      <td>6.942946</td>\n      <td>60.387379</td>\n    </tr>\n    <tr>\n      <th>3.170011</th>\n      <td>904.0</td>\n      <td>5709.945296</td>\n      <td>1.0</td>\n      <td>5.237655</td>\n      <td>80.580852</td>\n    </tr>\n    <tr>\n      <th>3.526111</th>\n      <td>62.0</td>\n      <td>4370.916580</td>\n      <td>4.0</td>\n      <td>7.904846</td>\n      <td>65.765156</td>\n    </tr>\n    <tr>\n      <th>...</th>\n      <td>...</td>\n      <td>...</td>\n      <td>...</td>\n      <td>...</td>\n      <td>...</td>\n    </tr>\n    <tr>\n      <th>97.446947</th>\n      <td>353.0</td>\n      <td>3716.493326</td>\n      <td>48.0</td>\n      <td>6.507549</td>\n      <td>15.972230</td>\n    </tr>\n    <tr>\n      <th>97.760086</th>\n      <td>134.0</td>\n      <td>5924.682567</td>\n      <td>27.0</td>\n      <td>9.929816</td>\n      <td>46.603873</td>\n    </tr>\n    <tr>\n      <th>98.031830</th>\n      <td>820.0</td>\n      <td>9435.762609</td>\n      <td>11.0</td>\n      <td>8.631052</td>\n      <td>9.166849</td>\n    </tr>\n    <tr>\n      <th>99.113292</th>\n      <td>556.0</td>\n      <td>5521.205259</td>\n      <td>38.0</td>\n      <td>5.773264</td>\n      <td>95.332065</td>\n    </tr>\n    <tr>\n      <th>99.171329</th>\n      <td>562.0</td>\n      <td>8653.570926</td>\n      <td>78.0</td>\n      <td>2.039770</td>\n      <td>5.791437</td>\n    </tr>\n  </tbody>\n</table>\n<p>100 rows × 5 columns</p>\n</div>"
          },
          "metadata": {}
        }
      ],
      "execution_count": 21
    },
    {
      "cell_type": "code",
      "source": "import pandas as pd\ndf = pd.read_csv(\"Sampledata.csv\")\n\nvar3 = df.loc[:, [\"Product type\", \"Price\", \"Revenue generated\", \"Order quantities\"]]\nvar4 = var3.groupby(\"Product type\")",
      "metadata": {
        "trusted": true
      },
      "outputs": [],
      "execution_count": 70
    },
    {
      "cell_type": "code",
      "source": "var4.max()",
      "metadata": {
        "trusted": true
      },
      "outputs": [
        {
          "execution_count": 71,
          "output_type": "execute_result",
          "data": {
            "text/plain": "                  Price  Revenue generated  Order quantities\nProduct type                                                \nCosmetics1    75.270407        9444.742033                85\nCosmetics2    97.760086        7517.363211                27\nCosmetics3    62.111965        1935.206794                85\nCosmetics4    47.714233        2100.129755                10\nHaircare1     69.808006        8661.996792                96\nHaircare2     11.319683        9577.749626                88\nHaircare3      1.699976        2828.348746                66\nHaircare4     71.213389        2873.741446                85\nHaircare5     77.903927        7386.363944                26\nSkincare1     14.843523        9592.633570                96\nSkincare2     61.163343        8525.952560                59\nSkincare3      4.805496        2686.505152                56\nSkincare4     64.015733        7823.476560                83\nSkincare5     15.707796        2330.965802                80\nSkincare6     90.635460        6099.944116                60\nSkincare7     16.160393        4052.738416                48\ncosmetics     92.557361        9692.318040                95\ncosmetics4     3.037689        7888.356547                72\ncosmetics6    24.423131        7698.424766                32\nhaircare      97.446947        9866.465458                85\nhaircare1      3.526111        4370.916580                 4\nhaircare3     69.290831        9185.185829                66\nskincare      99.171329        9655.135103                94",
            "text/html": "<div>\n<style scoped>\n    .dataframe tbody tr th:only-of-type {\n        vertical-align: middle;\n    }\n\n    .dataframe tbody tr th {\n        vertical-align: top;\n    }\n\n    .dataframe thead th {\n        text-align: right;\n    }\n</style>\n<table border=\"1\" class=\"dataframe\">\n  <thead>\n    <tr style=\"text-align: right;\">\n      <th></th>\n      <th>Price</th>\n      <th>Revenue generated</th>\n      <th>Order quantities</th>\n    </tr>\n    <tr>\n      <th>Product type</th>\n      <th></th>\n      <th></th>\n      <th></th>\n    </tr>\n  </thead>\n  <tbody>\n    <tr>\n      <th>Cosmetics1</th>\n      <td>75.270407</td>\n      <td>9444.742033</td>\n      <td>85</td>\n    </tr>\n    <tr>\n      <th>Cosmetics2</th>\n      <td>97.760086</td>\n      <td>7517.363211</td>\n      <td>27</td>\n    </tr>\n    <tr>\n      <th>Cosmetics3</th>\n      <td>62.111965</td>\n      <td>1935.206794</td>\n      <td>85</td>\n    </tr>\n    <tr>\n      <th>Cosmetics4</th>\n      <td>47.714233</td>\n      <td>2100.129755</td>\n      <td>10</td>\n    </tr>\n    <tr>\n      <th>Haircare1</th>\n      <td>69.808006</td>\n      <td>8661.996792</td>\n      <td>96</td>\n    </tr>\n    <tr>\n      <th>Haircare2</th>\n      <td>11.319683</td>\n      <td>9577.749626</td>\n      <td>88</td>\n    </tr>\n    <tr>\n      <th>Haircare3</th>\n      <td>1.699976</td>\n      <td>2828.348746</td>\n      <td>66</td>\n    </tr>\n    <tr>\n      <th>Haircare4</th>\n      <td>71.213389</td>\n      <td>2873.741446</td>\n      <td>85</td>\n    </tr>\n    <tr>\n      <th>Haircare5</th>\n      <td>77.903927</td>\n      <td>7386.363944</td>\n      <td>26</td>\n    </tr>\n    <tr>\n      <th>Skincare1</th>\n      <td>14.843523</td>\n      <td>9592.633570</td>\n      <td>96</td>\n    </tr>\n    <tr>\n      <th>Skincare2</th>\n      <td>61.163343</td>\n      <td>8525.952560</td>\n      <td>59</td>\n    </tr>\n    <tr>\n      <th>Skincare3</th>\n      <td>4.805496</td>\n      <td>2686.505152</td>\n      <td>56</td>\n    </tr>\n    <tr>\n      <th>Skincare4</th>\n      <td>64.015733</td>\n      <td>7823.476560</td>\n      <td>83</td>\n    </tr>\n    <tr>\n      <th>Skincare5</th>\n      <td>15.707796</td>\n      <td>2330.965802</td>\n      <td>80</td>\n    </tr>\n    <tr>\n      <th>Skincare6</th>\n      <td>90.635460</td>\n      <td>6099.944116</td>\n      <td>60</td>\n    </tr>\n    <tr>\n      <th>Skincare7</th>\n      <td>16.160393</td>\n      <td>4052.738416</td>\n      <td>48</td>\n    </tr>\n    <tr>\n      <th>cosmetics</th>\n      <td>92.557361</td>\n      <td>9692.318040</td>\n      <td>95</td>\n    </tr>\n    <tr>\n      <th>cosmetics4</th>\n      <td>3.037689</td>\n      <td>7888.356547</td>\n      <td>72</td>\n    </tr>\n    <tr>\n      <th>cosmetics6</th>\n      <td>24.423131</td>\n      <td>7698.424766</td>\n      <td>32</td>\n    </tr>\n    <tr>\n      <th>haircare</th>\n      <td>97.446947</td>\n      <td>9866.465458</td>\n      <td>85</td>\n    </tr>\n    <tr>\n      <th>haircare1</th>\n      <td>3.526111</td>\n      <td>4370.916580</td>\n      <td>4</td>\n    </tr>\n    <tr>\n      <th>haircare3</th>\n      <td>69.290831</td>\n      <td>9185.185829</td>\n      <td>66</td>\n    </tr>\n    <tr>\n      <th>skincare</th>\n      <td>99.171329</td>\n      <td>9655.135103</td>\n      <td>94</td>\n    </tr>\n  </tbody>\n</table>\n</div>"
          },
          "metadata": {}
        }
      ],
      "execution_count": 71
    },
    {
      "cell_type": "code",
      "source": "for x,y in grouped_var3:\n    print(x)\n    print(y)\n    print()",
      "metadata": {
        "trusted": true
      },
      "outputs": [
        {
          "name": "stdout",
          "text": "1.699976014\n  Product type     Price  Revenue generated  Order quantities\n5    Haircare3  1.699976        2828.348746                66\n\n2.397274706\n   Product type     Price  Revenue generated  Order quantities\n28    cosmetics  2.397275        6117.324615                24\n\n3.037688725\n   Product type     Price  Revenue generated  Order quantities\n94   cosmetics4  3.037689        7888.356547                72\n\n3.170011414\n   Product type     Price  Revenue generated  Order quantities\n74     haircare  3.170011        5709.945296                 1\n\n3.526111259\n   Product type     Price  Revenue generated  Order quantities\n97    haircare1  3.526111         4370.91658                 4\n\n4.078332863\n  Product type     Price  Revenue generated  Order quantities\n6    Skincare4  4.078333         7823.47656                58\n\n4.156308359\n   Product type     Price  Revenue generated  Order quantities\n24     haircare  4.156308        9049.077861                 2\n\n4.324341186\n   Product type     Price  Revenue generated  Order quantities\n23    cosmetics  4.324341        8858.367571                29\n\n4.805496036\n  Product type     Price  Revenue generated  Order quantities\n4    Skincare3  4.805496        2686.505152                56\n\n6.306883176\n   Product type     Price  Revenue generated  Order quantities\n78     haircare  6.306883        1292.458418                51\n\n6.381533163\n   Product type     Price  Revenue generated  Order quantities\n71    cosmetics  6.381533        8180.337085                26\n\n7.54717211\n   Product type     Price  Revenue generated  Order quantities\n16     skincare  7.547172        6453.797968                78\n\n8.022859211\n   Product type     Price  Revenue generated  Order quantities\n30     haircare  8.022859        2766.342367                35\n\n9.813002579\n   Product type     Price  Revenue generated  Order quantities\n36     skincare  9.813003        7573.402458                28\n\n11.31968329\n  Product type      Price  Revenue generated  Order quantities\n2    Haircare2  11.319683        9577.749626                88\n\n11.74327178\n   Product type      Price  Revenue generated  Order quantities\n43     haircare  11.743272        5737.425599                85\n\n13.01737679\n   Product type      Price  Revenue generated  Order quantities\n63     skincare  13.017377        4256.949141                10\n\n13.8819135\n   Product type      Price  Revenue generated  Order quantities\n90    Skincare1  13.881913         9592.63357                96\n\n14.20348426\n   Product type      Price  Revenue generated  Order quantities\n50    cosmetics  14.203484         5910.88539                82\n\n14.84352328\n  Product type      Price  Revenue generated  Order quantities\n1    Skincare1  14.843523        7460.900065                37\n\n15.70779568\n   Product type      Price  Revenue generated  Order quantities\n10    Skincare5  15.707796        2330.965802                80\n\n16.16039332\n   Product type      Price  Revenue generated  Order quantities\n13    Skincare7  16.160393        4052.738416                48\n\n17.02802792\n   Product type      Price  Revenue generated  Order quantities\n60     skincare  17.028028         8864.08435                72\n\n17.03493074\n   Product type      Price  Revenue generated  Order quantities\n82     skincare  17.034931        2943.381868                72\n\n19.12747727\n   Product type      Price  Revenue generated  Order quantities\n39     skincare  19.127477        1912.465663                34\n\n19.75460487\n   Product type      Price  Revenue generated  Order quantities\n98    Skincare2  19.754605         8525.95256                27\n\n19.99817694\n   Product type      Price  Revenue generated  Order quantities\n86     skincare  19.998177        1229.591029                22\n\n20.98638604\n   Product type      Price  Revenue generated  Order quantities\n56     skincare  20.986386        4767.020484                83\n\n23.39984475\n   Product type      Price  Revenue generated  Order quantities\n37     skincare  23.399845         2438.33993                21\n\n24.42313142\n   Product type      Price  Revenue generated  Order quantities\n96   cosmetics6  24.423131        7698.424766                32\n\n26.03486977\n   Product type     Price  Revenue generated  Order quantities\n66     skincare  26.03487        8367.721618                19\n\n26.70076097\n   Product type      Price  Revenue generated  Order quantities\n51     haircare  26.700761        9866.465458                52\n\n27.0822072\n   Product type      Price  Revenue generated  Order quantities\n46     haircare  27.082207        2556.767361                 6\n\n27.67978089\n   Product type      Price  Revenue generated  Order quantities\n22     haircare  27.679781        2390.807867                63\n\n30.34147071\n   Product type      Price  Revenue generated  Order quantities\n53     skincare  30.341471        8232.334829                54\n\n31.14624316\n   Product type      Price  Revenue generated  Order quantities\n54     haircare  31.146243         6088.02148                61\n\n33.69771721\n   Product type      Price  Revenue generated  Order quantities\n65     skincare  33.697717        8354.579686                54\n\n33.78413803\n   Product type      Price  Revenue generated  Order quantities\n45     haircare  33.784138        5267.956808                52\n\n36.44362777\n   Product type      Price  Revenue generated  Order quantities\n18     haircare  36.443628        9364.673505                46\n\n36.98924493\n   Product type      Price  Revenue generated  Order quantities\n15     skincare  36.989245        5442.086785                69\n\n37.46759233\n   Product type      Price  Revenue generated  Order quantities\n34     skincare  37.467592        9061.710896                21\n\n37.93181238\n   Product type      Price  Revenue generated  Order quantities\n68     haircare  37.931812        3550.218433                58\n\n39.62934399\n   Product type      Price  Revenue generated  Order quantities\n25     haircare  39.629344        2174.777054                52\n\n42.95838438\n  Product type      Price  Revenue generated  Order quantities\n7   Cosmetics1  42.958384        8496.103813                11\n\n46.52916761\n   Product type      Price  Revenue generated  Order quantities\n42     skincare  46.529168        1839.609426                57\n\n47.71423308\n   Product type      Price  Revenue generated  Order quantities\n92   Cosmetics4  47.714233        2100.129755                10\n\n47.91454182\n   Product type      Price  Revenue generated  Order quantities\n70     haircare  47.914542        7014.887987                22\n\n49.26320535\n   Product type      Price  Revenue generated  Order quantities\n57     haircare  49.263205          1605.8669                51\n\n50.84739305\n   Product type      Price  Revenue generated  Order quantities\n31     skincare  50.847393        9655.135103                44\n\n51.12387009\n   Product type     Price  Revenue generated  Order quantities\n19     skincare  51.12387        2553.495585                94\n\n51.35579091\n   Product type      Price  Revenue generated  Order quantities\n44    cosmetics  51.355791        7152.286049                72\n\n52.0287499\n   Product type     Price  Revenue generated  Order quantities\n61     haircare  52.02875        6885.589351                36\n\n52.07593068\n   Product type      Price  Revenue generated  Order quantities\n38    cosmetics  52.075931         9692.31804                88\n\n54.86552852\n   Product type      Price  Revenue generated  Order quantities\n69     skincare  54.865529        1752.381087                27\n\n57.05703122\n   Product type      Price  Revenue generated  Order quantities\n79     haircare  57.057031        7888.723268                20\n\n57.44974296\n   Product type      Price  Revenue generated  Order quantities\n77     haircare  57.449743        2483.760178                57\n\n59.84156138\n   Product type      Price  Revenue generated  Order quantities\n58     skincare  59.841561         2021.14981                44\n\n61.16334302\n  Product type      Price  Revenue generated  Order quantities\n3    Skincare2  61.163343        7766.836426                59\n\n62.11196546\n   Product type      Price  Revenue generated  Order quantities\n91   Cosmetics3  62.111965        1935.206794                85\n\n63.44755919\n   Product type      Price  Revenue generated  Order quantities\n29    cosmetics  63.447559        8318.903195                67\n\n63.82839835\n   Product type      Price  Revenue generated  Order quantities\n59    cosmetics  63.828398        1061.618523                26\n\n64.01573294\n  Product type      Price  Revenue generated  Order quantities\n9    Skincare4  64.015733        4971.145988                83\n\n64.795435\n   Product type      Price  Revenue generated  Order quantities\n33    cosmetics  64.795435         5149.99835                95\n\n68.5178327\n   Product type      Price  Revenue generated  Order quantities\n99    haircare3  68.517833        9185.185829                59\n\n68.71759675\n  Product type      Price  Revenue generated  Order quantities\n8   Cosmetics2  68.717597        7517.363211                15\n\n68.91124621\n   Product type      Price  Revenue generated  Order quantities\n83     haircare  68.911246        2411.754632                 7\n\n69.10879955\n   Product type    Price  Revenue generated  Order quantities\n76     haircare  69.1088        5328.375984                22\n\n69.290831\n   Product type      Price  Revenue generated  Order quantities\n93    haircare3  69.290831        4531.402134                66\n\n69.80800554\n  Product type      Price  Revenue generated  Order quantities\n0    Haircare1  69.808006        8661.996792                96\n\n71.21338908\n   Product type      Price  Revenue generated  Order quantities\n12    Haircare4  71.213389        2873.741446                85\n\n72.79635396\n   Product type      Price  Revenue generated  Order quantities\n62    cosmetics  72.796354        3899.746834                40\n\n72.81920693\n   Product type      Price  Revenue generated  Order quantities\n81     haircare  72.819207          4384.4134                 8\n\n75.27040698\n   Product type      Price  Revenue generated  Order quantities\n88   Cosmetics1  75.270407        9444.742033                85\n\n76.03554443\n   Product type      Price  Revenue generated  Order quantities\n48     haircare  76.035544        7397.071005                 9\n\n76.96299442\n   Product type      Price  Revenue generated  Order quantities\n85    cosmetics  76.962994        8684.613059                66\n\n77.90392722\n   Product type      Price  Revenue generated  Order quantities\n95    Haircare5  77.903927        7386.363944                26\n\n78.89791321\n   Product type      Price  Revenue generated  Order quantities\n49    cosmetics  78.897913        8001.613207                 9\n\n79.20993602\n   Product type      Price  Revenue generated  Order quantities\n32     skincare  79.209936        9571.550487                64\n\n79.85505834\n   Product type      Price  Revenue generated  Order quantities\n55     haircare  79.855058         2925.67517                11\n\n80.41403665\n   Product type      Price  Revenue generated  Order quantities\n87     haircare  80.414037        5133.846701                55\n\n80.54142417\n   Product type      Price  Revenue generated  Order quantities\n40     skincare  80.541424         5724.95935                39\n\n81.46253437\n   Product type      Price  Revenue generated  Order quantities\n17    cosmetics  81.462534        2629.396435                85\n\n83.85101768\n   Product type      Price  Revenue generated  Order quantities\n73    cosmetics  83.851018        7910.886916                66\n\n84.89386898\n   Product type      Price  Revenue generated  Order quantities\n21    cosmetics  84.893869        7087.052696                 7\n\n84.95778682\n   Product type      Price  Revenue generated  Order quantities\n35    cosmetics  84.957787        6541.329345                85\n\n87.75543235\n   Product type      Price  Revenue generated  Order quantities\n67     skincare  87.755432        9473.798033                71\n\n89.10436729\n   Product type      Price  Revenue generated  Order quantities\n84     haircare  89.104367          2048.2901                80\n\n89.63409561\n   Product type      Price  Revenue generated  Order quantities\n64     skincare  89.634096        8458.730878                75\n\n90.20442752\n   Product type      Price  Revenue generated  Order quantities\n72    cosmetics  90.204428        2633.121981                77\n\n90.63545998\n   Product type     Price  Revenue generated  Order quantities\n11    Skincare6  90.63546        6099.944116                60\n\n91.12831835\n   Product type      Price  Revenue generated  Order quantities\n80     skincare  91.128318        8651.672683                41\n\n92.55736081\n   Product type      Price  Revenue generated  Order quantities\n27    cosmetics  92.557361        2686.457224                62\n\n92.99688423\n   Product type      Price  Revenue generated  Order quantities\n75     skincare  92.996884         1889.07359                56\n\n95.71213588\n   Product type      Price  Revenue generated  Order quantities\n47     skincare  95.712136         7089.47425                51\n\n96.34107244\n   Product type      Price  Revenue generated  Order quantities\n20     skincare  96.341072        8128.027697                68\n\n97.44694662\n   Product type      Price  Revenue generated  Order quantities\n26     haircare  97.446947        3716.493326                48\n\n97.76008558\n   Product type      Price  Revenue generated  Order quantities\n89   Cosmetics2  97.760086        5924.682567                27\n\n98.03182966\n   Product type     Price  Revenue generated  Order quantities\n52     skincare  98.03183        9435.762609                11\n\n99.11329162\n   Product type      Price  Revenue generated  Order quantities\n41     skincare  99.113292        5521.205259                38\n\n99.17132864\n   Product type      Price  Revenue generated  Order quantities\n14     skincare  99.171329        8653.570926                78\n\n",
          "output_type": "stream"
        }
      ],
      "execution_count": 72
    }
  ]
}